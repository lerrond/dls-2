{
  "nbformat": 4,
  "nbformat_minor": 0,
  "metadata": {
    "kernelspec": {
      "display_name": "Python 3",
      "name": "python3"
    },
    "language_info": {
      "codemirror_mode": {
        "name": "ipython",
        "version": 3
      },
      "file_extension": ".py",
      "mimetype": "text/x-python",
      "name": "python",
      "nbconvert_exporter": "python",
      "pygments_lexer": "ipython3",
      "version": "3.7.2"
    },
    "colab": {
      "provenance": []
    },
    "widgets": {
      "application/vnd.jupyter.widget-state+json": {
        "708cf000d2214de6b41d3e2389ae491e": {
          "model_module": "@jupyter-widgets/controls",
          "model_name": "HBoxModel",
          "model_module_version": "1.5.0",
          "state": {
            "_dom_classes": [],
            "_model_module": "@jupyter-widgets/controls",
            "_model_module_version": "1.5.0",
            "_model_name": "HBoxModel",
            "_view_count": null,
            "_view_module": "@jupyter-widgets/controls",
            "_view_module_version": "1.5.0",
            "_view_name": "HBoxView",
            "box_style": "",
            "children": [
              "IPY_MODEL_4f977377848146e19baac529bd79169a",
              "IPY_MODEL_17015316d98447de881c2c48116f043f",
              "IPY_MODEL_bdf2cb5941f842fc9beb791b37bc089c"
            ],
            "layout": "IPY_MODEL_2d42443b92ce492e9d9099ed99f4ae18"
          }
        },
        "4f977377848146e19baac529bd79169a": {
          "model_module": "@jupyter-widgets/controls",
          "model_name": "HTMLModel",
          "model_module_version": "1.5.0",
          "state": {
            "_dom_classes": [],
            "_model_module": "@jupyter-widgets/controls",
            "_model_module_version": "1.5.0",
            "_model_name": "HTMLModel",
            "_view_count": null,
            "_view_module": "@jupyter-widgets/controls",
            "_view_module_version": "1.5.0",
            "_view_name": "HTMLView",
            "description": "",
            "description_tooltip": null,
            "layout": "IPY_MODEL_404cb48052834f53aa217a4f33dda55a",
            "placeholder": "​",
            "style": "IPY_MODEL_898ae2ea0d724a13b569baf0431b2747",
            "value": " 51%"
          }
        },
        "17015316d98447de881c2c48116f043f": {
          "model_module": "@jupyter-widgets/controls",
          "model_name": "FloatProgressModel",
          "model_module_version": "1.5.0",
          "state": {
            "_dom_classes": [],
            "_model_module": "@jupyter-widgets/controls",
            "_model_module_version": "1.5.0",
            "_model_name": "FloatProgressModel",
            "_view_count": null,
            "_view_module": "@jupyter-widgets/controls",
            "_view_module_version": "1.5.0",
            "_view_name": "ProgressView",
            "bar_style": "danger",
            "description": "",
            "description_tooltip": null,
            "layout": "IPY_MODEL_70645f55e12e4da8a11fd60435b2f012",
            "max": 1958,
            "min": 0,
            "orientation": "horizontal",
            "style": "IPY_MODEL_5e30027bd03c44aabaa8d7352a13eb90",
            "value": 1000
          }
        },
        "bdf2cb5941f842fc9beb791b37bc089c": {
          "model_module": "@jupyter-widgets/controls",
          "model_name": "HTMLModel",
          "model_module_version": "1.5.0",
          "state": {
            "_dom_classes": [],
            "_model_module": "@jupyter-widgets/controls",
            "_model_module_version": "1.5.0",
            "_model_name": "HTMLModel",
            "_view_count": null,
            "_view_module": "@jupyter-widgets/controls",
            "_view_module_version": "1.5.0",
            "_view_name": "HTMLView",
            "description": "",
            "description_tooltip": null,
            "layout": "IPY_MODEL_5af426e3979e4da99097af4116067534",
            "placeholder": "​",
            "style": "IPY_MODEL_e88d1fd87adf4992abfc6f56f3cd6a09",
            "value": " 1000/1958 [08:42&lt;07:37,  2.09it/s]"
          }
        },
        "2d42443b92ce492e9d9099ed99f4ae18": {
          "model_module": "@jupyter-widgets/base",
          "model_name": "LayoutModel",
          "model_module_version": "1.2.0",
          "state": {
            "_model_module": "@jupyter-widgets/base",
            "_model_module_version": "1.2.0",
            "_model_name": "LayoutModel",
            "_view_count": null,
            "_view_module": "@jupyter-widgets/base",
            "_view_module_version": "1.2.0",
            "_view_name": "LayoutView",
            "align_content": null,
            "align_items": null,
            "align_self": null,
            "border": null,
            "bottom": null,
            "display": null,
            "flex": null,
            "flex_flow": null,
            "grid_area": null,
            "grid_auto_columns": null,
            "grid_auto_flow": null,
            "grid_auto_rows": null,
            "grid_column": null,
            "grid_gap": null,
            "grid_row": null,
            "grid_template_areas": null,
            "grid_template_columns": null,
            "grid_template_rows": null,
            "height": null,
            "justify_content": null,
            "justify_items": null,
            "left": null,
            "margin": null,
            "max_height": null,
            "max_width": null,
            "min_height": null,
            "min_width": null,
            "object_fit": null,
            "object_position": null,
            "order": null,
            "overflow": null,
            "overflow_x": null,
            "overflow_y": null,
            "padding": null,
            "right": null,
            "top": null,
            "visibility": null,
            "width": null
          }
        },
        "404cb48052834f53aa217a4f33dda55a": {
          "model_module": "@jupyter-widgets/base",
          "model_name": "LayoutModel",
          "model_module_version": "1.2.0",
          "state": {
            "_model_module": "@jupyter-widgets/base",
            "_model_module_version": "1.2.0",
            "_model_name": "LayoutModel",
            "_view_count": null,
            "_view_module": "@jupyter-widgets/base",
            "_view_module_version": "1.2.0",
            "_view_name": "LayoutView",
            "align_content": null,
            "align_items": null,
            "align_self": null,
            "border": null,
            "bottom": null,
            "display": null,
            "flex": null,
            "flex_flow": null,
            "grid_area": null,
            "grid_auto_columns": null,
            "grid_auto_flow": null,
            "grid_auto_rows": null,
            "grid_column": null,
            "grid_gap": null,
            "grid_row": null,
            "grid_template_areas": null,
            "grid_template_columns": null,
            "grid_template_rows": null,
            "height": null,
            "justify_content": null,
            "justify_items": null,
            "left": null,
            "margin": null,
            "max_height": null,
            "max_width": null,
            "min_height": null,
            "min_width": null,
            "object_fit": null,
            "object_position": null,
            "order": null,
            "overflow": null,
            "overflow_x": null,
            "overflow_y": null,
            "padding": null,
            "right": null,
            "top": null,
            "visibility": null,
            "width": null
          }
        },
        "898ae2ea0d724a13b569baf0431b2747": {
          "model_module": "@jupyter-widgets/controls",
          "model_name": "DescriptionStyleModel",
          "model_module_version": "1.5.0",
          "state": {
            "_model_module": "@jupyter-widgets/controls",
            "_model_module_version": "1.5.0",
            "_model_name": "DescriptionStyleModel",
            "_view_count": null,
            "_view_module": "@jupyter-widgets/base",
            "_view_module_version": "1.2.0",
            "_view_name": "StyleView",
            "description_width": ""
          }
        },
        "70645f55e12e4da8a11fd60435b2f012": {
          "model_module": "@jupyter-widgets/base",
          "model_name": "LayoutModel",
          "model_module_version": "1.2.0",
          "state": {
            "_model_module": "@jupyter-widgets/base",
            "_model_module_version": "1.2.0",
            "_model_name": "LayoutModel",
            "_view_count": null,
            "_view_module": "@jupyter-widgets/base",
            "_view_module_version": "1.2.0",
            "_view_name": "LayoutView",
            "align_content": null,
            "align_items": null,
            "align_self": null,
            "border": null,
            "bottom": null,
            "display": null,
            "flex": null,
            "flex_flow": null,
            "grid_area": null,
            "grid_auto_columns": null,
            "grid_auto_flow": null,
            "grid_auto_rows": null,
            "grid_column": null,
            "grid_gap": null,
            "grid_row": null,
            "grid_template_areas": null,
            "grid_template_columns": null,
            "grid_template_rows": null,
            "height": null,
            "justify_content": null,
            "justify_items": null,
            "left": null,
            "margin": null,
            "max_height": null,
            "max_width": null,
            "min_height": null,
            "min_width": null,
            "object_fit": null,
            "object_position": null,
            "order": null,
            "overflow": null,
            "overflow_x": null,
            "overflow_y": null,
            "padding": null,
            "right": null,
            "top": null,
            "visibility": null,
            "width": null
          }
        },
        "5e30027bd03c44aabaa8d7352a13eb90": {
          "model_module": "@jupyter-widgets/controls",
          "model_name": "ProgressStyleModel",
          "model_module_version": "1.5.0",
          "state": {
            "_model_module": "@jupyter-widgets/controls",
            "_model_module_version": "1.5.0",
            "_model_name": "ProgressStyleModel",
            "_view_count": null,
            "_view_module": "@jupyter-widgets/base",
            "_view_module_version": "1.2.0",
            "_view_name": "StyleView",
            "bar_color": null,
            "description_width": ""
          }
        },
        "5af426e3979e4da99097af4116067534": {
          "model_module": "@jupyter-widgets/base",
          "model_name": "LayoutModel",
          "model_module_version": "1.2.0",
          "state": {
            "_model_module": "@jupyter-widgets/base",
            "_model_module_version": "1.2.0",
            "_model_name": "LayoutModel",
            "_view_count": null,
            "_view_module": "@jupyter-widgets/base",
            "_view_module_version": "1.2.0",
            "_view_name": "LayoutView",
            "align_content": null,
            "align_items": null,
            "align_self": null,
            "border": null,
            "bottom": null,
            "display": null,
            "flex": null,
            "flex_flow": null,
            "grid_area": null,
            "grid_auto_columns": null,
            "grid_auto_flow": null,
            "grid_auto_rows": null,
            "grid_column": null,
            "grid_gap": null,
            "grid_row": null,
            "grid_template_areas": null,
            "grid_template_columns": null,
            "grid_template_rows": null,
            "height": null,
            "justify_content": null,
            "justify_items": null,
            "left": null,
            "margin": null,
            "max_height": null,
            "max_width": null,
            "min_height": null,
            "min_width": null,
            "object_fit": null,
            "object_position": null,
            "order": null,
            "overflow": null,
            "overflow_x": null,
            "overflow_y": null,
            "padding": null,
            "right": null,
            "top": null,
            "visibility": null,
            "width": null
          }
        },
        "e88d1fd87adf4992abfc6f56f3cd6a09": {
          "model_module": "@jupyter-widgets/controls",
          "model_name": "DescriptionStyleModel",
          "model_module_version": "1.5.0",
          "state": {
            "_model_module": "@jupyter-widgets/controls",
            "_model_module_version": "1.5.0",
            "_model_name": "DescriptionStyleModel",
            "_view_count": null,
            "_view_module": "@jupyter-widgets/base",
            "_view_module_version": "1.2.0",
            "_view_name": "StyleView",
            "description_width": ""
          }
        },
        "12975ef356954860a0a3c7a8b8e7c977": {
          "model_module": "@jupyter-widgets/controls",
          "model_name": "HBoxModel",
          "model_module_version": "1.5.0",
          "state": {
            "_dom_classes": [],
            "_model_module": "@jupyter-widgets/controls",
            "_model_module_version": "1.5.0",
            "_model_name": "HBoxModel",
            "_view_count": null,
            "_view_module": "@jupyter-widgets/controls",
            "_view_module_version": "1.5.0",
            "_view_name": "HBoxView",
            "box_style": "",
            "children": [
              "IPY_MODEL_52b5144406754d4e851f307aa8aba7a5",
              "IPY_MODEL_590538dcecff4b7c8ab17b3de272f446",
              "IPY_MODEL_0c0ed9f0572b4342888d9fba7f19c81b"
            ],
            "layout": "IPY_MODEL_4e9e60ccc7fd4742a5b8031fc27ab5ce"
          }
        },
        "52b5144406754d4e851f307aa8aba7a5": {
          "model_module": "@jupyter-widgets/controls",
          "model_name": "HTMLModel",
          "model_module_version": "1.5.0",
          "state": {
            "_dom_classes": [],
            "_model_module": "@jupyter-widgets/controls",
            "_model_module_version": "1.5.0",
            "_model_name": "HTMLModel",
            "_view_count": null,
            "_view_module": "@jupyter-widgets/controls",
            "_view_module_version": "1.5.0",
            "_view_name": "HTMLView",
            "description": "",
            "description_tooltip": null,
            "layout": "IPY_MODEL_d2f947f77dd24e2aacfcce1f81495837",
            "placeholder": "​",
            "style": "IPY_MODEL_9d397214ae0a4d4b86d5564941d5c07c",
            "value": "100%"
          }
        },
        "590538dcecff4b7c8ab17b3de272f446": {
          "model_module": "@jupyter-widgets/controls",
          "model_name": "FloatProgressModel",
          "model_module_version": "1.5.0",
          "state": {
            "_dom_classes": [],
            "_model_module": "@jupyter-widgets/controls",
            "_model_module_version": "1.5.0",
            "_model_name": "FloatProgressModel",
            "_view_count": null,
            "_view_module": "@jupyter-widgets/controls",
            "_view_module_version": "1.5.0",
            "_view_name": "ProgressView",
            "bar_style": "success",
            "description": "",
            "description_tooltip": null,
            "layout": "IPY_MODEL_c3251e57ef1f41b0afe456a963639a82",
            "max": 6,
            "min": 0,
            "orientation": "horizontal",
            "style": "IPY_MODEL_7c96f883990e40b9824373ef5dfca9ac",
            "value": 6
          }
        },
        "0c0ed9f0572b4342888d9fba7f19c81b": {
          "model_module": "@jupyter-widgets/controls",
          "model_name": "HTMLModel",
          "model_module_version": "1.5.0",
          "state": {
            "_dom_classes": [],
            "_model_module": "@jupyter-widgets/controls",
            "_model_module_version": "1.5.0",
            "_model_name": "HTMLModel",
            "_view_count": null,
            "_view_module": "@jupyter-widgets/controls",
            "_view_module_version": "1.5.0",
            "_view_name": "HTMLView",
            "description": "",
            "description_tooltip": null,
            "layout": "IPY_MODEL_291913a791494713b24f9f1dd884357d",
            "placeholder": "​",
            "style": "IPY_MODEL_fb21672685254d09b10f1131e064ed9f",
            "value": " 6/6 [00:00&lt;00:00, 235.10it/s]"
          }
        },
        "4e9e60ccc7fd4742a5b8031fc27ab5ce": {
          "model_module": "@jupyter-widgets/base",
          "model_name": "LayoutModel",
          "model_module_version": "1.2.0",
          "state": {
            "_model_module": "@jupyter-widgets/base",
            "_model_module_version": "1.2.0",
            "_model_name": "LayoutModel",
            "_view_count": null,
            "_view_module": "@jupyter-widgets/base",
            "_view_module_version": "1.2.0",
            "_view_name": "LayoutView",
            "align_content": null,
            "align_items": null,
            "align_self": null,
            "border": null,
            "bottom": null,
            "display": null,
            "flex": null,
            "flex_flow": null,
            "grid_area": null,
            "grid_auto_columns": null,
            "grid_auto_flow": null,
            "grid_auto_rows": null,
            "grid_column": null,
            "grid_gap": null,
            "grid_row": null,
            "grid_template_areas": null,
            "grid_template_columns": null,
            "grid_template_rows": null,
            "height": null,
            "justify_content": null,
            "justify_items": null,
            "left": null,
            "margin": null,
            "max_height": null,
            "max_width": null,
            "min_height": null,
            "min_width": null,
            "object_fit": null,
            "object_position": null,
            "order": null,
            "overflow": null,
            "overflow_x": null,
            "overflow_y": null,
            "padding": null,
            "right": null,
            "top": null,
            "visibility": null,
            "width": null
          }
        },
        "d2f947f77dd24e2aacfcce1f81495837": {
          "model_module": "@jupyter-widgets/base",
          "model_name": "LayoutModel",
          "model_module_version": "1.2.0",
          "state": {
            "_model_module": "@jupyter-widgets/base",
            "_model_module_version": "1.2.0",
            "_model_name": "LayoutModel",
            "_view_count": null,
            "_view_module": "@jupyter-widgets/base",
            "_view_module_version": "1.2.0",
            "_view_name": "LayoutView",
            "align_content": null,
            "align_items": null,
            "align_self": null,
            "border": null,
            "bottom": null,
            "display": null,
            "flex": null,
            "flex_flow": null,
            "grid_area": null,
            "grid_auto_columns": null,
            "grid_auto_flow": null,
            "grid_auto_rows": null,
            "grid_column": null,
            "grid_gap": null,
            "grid_row": null,
            "grid_template_areas": null,
            "grid_template_columns": null,
            "grid_template_rows": null,
            "height": null,
            "justify_content": null,
            "justify_items": null,
            "left": null,
            "margin": null,
            "max_height": null,
            "max_width": null,
            "min_height": null,
            "min_width": null,
            "object_fit": null,
            "object_position": null,
            "order": null,
            "overflow": null,
            "overflow_x": null,
            "overflow_y": null,
            "padding": null,
            "right": null,
            "top": null,
            "visibility": null,
            "width": null
          }
        },
        "9d397214ae0a4d4b86d5564941d5c07c": {
          "model_module": "@jupyter-widgets/controls",
          "model_name": "DescriptionStyleModel",
          "model_module_version": "1.5.0",
          "state": {
            "_model_module": "@jupyter-widgets/controls",
            "_model_module_version": "1.5.0",
            "_model_name": "DescriptionStyleModel",
            "_view_count": null,
            "_view_module": "@jupyter-widgets/base",
            "_view_module_version": "1.2.0",
            "_view_name": "StyleView",
            "description_width": ""
          }
        },
        "c3251e57ef1f41b0afe456a963639a82": {
          "model_module": "@jupyter-widgets/base",
          "model_name": "LayoutModel",
          "model_module_version": "1.2.0",
          "state": {
            "_model_module": "@jupyter-widgets/base",
            "_model_module_version": "1.2.0",
            "_model_name": "LayoutModel",
            "_view_count": null,
            "_view_module": "@jupyter-widgets/base",
            "_view_module_version": "1.2.0",
            "_view_name": "LayoutView",
            "align_content": null,
            "align_items": null,
            "align_self": null,
            "border": null,
            "bottom": null,
            "display": null,
            "flex": null,
            "flex_flow": null,
            "grid_area": null,
            "grid_auto_columns": null,
            "grid_auto_flow": null,
            "grid_auto_rows": null,
            "grid_column": null,
            "grid_gap": null,
            "grid_row": null,
            "grid_template_areas": null,
            "grid_template_columns": null,
            "grid_template_rows": null,
            "height": null,
            "justify_content": null,
            "justify_items": null,
            "left": null,
            "margin": null,
            "max_height": null,
            "max_width": null,
            "min_height": null,
            "min_width": null,
            "object_fit": null,
            "object_position": null,
            "order": null,
            "overflow": null,
            "overflow_x": null,
            "overflow_y": null,
            "padding": null,
            "right": null,
            "top": null,
            "visibility": null,
            "width": null
          }
        },
        "7c96f883990e40b9824373ef5dfca9ac": {
          "model_module": "@jupyter-widgets/controls",
          "model_name": "ProgressStyleModel",
          "model_module_version": "1.5.0",
          "state": {
            "_model_module": "@jupyter-widgets/controls",
            "_model_module_version": "1.5.0",
            "_model_name": "ProgressStyleModel",
            "_view_count": null,
            "_view_module": "@jupyter-widgets/base",
            "_view_module_version": "1.2.0",
            "_view_name": "StyleView",
            "bar_color": null,
            "description_width": ""
          }
        },
        "291913a791494713b24f9f1dd884357d": {
          "model_module": "@jupyter-widgets/base",
          "model_name": "LayoutModel",
          "model_module_version": "1.2.0",
          "state": {
            "_model_module": "@jupyter-widgets/base",
            "_model_module_version": "1.2.0",
            "_model_name": "LayoutModel",
            "_view_count": null,
            "_view_module": "@jupyter-widgets/base",
            "_view_module_version": "1.2.0",
            "_view_name": "LayoutView",
            "align_content": null,
            "align_items": null,
            "align_self": null,
            "border": null,
            "bottom": null,
            "display": null,
            "flex": null,
            "flex_flow": null,
            "grid_area": null,
            "grid_auto_columns": null,
            "grid_auto_flow": null,
            "grid_auto_rows": null,
            "grid_column": null,
            "grid_gap": null,
            "grid_row": null,
            "grid_template_areas": null,
            "grid_template_columns": null,
            "grid_template_rows": null,
            "height": null,
            "justify_content": null,
            "justify_items": null,
            "left": null,
            "margin": null,
            "max_height": null,
            "max_width": null,
            "min_height": null,
            "min_width": null,
            "object_fit": null,
            "object_position": null,
            "order": null,
            "overflow": null,
            "overflow_x": null,
            "overflow_y": null,
            "padding": null,
            "right": null,
            "top": null,
            "visibility": null,
            "width": null
          }
        },
        "fb21672685254d09b10f1131e064ed9f": {
          "model_module": "@jupyter-widgets/controls",
          "model_name": "DescriptionStyleModel",
          "model_module_version": "1.5.0",
          "state": {
            "_model_module": "@jupyter-widgets/controls",
            "_model_module_version": "1.5.0",
            "_model_name": "DescriptionStyleModel",
            "_view_count": null,
            "_view_module": "@jupyter-widgets/base",
            "_view_module_version": "1.2.0",
            "_view_name": "StyleView",
            "description_width": ""
          }
        },
        "7cda88f1d9364af6a0bba15cb8439e8a": {
          "model_module": "@jupyter-widgets/controls",
          "model_name": "HBoxModel",
          "model_module_version": "1.5.0",
          "state": {
            "_dom_classes": [],
            "_model_module": "@jupyter-widgets/controls",
            "_model_module_version": "1.5.0",
            "_model_name": "HBoxModel",
            "_view_count": null,
            "_view_module": "@jupyter-widgets/controls",
            "_view_module_version": "1.5.0",
            "_view_name": "HBoxView",
            "box_style": "",
            "children": [
              "IPY_MODEL_bef0afa50f424a4bb0069fa696d346c7",
              "IPY_MODEL_d9c9e968e410479b8bf9dfe46be252a0",
              "IPY_MODEL_2fa8363c48314d3aaecd33b72d4391b9"
            ],
            "layout": "IPY_MODEL_7f8ccba68e434a6085e34bbf1e77767a"
          }
        },
        "bef0afa50f424a4bb0069fa696d346c7": {
          "model_module": "@jupyter-widgets/controls",
          "model_name": "HTMLModel",
          "model_module_version": "1.5.0",
          "state": {
            "_dom_classes": [],
            "_model_module": "@jupyter-widgets/controls",
            "_model_module_version": "1.5.0",
            "_model_name": "HTMLModel",
            "_view_count": null,
            "_view_module": "@jupyter-widgets/controls",
            "_view_module_version": "1.5.0",
            "_view_name": "HTMLView",
            "description": "",
            "description_tooltip": null,
            "layout": "IPY_MODEL_c006f543251f4cc4be85297369fa591f",
            "placeholder": "​",
            "style": "IPY_MODEL_c344a273e09141928a713c4d1c4546e6",
            "value": " 51%"
          }
        },
        "d9c9e968e410479b8bf9dfe46be252a0": {
          "model_module": "@jupyter-widgets/controls",
          "model_name": "FloatProgressModel",
          "model_module_version": "1.5.0",
          "state": {
            "_dom_classes": [],
            "_model_module": "@jupyter-widgets/controls",
            "_model_module_version": "1.5.0",
            "_model_name": "FloatProgressModel",
            "_view_count": null,
            "_view_module": "@jupyter-widgets/controls",
            "_view_module_version": "1.5.0",
            "_view_name": "ProgressView",
            "bar_style": "danger",
            "description": "",
            "description_tooltip": null,
            "layout": "IPY_MODEL_b238f444bf06400e901eacf394748452",
            "max": 1958,
            "min": 0,
            "orientation": "horizontal",
            "style": "IPY_MODEL_1eec935dd45f4768a000c224273019e3",
            "value": 1000
          }
        },
        "2fa8363c48314d3aaecd33b72d4391b9": {
          "model_module": "@jupyter-widgets/controls",
          "model_name": "HTMLModel",
          "model_module_version": "1.5.0",
          "state": {
            "_dom_classes": [],
            "_model_module": "@jupyter-widgets/controls",
            "_model_module_version": "1.5.0",
            "_model_name": "HTMLModel",
            "_view_count": null,
            "_view_module": "@jupyter-widgets/controls",
            "_view_module_version": "1.5.0",
            "_view_name": "HTMLView",
            "description": "",
            "description_tooltip": null,
            "layout": "IPY_MODEL_761c9c6fed634c8f8ca0f81823638fdb",
            "placeholder": "​",
            "style": "IPY_MODEL_e2903bae17d04b639f72eef7590779d2",
            "value": " 1000/1958 [08:46&lt;07:48,  2.05it/s]"
          }
        },
        "7f8ccba68e434a6085e34bbf1e77767a": {
          "model_module": "@jupyter-widgets/base",
          "model_name": "LayoutModel",
          "model_module_version": "1.2.0",
          "state": {
            "_model_module": "@jupyter-widgets/base",
            "_model_module_version": "1.2.0",
            "_model_name": "LayoutModel",
            "_view_count": null,
            "_view_module": "@jupyter-widgets/base",
            "_view_module_version": "1.2.0",
            "_view_name": "LayoutView",
            "align_content": null,
            "align_items": null,
            "align_self": null,
            "border": null,
            "bottom": null,
            "display": null,
            "flex": null,
            "flex_flow": null,
            "grid_area": null,
            "grid_auto_columns": null,
            "grid_auto_flow": null,
            "grid_auto_rows": null,
            "grid_column": null,
            "grid_gap": null,
            "grid_row": null,
            "grid_template_areas": null,
            "grid_template_columns": null,
            "grid_template_rows": null,
            "height": null,
            "justify_content": null,
            "justify_items": null,
            "left": null,
            "margin": null,
            "max_height": null,
            "max_width": null,
            "min_height": null,
            "min_width": null,
            "object_fit": null,
            "object_position": null,
            "order": null,
            "overflow": null,
            "overflow_x": null,
            "overflow_y": null,
            "padding": null,
            "right": null,
            "top": null,
            "visibility": null,
            "width": null
          }
        },
        "c006f543251f4cc4be85297369fa591f": {
          "model_module": "@jupyter-widgets/base",
          "model_name": "LayoutModel",
          "model_module_version": "1.2.0",
          "state": {
            "_model_module": "@jupyter-widgets/base",
            "_model_module_version": "1.2.0",
            "_model_name": "LayoutModel",
            "_view_count": null,
            "_view_module": "@jupyter-widgets/base",
            "_view_module_version": "1.2.0",
            "_view_name": "LayoutView",
            "align_content": null,
            "align_items": null,
            "align_self": null,
            "border": null,
            "bottom": null,
            "display": null,
            "flex": null,
            "flex_flow": null,
            "grid_area": null,
            "grid_auto_columns": null,
            "grid_auto_flow": null,
            "grid_auto_rows": null,
            "grid_column": null,
            "grid_gap": null,
            "grid_row": null,
            "grid_template_areas": null,
            "grid_template_columns": null,
            "grid_template_rows": null,
            "height": null,
            "justify_content": null,
            "justify_items": null,
            "left": null,
            "margin": null,
            "max_height": null,
            "max_width": null,
            "min_height": null,
            "min_width": null,
            "object_fit": null,
            "object_position": null,
            "order": null,
            "overflow": null,
            "overflow_x": null,
            "overflow_y": null,
            "padding": null,
            "right": null,
            "top": null,
            "visibility": null,
            "width": null
          }
        },
        "c344a273e09141928a713c4d1c4546e6": {
          "model_module": "@jupyter-widgets/controls",
          "model_name": "DescriptionStyleModel",
          "model_module_version": "1.5.0",
          "state": {
            "_model_module": "@jupyter-widgets/controls",
            "_model_module_version": "1.5.0",
            "_model_name": "DescriptionStyleModel",
            "_view_count": null,
            "_view_module": "@jupyter-widgets/base",
            "_view_module_version": "1.2.0",
            "_view_name": "StyleView",
            "description_width": ""
          }
        },
        "b238f444bf06400e901eacf394748452": {
          "model_module": "@jupyter-widgets/base",
          "model_name": "LayoutModel",
          "model_module_version": "1.2.0",
          "state": {
            "_model_module": "@jupyter-widgets/base",
            "_model_module_version": "1.2.0",
            "_model_name": "LayoutModel",
            "_view_count": null,
            "_view_module": "@jupyter-widgets/base",
            "_view_module_version": "1.2.0",
            "_view_name": "LayoutView",
            "align_content": null,
            "align_items": null,
            "align_self": null,
            "border": null,
            "bottom": null,
            "display": null,
            "flex": null,
            "flex_flow": null,
            "grid_area": null,
            "grid_auto_columns": null,
            "grid_auto_flow": null,
            "grid_auto_rows": null,
            "grid_column": null,
            "grid_gap": null,
            "grid_row": null,
            "grid_template_areas": null,
            "grid_template_columns": null,
            "grid_template_rows": null,
            "height": null,
            "justify_content": null,
            "justify_items": null,
            "left": null,
            "margin": null,
            "max_height": null,
            "max_width": null,
            "min_height": null,
            "min_width": null,
            "object_fit": null,
            "object_position": null,
            "order": null,
            "overflow": null,
            "overflow_x": null,
            "overflow_y": null,
            "padding": null,
            "right": null,
            "top": null,
            "visibility": null,
            "width": null
          }
        },
        "1eec935dd45f4768a000c224273019e3": {
          "model_module": "@jupyter-widgets/controls",
          "model_name": "ProgressStyleModel",
          "model_module_version": "1.5.0",
          "state": {
            "_model_module": "@jupyter-widgets/controls",
            "_model_module_version": "1.5.0",
            "_model_name": "ProgressStyleModel",
            "_view_count": null,
            "_view_module": "@jupyter-widgets/base",
            "_view_module_version": "1.2.0",
            "_view_name": "StyleView",
            "bar_color": null,
            "description_width": ""
          }
        },
        "761c9c6fed634c8f8ca0f81823638fdb": {
          "model_module": "@jupyter-widgets/base",
          "model_name": "LayoutModel",
          "model_module_version": "1.2.0",
          "state": {
            "_model_module": "@jupyter-widgets/base",
            "_model_module_version": "1.2.0",
            "_model_name": "LayoutModel",
            "_view_count": null,
            "_view_module": "@jupyter-widgets/base",
            "_view_module_version": "1.2.0",
            "_view_name": "LayoutView",
            "align_content": null,
            "align_items": null,
            "align_self": null,
            "border": null,
            "bottom": null,
            "display": null,
            "flex": null,
            "flex_flow": null,
            "grid_area": null,
            "grid_auto_columns": null,
            "grid_auto_flow": null,
            "grid_auto_rows": null,
            "grid_column": null,
            "grid_gap": null,
            "grid_row": null,
            "grid_template_areas": null,
            "grid_template_columns": null,
            "grid_template_rows": null,
            "height": null,
            "justify_content": null,
            "justify_items": null,
            "left": null,
            "margin": null,
            "max_height": null,
            "max_width": null,
            "min_height": null,
            "min_width": null,
            "object_fit": null,
            "object_position": null,
            "order": null,
            "overflow": null,
            "overflow_x": null,
            "overflow_y": null,
            "padding": null,
            "right": null,
            "top": null,
            "visibility": null,
            "width": null
          }
        },
        "e2903bae17d04b639f72eef7590779d2": {
          "model_module": "@jupyter-widgets/controls",
          "model_name": "DescriptionStyleModel",
          "model_module_version": "1.5.0",
          "state": {
            "_model_module": "@jupyter-widgets/controls",
            "_model_module_version": "1.5.0",
            "_model_name": "DescriptionStyleModel",
            "_view_count": null,
            "_view_module": "@jupyter-widgets/base",
            "_view_module_version": "1.2.0",
            "_view_name": "StyleView",
            "description_width": ""
          }
        },
        "8b94607abfae496abe7f0e85283da4a1": {
          "model_module": "@jupyter-widgets/controls",
          "model_name": "HBoxModel",
          "model_module_version": "1.5.0",
          "state": {
            "_dom_classes": [],
            "_model_module": "@jupyter-widgets/controls",
            "_model_module_version": "1.5.0",
            "_model_name": "HBoxModel",
            "_view_count": null,
            "_view_module": "@jupyter-widgets/controls",
            "_view_module_version": "1.5.0",
            "_view_name": "HBoxView",
            "box_style": "",
            "children": [
              "IPY_MODEL_e4abcdd2c89d4df2a769fe6196ef526b",
              "IPY_MODEL_48368221c0b04a50a8c8e432b7eff018",
              "IPY_MODEL_b2a22bb9eb094c319daec46f69fe393a"
            ],
            "layout": "IPY_MODEL_30be58ecd37545e09ed2583f2b527d87"
          }
        },
        "e4abcdd2c89d4df2a769fe6196ef526b": {
          "model_module": "@jupyter-widgets/controls",
          "model_name": "HTMLModel",
          "model_module_version": "1.5.0",
          "state": {
            "_dom_classes": [],
            "_model_module": "@jupyter-widgets/controls",
            "_model_module_version": "1.5.0",
            "_model_name": "HTMLModel",
            "_view_count": null,
            "_view_module": "@jupyter-widgets/controls",
            "_view_module_version": "1.5.0",
            "_view_name": "HTMLView",
            "description": "",
            "description_tooltip": null,
            "layout": "IPY_MODEL_757c3b0cb5db44f1b86be2c969b9766d",
            "placeholder": "​",
            "style": "IPY_MODEL_cb819cca0a434ff1a3b6fbbb0118d871",
            "value": "100%"
          }
        },
        "48368221c0b04a50a8c8e432b7eff018": {
          "model_module": "@jupyter-widgets/controls",
          "model_name": "FloatProgressModel",
          "model_module_version": "1.5.0",
          "state": {
            "_dom_classes": [],
            "_model_module": "@jupyter-widgets/controls",
            "_model_module_version": "1.5.0",
            "_model_name": "FloatProgressModel",
            "_view_count": null,
            "_view_module": "@jupyter-widgets/controls",
            "_view_module_version": "1.5.0",
            "_view_name": "ProgressView",
            "bar_style": "success",
            "description": "",
            "description_tooltip": null,
            "layout": "IPY_MODEL_abb07bf2579d4a5a96726ca38fbf2fd9",
            "max": 6,
            "min": 0,
            "orientation": "horizontal",
            "style": "IPY_MODEL_efde2a17ed1e42dc94543e0933781cf3",
            "value": 6
          }
        },
        "b2a22bb9eb094c319daec46f69fe393a": {
          "model_module": "@jupyter-widgets/controls",
          "model_name": "HTMLModel",
          "model_module_version": "1.5.0",
          "state": {
            "_dom_classes": [],
            "_model_module": "@jupyter-widgets/controls",
            "_model_module_version": "1.5.0",
            "_model_name": "HTMLModel",
            "_view_count": null,
            "_view_module": "@jupyter-widgets/controls",
            "_view_module_version": "1.5.0",
            "_view_name": "HTMLView",
            "description": "",
            "description_tooltip": null,
            "layout": "IPY_MODEL_cb98492dacf6449b9285964625c8486a",
            "placeholder": "​",
            "style": "IPY_MODEL_5ef12568dd4a43148093e8f1e2bc3cae",
            "value": " 6/6 [00:00&lt;00:00, 293.43it/s]"
          }
        },
        "30be58ecd37545e09ed2583f2b527d87": {
          "model_module": "@jupyter-widgets/base",
          "model_name": "LayoutModel",
          "model_module_version": "1.2.0",
          "state": {
            "_model_module": "@jupyter-widgets/base",
            "_model_module_version": "1.2.0",
            "_model_name": "LayoutModel",
            "_view_count": null,
            "_view_module": "@jupyter-widgets/base",
            "_view_module_version": "1.2.0",
            "_view_name": "LayoutView",
            "align_content": null,
            "align_items": null,
            "align_self": null,
            "border": null,
            "bottom": null,
            "display": null,
            "flex": null,
            "flex_flow": null,
            "grid_area": null,
            "grid_auto_columns": null,
            "grid_auto_flow": null,
            "grid_auto_rows": null,
            "grid_column": null,
            "grid_gap": null,
            "grid_row": null,
            "grid_template_areas": null,
            "grid_template_columns": null,
            "grid_template_rows": null,
            "height": null,
            "justify_content": null,
            "justify_items": null,
            "left": null,
            "margin": null,
            "max_height": null,
            "max_width": null,
            "min_height": null,
            "min_width": null,
            "object_fit": null,
            "object_position": null,
            "order": null,
            "overflow": null,
            "overflow_x": null,
            "overflow_y": null,
            "padding": null,
            "right": null,
            "top": null,
            "visibility": null,
            "width": null
          }
        },
        "757c3b0cb5db44f1b86be2c969b9766d": {
          "model_module": "@jupyter-widgets/base",
          "model_name": "LayoutModel",
          "model_module_version": "1.2.0",
          "state": {
            "_model_module": "@jupyter-widgets/base",
            "_model_module_version": "1.2.0",
            "_model_name": "LayoutModel",
            "_view_count": null,
            "_view_module": "@jupyter-widgets/base",
            "_view_module_version": "1.2.0",
            "_view_name": "LayoutView",
            "align_content": null,
            "align_items": null,
            "align_self": null,
            "border": null,
            "bottom": null,
            "display": null,
            "flex": null,
            "flex_flow": null,
            "grid_area": null,
            "grid_auto_columns": null,
            "grid_auto_flow": null,
            "grid_auto_rows": null,
            "grid_column": null,
            "grid_gap": null,
            "grid_row": null,
            "grid_template_areas": null,
            "grid_template_columns": null,
            "grid_template_rows": null,
            "height": null,
            "justify_content": null,
            "justify_items": null,
            "left": null,
            "margin": null,
            "max_height": null,
            "max_width": null,
            "min_height": null,
            "min_width": null,
            "object_fit": null,
            "object_position": null,
            "order": null,
            "overflow": null,
            "overflow_x": null,
            "overflow_y": null,
            "padding": null,
            "right": null,
            "top": null,
            "visibility": null,
            "width": null
          }
        },
        "cb819cca0a434ff1a3b6fbbb0118d871": {
          "model_module": "@jupyter-widgets/controls",
          "model_name": "DescriptionStyleModel",
          "model_module_version": "1.5.0",
          "state": {
            "_model_module": "@jupyter-widgets/controls",
            "_model_module_version": "1.5.0",
            "_model_name": "DescriptionStyleModel",
            "_view_count": null,
            "_view_module": "@jupyter-widgets/base",
            "_view_module_version": "1.2.0",
            "_view_name": "StyleView",
            "description_width": ""
          }
        },
        "abb07bf2579d4a5a96726ca38fbf2fd9": {
          "model_module": "@jupyter-widgets/base",
          "model_name": "LayoutModel",
          "model_module_version": "1.2.0",
          "state": {
            "_model_module": "@jupyter-widgets/base",
            "_model_module_version": "1.2.0",
            "_model_name": "LayoutModel",
            "_view_count": null,
            "_view_module": "@jupyter-widgets/base",
            "_view_module_version": "1.2.0",
            "_view_name": "LayoutView",
            "align_content": null,
            "align_items": null,
            "align_self": null,
            "border": null,
            "bottom": null,
            "display": null,
            "flex": null,
            "flex_flow": null,
            "grid_area": null,
            "grid_auto_columns": null,
            "grid_auto_flow": null,
            "grid_auto_rows": null,
            "grid_column": null,
            "grid_gap": null,
            "grid_row": null,
            "grid_template_areas": null,
            "grid_template_columns": null,
            "grid_template_rows": null,
            "height": null,
            "justify_content": null,
            "justify_items": null,
            "left": null,
            "margin": null,
            "max_height": null,
            "max_width": null,
            "min_height": null,
            "min_width": null,
            "object_fit": null,
            "object_position": null,
            "order": null,
            "overflow": null,
            "overflow_x": null,
            "overflow_y": null,
            "padding": null,
            "right": null,
            "top": null,
            "visibility": null,
            "width": null
          }
        },
        "efde2a17ed1e42dc94543e0933781cf3": {
          "model_module": "@jupyter-widgets/controls",
          "model_name": "ProgressStyleModel",
          "model_module_version": "1.5.0",
          "state": {
            "_model_module": "@jupyter-widgets/controls",
            "_model_module_version": "1.5.0",
            "_model_name": "ProgressStyleModel",
            "_view_count": null,
            "_view_module": "@jupyter-widgets/base",
            "_view_module_version": "1.2.0",
            "_view_name": "StyleView",
            "bar_color": null,
            "description_width": ""
          }
        },
        "cb98492dacf6449b9285964625c8486a": {
          "model_module": "@jupyter-widgets/base",
          "model_name": "LayoutModel",
          "model_module_version": "1.2.0",
          "state": {
            "_model_module": "@jupyter-widgets/base",
            "_model_module_version": "1.2.0",
            "_model_name": "LayoutModel",
            "_view_count": null,
            "_view_module": "@jupyter-widgets/base",
            "_view_module_version": "1.2.0",
            "_view_name": "LayoutView",
            "align_content": null,
            "align_items": null,
            "align_self": null,
            "border": null,
            "bottom": null,
            "display": null,
            "flex": null,
            "flex_flow": null,
            "grid_area": null,
            "grid_auto_columns": null,
            "grid_auto_flow": null,
            "grid_auto_rows": null,
            "grid_column": null,
            "grid_gap": null,
            "grid_row": null,
            "grid_template_areas": null,
            "grid_template_columns": null,
            "grid_template_rows": null,
            "height": null,
            "justify_content": null,
            "justify_items": null,
            "left": null,
            "margin": null,
            "max_height": null,
            "max_width": null,
            "min_height": null,
            "min_width": null,
            "object_fit": null,
            "object_position": null,
            "order": null,
            "overflow": null,
            "overflow_x": null,
            "overflow_y": null,
            "padding": null,
            "right": null,
            "top": null,
            "visibility": null,
            "width": null
          }
        },
        "5ef12568dd4a43148093e8f1e2bc3cae": {
          "model_module": "@jupyter-widgets/controls",
          "model_name": "DescriptionStyleModel",
          "model_module_version": "1.5.0",
          "state": {
            "_model_module": "@jupyter-widgets/controls",
            "_model_module_version": "1.5.0",
            "_model_name": "DescriptionStyleModel",
            "_view_count": null,
            "_view_module": "@jupyter-widgets/base",
            "_view_module_version": "1.2.0",
            "_view_name": "StyleView",
            "description_width": ""
          }
        },
        "59d5bd12f473482eac42797ed94ffb0e": {
          "model_module": "@jupyter-widgets/controls",
          "model_name": "HBoxModel",
          "model_module_version": "1.5.0",
          "state": {
            "_dom_classes": [],
            "_model_module": "@jupyter-widgets/controls",
            "_model_module_version": "1.5.0",
            "_model_name": "HBoxModel",
            "_view_count": null,
            "_view_module": "@jupyter-widgets/controls",
            "_view_module_version": "1.5.0",
            "_view_name": "HBoxView",
            "box_style": "",
            "children": [
              "IPY_MODEL_400fba93f26844a98234e446ca4be18a",
              "IPY_MODEL_2291650bc7724141bd5edfe189f4621d",
              "IPY_MODEL_9336de67659e466387c9b8ffef84145e"
            ],
            "layout": "IPY_MODEL_caa35235e7564503920f10019f269752"
          }
        },
        "400fba93f26844a98234e446ca4be18a": {
          "model_module": "@jupyter-widgets/controls",
          "model_name": "HTMLModel",
          "model_module_version": "1.5.0",
          "state": {
            "_dom_classes": [],
            "_model_module": "@jupyter-widgets/controls",
            "_model_module_version": "1.5.0",
            "_model_name": "HTMLModel",
            "_view_count": null,
            "_view_module": "@jupyter-widgets/controls",
            "_view_module_version": "1.5.0",
            "_view_name": "HTMLView",
            "description": "",
            "description_tooltip": null,
            "layout": "IPY_MODEL_060d6378fe46410fbeac8cf2e7c9145c",
            "placeholder": "​",
            "style": "IPY_MODEL_f9d95a2d38f642e1a2c545993d68fdd7",
            "value": "  3%"
          }
        },
        "2291650bc7724141bd5edfe189f4621d": {
          "model_module": "@jupyter-widgets/controls",
          "model_name": "FloatProgressModel",
          "model_module_version": "1.5.0",
          "state": {
            "_dom_classes": [],
            "_model_module": "@jupyter-widgets/controls",
            "_model_module_version": "1.5.0",
            "_model_name": "FloatProgressModel",
            "_view_count": null,
            "_view_module": "@jupyter-widgets/controls",
            "_view_module_version": "1.5.0",
            "_view_name": "ProgressView",
            "bar_style": "danger",
            "description": "",
            "description_tooltip": null,
            "layout": "IPY_MODEL_8c139cb08ee44db0a36aff2821628306",
            "max": 3760,
            "min": 0,
            "orientation": "horizontal",
            "style": "IPY_MODEL_d5639cf0ab95438f830705786e45718c",
            "value": 100
          }
        },
        "9336de67659e466387c9b8ffef84145e": {
          "model_module": "@jupyter-widgets/controls",
          "model_name": "HTMLModel",
          "model_module_version": "1.5.0",
          "state": {
            "_dom_classes": [],
            "_model_module": "@jupyter-widgets/controls",
            "_model_module_version": "1.5.0",
            "_model_name": "HTMLModel",
            "_view_count": null,
            "_view_module": "@jupyter-widgets/controls",
            "_view_module_version": "1.5.0",
            "_view_name": "HTMLView",
            "description": "",
            "description_tooltip": null,
            "layout": "IPY_MODEL_a2b7d5bee22448e5ba664153ba649a61",
            "placeholder": "​",
            "style": "IPY_MODEL_cad6d6cc70894f0ba8f155aec907bf08",
            "value": " 100/3760 [01:01&lt;34:19,  1.78it/s]"
          }
        },
        "caa35235e7564503920f10019f269752": {
          "model_module": "@jupyter-widgets/base",
          "model_name": "LayoutModel",
          "model_module_version": "1.2.0",
          "state": {
            "_model_module": "@jupyter-widgets/base",
            "_model_module_version": "1.2.0",
            "_model_name": "LayoutModel",
            "_view_count": null,
            "_view_module": "@jupyter-widgets/base",
            "_view_module_version": "1.2.0",
            "_view_name": "LayoutView",
            "align_content": null,
            "align_items": null,
            "align_self": null,
            "border": null,
            "bottom": null,
            "display": null,
            "flex": null,
            "flex_flow": null,
            "grid_area": null,
            "grid_auto_columns": null,
            "grid_auto_flow": null,
            "grid_auto_rows": null,
            "grid_column": null,
            "grid_gap": null,
            "grid_row": null,
            "grid_template_areas": null,
            "grid_template_columns": null,
            "grid_template_rows": null,
            "height": null,
            "justify_content": null,
            "justify_items": null,
            "left": null,
            "margin": null,
            "max_height": null,
            "max_width": null,
            "min_height": null,
            "min_width": null,
            "object_fit": null,
            "object_position": null,
            "order": null,
            "overflow": null,
            "overflow_x": null,
            "overflow_y": null,
            "padding": null,
            "right": null,
            "top": null,
            "visibility": null,
            "width": null
          }
        },
        "060d6378fe46410fbeac8cf2e7c9145c": {
          "model_module": "@jupyter-widgets/base",
          "model_name": "LayoutModel",
          "model_module_version": "1.2.0",
          "state": {
            "_model_module": "@jupyter-widgets/base",
            "_model_module_version": "1.2.0",
            "_model_name": "LayoutModel",
            "_view_count": null,
            "_view_module": "@jupyter-widgets/base",
            "_view_module_version": "1.2.0",
            "_view_name": "LayoutView",
            "align_content": null,
            "align_items": null,
            "align_self": null,
            "border": null,
            "bottom": null,
            "display": null,
            "flex": null,
            "flex_flow": null,
            "grid_area": null,
            "grid_auto_columns": null,
            "grid_auto_flow": null,
            "grid_auto_rows": null,
            "grid_column": null,
            "grid_gap": null,
            "grid_row": null,
            "grid_template_areas": null,
            "grid_template_columns": null,
            "grid_template_rows": null,
            "height": null,
            "justify_content": null,
            "justify_items": null,
            "left": null,
            "margin": null,
            "max_height": null,
            "max_width": null,
            "min_height": null,
            "min_width": null,
            "object_fit": null,
            "object_position": null,
            "order": null,
            "overflow": null,
            "overflow_x": null,
            "overflow_y": null,
            "padding": null,
            "right": null,
            "top": null,
            "visibility": null,
            "width": null
          }
        },
        "f9d95a2d38f642e1a2c545993d68fdd7": {
          "model_module": "@jupyter-widgets/controls",
          "model_name": "DescriptionStyleModel",
          "model_module_version": "1.5.0",
          "state": {
            "_model_module": "@jupyter-widgets/controls",
            "_model_module_version": "1.5.0",
            "_model_name": "DescriptionStyleModel",
            "_view_count": null,
            "_view_module": "@jupyter-widgets/base",
            "_view_module_version": "1.2.0",
            "_view_name": "StyleView",
            "description_width": ""
          }
        },
        "8c139cb08ee44db0a36aff2821628306": {
          "model_module": "@jupyter-widgets/base",
          "model_name": "LayoutModel",
          "model_module_version": "1.2.0",
          "state": {
            "_model_module": "@jupyter-widgets/base",
            "_model_module_version": "1.2.0",
            "_model_name": "LayoutModel",
            "_view_count": null,
            "_view_module": "@jupyter-widgets/base",
            "_view_module_version": "1.2.0",
            "_view_name": "LayoutView",
            "align_content": null,
            "align_items": null,
            "align_self": null,
            "border": null,
            "bottom": null,
            "display": null,
            "flex": null,
            "flex_flow": null,
            "grid_area": null,
            "grid_auto_columns": null,
            "grid_auto_flow": null,
            "grid_auto_rows": null,
            "grid_column": null,
            "grid_gap": null,
            "grid_row": null,
            "grid_template_areas": null,
            "grid_template_columns": null,
            "grid_template_rows": null,
            "height": null,
            "justify_content": null,
            "justify_items": null,
            "left": null,
            "margin": null,
            "max_height": null,
            "max_width": null,
            "min_height": null,
            "min_width": null,
            "object_fit": null,
            "object_position": null,
            "order": null,
            "overflow": null,
            "overflow_x": null,
            "overflow_y": null,
            "padding": null,
            "right": null,
            "top": null,
            "visibility": null,
            "width": null
          }
        },
        "d5639cf0ab95438f830705786e45718c": {
          "model_module": "@jupyter-widgets/controls",
          "model_name": "ProgressStyleModel",
          "model_module_version": "1.5.0",
          "state": {
            "_model_module": "@jupyter-widgets/controls",
            "_model_module_version": "1.5.0",
            "_model_name": "ProgressStyleModel",
            "_view_count": null,
            "_view_module": "@jupyter-widgets/base",
            "_view_module_version": "1.2.0",
            "_view_name": "StyleView",
            "bar_color": null,
            "description_width": ""
          }
        },
        "a2b7d5bee22448e5ba664153ba649a61": {
          "model_module": "@jupyter-widgets/base",
          "model_name": "LayoutModel",
          "model_module_version": "1.2.0",
          "state": {
            "_model_module": "@jupyter-widgets/base",
            "_model_module_version": "1.2.0",
            "_model_name": "LayoutModel",
            "_view_count": null,
            "_view_module": "@jupyter-widgets/base",
            "_view_module_version": "1.2.0",
            "_view_name": "LayoutView",
            "align_content": null,
            "align_items": null,
            "align_self": null,
            "border": null,
            "bottom": null,
            "display": null,
            "flex": null,
            "flex_flow": null,
            "grid_area": null,
            "grid_auto_columns": null,
            "grid_auto_flow": null,
            "grid_auto_rows": null,
            "grid_column": null,
            "grid_gap": null,
            "grid_row": null,
            "grid_template_areas": null,
            "grid_template_columns": null,
            "grid_template_rows": null,
            "height": null,
            "justify_content": null,
            "justify_items": null,
            "left": null,
            "margin": null,
            "max_height": null,
            "max_width": null,
            "min_height": null,
            "min_width": null,
            "object_fit": null,
            "object_position": null,
            "order": null,
            "overflow": null,
            "overflow_x": null,
            "overflow_y": null,
            "padding": null,
            "right": null,
            "top": null,
            "visibility": null,
            "width": null
          }
        },
        "cad6d6cc70894f0ba8f155aec907bf08": {
          "model_module": "@jupyter-widgets/controls",
          "model_name": "DescriptionStyleModel",
          "model_module_version": "1.5.0",
          "state": {
            "_model_module": "@jupyter-widgets/controls",
            "_model_module_version": "1.5.0",
            "_model_name": "DescriptionStyleModel",
            "_view_count": null,
            "_view_module": "@jupyter-widgets/base",
            "_view_module_version": "1.2.0",
            "_view_name": "StyleView",
            "description_width": ""
          }
        },
        "beb9c7a82ce544d481bd1a5156e35f14": {
          "model_module": "@jupyter-widgets/controls",
          "model_name": "HBoxModel",
          "model_module_version": "1.5.0",
          "state": {
            "_dom_classes": [],
            "_model_module": "@jupyter-widgets/controls",
            "_model_module_version": "1.5.0",
            "_model_name": "HBoxModel",
            "_view_count": null,
            "_view_module": "@jupyter-widgets/controls",
            "_view_module_version": "1.5.0",
            "_view_name": "HBoxView",
            "box_style": "",
            "children": [
              "IPY_MODEL_89324068ce1c4c96bf30e634a4d8ae77",
              "IPY_MODEL_703ded3ddecc4257b8081fff7ac566e3",
              "IPY_MODEL_99edb3207b794ef88106332b4b24a637"
            ],
            "layout": "IPY_MODEL_4c95c76ee2a2492199a27635a8a1fada"
          }
        },
        "89324068ce1c4c96bf30e634a4d8ae77": {
          "model_module": "@jupyter-widgets/controls",
          "model_name": "HTMLModel",
          "model_module_version": "1.5.0",
          "state": {
            "_dom_classes": [],
            "_model_module": "@jupyter-widgets/controls",
            "_model_module_version": "1.5.0",
            "_model_name": "HTMLModel",
            "_view_count": null,
            "_view_module": "@jupyter-widgets/controls",
            "_view_module_version": "1.5.0",
            "_view_name": "HTMLView",
            "description": "",
            "description_tooltip": null,
            "layout": "IPY_MODEL_30208f27fd834ce5a56f48dd90a5a0b3",
            "placeholder": "​",
            "style": "IPY_MODEL_79ea3e60fa644c7898c482f5be5b24dc",
            "value": "100%"
          }
        },
        "703ded3ddecc4257b8081fff7ac566e3": {
          "model_module": "@jupyter-widgets/controls",
          "model_name": "FloatProgressModel",
          "model_module_version": "1.5.0",
          "state": {
            "_dom_classes": [],
            "_model_module": "@jupyter-widgets/controls",
            "_model_module_version": "1.5.0",
            "_model_name": "FloatProgressModel",
            "_view_count": null,
            "_view_module": "@jupyter-widgets/controls",
            "_view_module_version": "1.5.0",
            "_view_name": "ProgressView",
            "bar_style": "success",
            "description": "",
            "description_tooltip": null,
            "layout": "IPY_MODEL_49b2567086194cdf8abfa09f17d7c890",
            "max": 6,
            "min": 0,
            "orientation": "horizontal",
            "style": "IPY_MODEL_861bf854e01144d4970c86b624122234",
            "value": 6
          }
        },
        "99edb3207b794ef88106332b4b24a637": {
          "model_module": "@jupyter-widgets/controls",
          "model_name": "HTMLModel",
          "model_module_version": "1.5.0",
          "state": {
            "_dom_classes": [],
            "_model_module": "@jupyter-widgets/controls",
            "_model_module_version": "1.5.0",
            "_model_name": "HTMLModel",
            "_view_count": null,
            "_view_module": "@jupyter-widgets/controls",
            "_view_module_version": "1.5.0",
            "_view_name": "HTMLView",
            "description": "",
            "description_tooltip": null,
            "layout": "IPY_MODEL_c6eda32b4a5147a5ab8c55690cb5e1ca",
            "placeholder": "​",
            "style": "IPY_MODEL_dd28a0b6a06449d884c3465c0a26d2e5",
            "value": " 6/6 [00:00&lt;00:00, 458.94it/s]"
          }
        },
        "4c95c76ee2a2492199a27635a8a1fada": {
          "model_module": "@jupyter-widgets/base",
          "model_name": "LayoutModel",
          "model_module_version": "1.2.0",
          "state": {
            "_model_module": "@jupyter-widgets/base",
            "_model_module_version": "1.2.0",
            "_model_name": "LayoutModel",
            "_view_count": null,
            "_view_module": "@jupyter-widgets/base",
            "_view_module_version": "1.2.0",
            "_view_name": "LayoutView",
            "align_content": null,
            "align_items": null,
            "align_self": null,
            "border": null,
            "bottom": null,
            "display": null,
            "flex": null,
            "flex_flow": null,
            "grid_area": null,
            "grid_auto_columns": null,
            "grid_auto_flow": null,
            "grid_auto_rows": null,
            "grid_column": null,
            "grid_gap": null,
            "grid_row": null,
            "grid_template_areas": null,
            "grid_template_columns": null,
            "grid_template_rows": null,
            "height": null,
            "justify_content": null,
            "justify_items": null,
            "left": null,
            "margin": null,
            "max_height": null,
            "max_width": null,
            "min_height": null,
            "min_width": null,
            "object_fit": null,
            "object_position": null,
            "order": null,
            "overflow": null,
            "overflow_x": null,
            "overflow_y": null,
            "padding": null,
            "right": null,
            "top": null,
            "visibility": null,
            "width": null
          }
        },
        "30208f27fd834ce5a56f48dd90a5a0b3": {
          "model_module": "@jupyter-widgets/base",
          "model_name": "LayoutModel",
          "model_module_version": "1.2.0",
          "state": {
            "_model_module": "@jupyter-widgets/base",
            "_model_module_version": "1.2.0",
            "_model_name": "LayoutModel",
            "_view_count": null,
            "_view_module": "@jupyter-widgets/base",
            "_view_module_version": "1.2.0",
            "_view_name": "LayoutView",
            "align_content": null,
            "align_items": null,
            "align_self": null,
            "border": null,
            "bottom": null,
            "display": null,
            "flex": null,
            "flex_flow": null,
            "grid_area": null,
            "grid_auto_columns": null,
            "grid_auto_flow": null,
            "grid_auto_rows": null,
            "grid_column": null,
            "grid_gap": null,
            "grid_row": null,
            "grid_template_areas": null,
            "grid_template_columns": null,
            "grid_template_rows": null,
            "height": null,
            "justify_content": null,
            "justify_items": null,
            "left": null,
            "margin": null,
            "max_height": null,
            "max_width": null,
            "min_height": null,
            "min_width": null,
            "object_fit": null,
            "object_position": null,
            "order": null,
            "overflow": null,
            "overflow_x": null,
            "overflow_y": null,
            "padding": null,
            "right": null,
            "top": null,
            "visibility": null,
            "width": null
          }
        },
        "79ea3e60fa644c7898c482f5be5b24dc": {
          "model_module": "@jupyter-widgets/controls",
          "model_name": "DescriptionStyleModel",
          "model_module_version": "1.5.0",
          "state": {
            "_model_module": "@jupyter-widgets/controls",
            "_model_module_version": "1.5.0",
            "_model_name": "DescriptionStyleModel",
            "_view_count": null,
            "_view_module": "@jupyter-widgets/base",
            "_view_module_version": "1.2.0",
            "_view_name": "StyleView",
            "description_width": ""
          }
        },
        "49b2567086194cdf8abfa09f17d7c890": {
          "model_module": "@jupyter-widgets/base",
          "model_name": "LayoutModel",
          "model_module_version": "1.2.0",
          "state": {
            "_model_module": "@jupyter-widgets/base",
            "_model_module_version": "1.2.0",
            "_model_name": "LayoutModel",
            "_view_count": null,
            "_view_module": "@jupyter-widgets/base",
            "_view_module_version": "1.2.0",
            "_view_name": "LayoutView",
            "align_content": null,
            "align_items": null,
            "align_self": null,
            "border": null,
            "bottom": null,
            "display": null,
            "flex": null,
            "flex_flow": null,
            "grid_area": null,
            "grid_auto_columns": null,
            "grid_auto_flow": null,
            "grid_auto_rows": null,
            "grid_column": null,
            "grid_gap": null,
            "grid_row": null,
            "grid_template_areas": null,
            "grid_template_columns": null,
            "grid_template_rows": null,
            "height": null,
            "justify_content": null,
            "justify_items": null,
            "left": null,
            "margin": null,
            "max_height": null,
            "max_width": null,
            "min_height": null,
            "min_width": null,
            "object_fit": null,
            "object_position": null,
            "order": null,
            "overflow": null,
            "overflow_x": null,
            "overflow_y": null,
            "padding": null,
            "right": null,
            "top": null,
            "visibility": null,
            "width": null
          }
        },
        "861bf854e01144d4970c86b624122234": {
          "model_module": "@jupyter-widgets/controls",
          "model_name": "ProgressStyleModel",
          "model_module_version": "1.5.0",
          "state": {
            "_model_module": "@jupyter-widgets/controls",
            "_model_module_version": "1.5.0",
            "_model_name": "ProgressStyleModel",
            "_view_count": null,
            "_view_module": "@jupyter-widgets/base",
            "_view_module_version": "1.2.0",
            "_view_name": "StyleView",
            "bar_color": null,
            "description_width": ""
          }
        },
        "c6eda32b4a5147a5ab8c55690cb5e1ca": {
          "model_module": "@jupyter-widgets/base",
          "model_name": "LayoutModel",
          "model_module_version": "1.2.0",
          "state": {
            "_model_module": "@jupyter-widgets/base",
            "_model_module_version": "1.2.0",
            "_model_name": "LayoutModel",
            "_view_count": null,
            "_view_module": "@jupyter-widgets/base",
            "_view_module_version": "1.2.0",
            "_view_name": "LayoutView",
            "align_content": null,
            "align_items": null,
            "align_self": null,
            "border": null,
            "bottom": null,
            "display": null,
            "flex": null,
            "flex_flow": null,
            "grid_area": null,
            "grid_auto_columns": null,
            "grid_auto_flow": null,
            "grid_auto_rows": null,
            "grid_column": null,
            "grid_gap": null,
            "grid_row": null,
            "grid_template_areas": null,
            "grid_template_columns": null,
            "grid_template_rows": null,
            "height": null,
            "justify_content": null,
            "justify_items": null,
            "left": null,
            "margin": null,
            "max_height": null,
            "max_width": null,
            "min_height": null,
            "min_width": null,
            "object_fit": null,
            "object_position": null,
            "order": null,
            "overflow": null,
            "overflow_x": null,
            "overflow_y": null,
            "padding": null,
            "right": null,
            "top": null,
            "visibility": null,
            "width": null
          }
        },
        "dd28a0b6a06449d884c3465c0a26d2e5": {
          "model_module": "@jupyter-widgets/controls",
          "model_name": "DescriptionStyleModel",
          "model_module_version": "1.5.0",
          "state": {
            "_model_module": "@jupyter-widgets/controls",
            "_model_module_version": "1.5.0",
            "_model_name": "DescriptionStyleModel",
            "_view_count": null,
            "_view_module": "@jupyter-widgets/base",
            "_view_module_version": "1.2.0",
            "_view_name": "StyleView",
            "description_width": ""
          }
        },
        "3fa0579fc40c4219910cb62ce61f81fd": {
          "model_module": "@jupyter-widgets/controls",
          "model_name": "HBoxModel",
          "model_module_version": "1.5.0",
          "state": {
            "_dom_classes": [],
            "_model_module": "@jupyter-widgets/controls",
            "_model_module_version": "1.5.0",
            "_model_name": "HBoxModel",
            "_view_count": null,
            "_view_module": "@jupyter-widgets/controls",
            "_view_module_version": "1.5.0",
            "_view_name": "HBoxView",
            "box_style": "",
            "children": [
              "IPY_MODEL_26a0233aedc54c529bbf2d134ee1d9f9",
              "IPY_MODEL_9607fdfe47074352819a44baa01aa0d4",
              "IPY_MODEL_70625cd27e2249e79ab8a4abcfa2b1f3"
            ],
            "layout": "IPY_MODEL_69fc0b4c72d64036a7cdb8b3f90ce647"
          }
        },
        "26a0233aedc54c529bbf2d134ee1d9f9": {
          "model_module": "@jupyter-widgets/controls",
          "model_name": "HTMLModel",
          "model_module_version": "1.5.0",
          "state": {
            "_dom_classes": [],
            "_model_module": "@jupyter-widgets/controls",
            "_model_module_version": "1.5.0",
            "_model_name": "HTMLModel",
            "_view_count": null,
            "_view_module": "@jupyter-widgets/controls",
            "_view_module_version": "1.5.0",
            "_view_name": "HTMLView",
            "description": "",
            "description_tooltip": null,
            "layout": "IPY_MODEL_dc53f379ba81474a810de4809eaaa6f2",
            "placeholder": "​",
            "style": "IPY_MODEL_8c9cd69da9344997b736c7b3e849e1ed",
            "value": " 27%"
          }
        },
        "9607fdfe47074352819a44baa01aa0d4": {
          "model_module": "@jupyter-widgets/controls",
          "model_name": "FloatProgressModel",
          "model_module_version": "1.5.0",
          "state": {
            "_dom_classes": [],
            "_model_module": "@jupyter-widgets/controls",
            "_model_module_version": "1.5.0",
            "_model_name": "FloatProgressModel",
            "_view_count": null,
            "_view_module": "@jupyter-widgets/controls",
            "_view_module_version": "1.5.0",
            "_view_name": "ProgressView",
            "bar_style": "danger",
            "description": "",
            "description_tooltip": null,
            "layout": "IPY_MODEL_5464663b7ce5485dbbe1be61a858b0c7",
            "max": 3760,
            "min": 0,
            "orientation": "horizontal",
            "style": "IPY_MODEL_be293805eea94835870062d5c5b3a210",
            "value": 1000
          }
        },
        "70625cd27e2249e79ab8a4abcfa2b1f3": {
          "model_module": "@jupyter-widgets/controls",
          "model_name": "HTMLModel",
          "model_module_version": "1.5.0",
          "state": {
            "_dom_classes": [],
            "_model_module": "@jupyter-widgets/controls",
            "_model_module_version": "1.5.0",
            "_model_name": "HTMLModel",
            "_view_count": null,
            "_view_module": "@jupyter-widgets/controls",
            "_view_module_version": "1.5.0",
            "_view_name": "HTMLView",
            "description": "",
            "description_tooltip": null,
            "layout": "IPY_MODEL_1e35e3c184234a91aa1ec7f05a32015b",
            "placeholder": "​",
            "style": "IPY_MODEL_5fb76215cb5443f19a56a0fd55cd13fb",
            "value": " 1000/3760 [10:42&lt;29:09,  1.58it/s]"
          }
        },
        "69fc0b4c72d64036a7cdb8b3f90ce647": {
          "model_module": "@jupyter-widgets/base",
          "model_name": "LayoutModel",
          "model_module_version": "1.2.0",
          "state": {
            "_model_module": "@jupyter-widgets/base",
            "_model_module_version": "1.2.0",
            "_model_name": "LayoutModel",
            "_view_count": null,
            "_view_module": "@jupyter-widgets/base",
            "_view_module_version": "1.2.0",
            "_view_name": "LayoutView",
            "align_content": null,
            "align_items": null,
            "align_self": null,
            "border": null,
            "bottom": null,
            "display": null,
            "flex": null,
            "flex_flow": null,
            "grid_area": null,
            "grid_auto_columns": null,
            "grid_auto_flow": null,
            "grid_auto_rows": null,
            "grid_column": null,
            "grid_gap": null,
            "grid_row": null,
            "grid_template_areas": null,
            "grid_template_columns": null,
            "grid_template_rows": null,
            "height": null,
            "justify_content": null,
            "justify_items": null,
            "left": null,
            "margin": null,
            "max_height": null,
            "max_width": null,
            "min_height": null,
            "min_width": null,
            "object_fit": null,
            "object_position": null,
            "order": null,
            "overflow": null,
            "overflow_x": null,
            "overflow_y": null,
            "padding": null,
            "right": null,
            "top": null,
            "visibility": null,
            "width": null
          }
        },
        "dc53f379ba81474a810de4809eaaa6f2": {
          "model_module": "@jupyter-widgets/base",
          "model_name": "LayoutModel",
          "model_module_version": "1.2.0",
          "state": {
            "_model_module": "@jupyter-widgets/base",
            "_model_module_version": "1.2.0",
            "_model_name": "LayoutModel",
            "_view_count": null,
            "_view_module": "@jupyter-widgets/base",
            "_view_module_version": "1.2.0",
            "_view_name": "LayoutView",
            "align_content": null,
            "align_items": null,
            "align_self": null,
            "border": null,
            "bottom": null,
            "display": null,
            "flex": null,
            "flex_flow": null,
            "grid_area": null,
            "grid_auto_columns": null,
            "grid_auto_flow": null,
            "grid_auto_rows": null,
            "grid_column": null,
            "grid_gap": null,
            "grid_row": null,
            "grid_template_areas": null,
            "grid_template_columns": null,
            "grid_template_rows": null,
            "height": null,
            "justify_content": null,
            "justify_items": null,
            "left": null,
            "margin": null,
            "max_height": null,
            "max_width": null,
            "min_height": null,
            "min_width": null,
            "object_fit": null,
            "object_position": null,
            "order": null,
            "overflow": null,
            "overflow_x": null,
            "overflow_y": null,
            "padding": null,
            "right": null,
            "top": null,
            "visibility": null,
            "width": null
          }
        },
        "8c9cd69da9344997b736c7b3e849e1ed": {
          "model_module": "@jupyter-widgets/controls",
          "model_name": "DescriptionStyleModel",
          "model_module_version": "1.5.0",
          "state": {
            "_model_module": "@jupyter-widgets/controls",
            "_model_module_version": "1.5.0",
            "_model_name": "DescriptionStyleModel",
            "_view_count": null,
            "_view_module": "@jupyter-widgets/base",
            "_view_module_version": "1.2.0",
            "_view_name": "StyleView",
            "description_width": ""
          }
        },
        "5464663b7ce5485dbbe1be61a858b0c7": {
          "model_module": "@jupyter-widgets/base",
          "model_name": "LayoutModel",
          "model_module_version": "1.2.0",
          "state": {
            "_model_module": "@jupyter-widgets/base",
            "_model_module_version": "1.2.0",
            "_model_name": "LayoutModel",
            "_view_count": null,
            "_view_module": "@jupyter-widgets/base",
            "_view_module_version": "1.2.0",
            "_view_name": "LayoutView",
            "align_content": null,
            "align_items": null,
            "align_self": null,
            "border": null,
            "bottom": null,
            "display": null,
            "flex": null,
            "flex_flow": null,
            "grid_area": null,
            "grid_auto_columns": null,
            "grid_auto_flow": null,
            "grid_auto_rows": null,
            "grid_column": null,
            "grid_gap": null,
            "grid_row": null,
            "grid_template_areas": null,
            "grid_template_columns": null,
            "grid_template_rows": null,
            "height": null,
            "justify_content": null,
            "justify_items": null,
            "left": null,
            "margin": null,
            "max_height": null,
            "max_width": null,
            "min_height": null,
            "min_width": null,
            "object_fit": null,
            "object_position": null,
            "order": null,
            "overflow": null,
            "overflow_x": null,
            "overflow_y": null,
            "padding": null,
            "right": null,
            "top": null,
            "visibility": null,
            "width": null
          }
        },
        "be293805eea94835870062d5c5b3a210": {
          "model_module": "@jupyter-widgets/controls",
          "model_name": "ProgressStyleModel",
          "model_module_version": "1.5.0",
          "state": {
            "_model_module": "@jupyter-widgets/controls",
            "_model_module_version": "1.5.0",
            "_model_name": "ProgressStyleModel",
            "_view_count": null,
            "_view_module": "@jupyter-widgets/base",
            "_view_module_version": "1.2.0",
            "_view_name": "StyleView",
            "bar_color": null,
            "description_width": ""
          }
        },
        "1e35e3c184234a91aa1ec7f05a32015b": {
          "model_module": "@jupyter-widgets/base",
          "model_name": "LayoutModel",
          "model_module_version": "1.2.0",
          "state": {
            "_model_module": "@jupyter-widgets/base",
            "_model_module_version": "1.2.0",
            "_model_name": "LayoutModel",
            "_view_count": null,
            "_view_module": "@jupyter-widgets/base",
            "_view_module_version": "1.2.0",
            "_view_name": "LayoutView",
            "align_content": null,
            "align_items": null,
            "align_self": null,
            "border": null,
            "bottom": null,
            "display": null,
            "flex": null,
            "flex_flow": null,
            "grid_area": null,
            "grid_auto_columns": null,
            "grid_auto_flow": null,
            "grid_auto_rows": null,
            "grid_column": null,
            "grid_gap": null,
            "grid_row": null,
            "grid_template_areas": null,
            "grid_template_columns": null,
            "grid_template_rows": null,
            "height": null,
            "justify_content": null,
            "justify_items": null,
            "left": null,
            "margin": null,
            "max_height": null,
            "max_width": null,
            "min_height": null,
            "min_width": null,
            "object_fit": null,
            "object_position": null,
            "order": null,
            "overflow": null,
            "overflow_x": null,
            "overflow_y": null,
            "padding": null,
            "right": null,
            "top": null,
            "visibility": null,
            "width": null
          }
        },
        "5fb76215cb5443f19a56a0fd55cd13fb": {
          "model_module": "@jupyter-widgets/controls",
          "model_name": "DescriptionStyleModel",
          "model_module_version": "1.5.0",
          "state": {
            "_model_module": "@jupyter-widgets/controls",
            "_model_module_version": "1.5.0",
            "_model_name": "DescriptionStyleModel",
            "_view_count": null,
            "_view_module": "@jupyter-widgets/base",
            "_view_module_version": "1.2.0",
            "_view_name": "StyleView",
            "description_width": ""
          }
        },
        "8e69ab36bb9b4af3a428c157c50eb726": {
          "model_module": "@jupyter-widgets/controls",
          "model_name": "HBoxModel",
          "model_module_version": "1.5.0",
          "state": {
            "_dom_classes": [],
            "_model_module": "@jupyter-widgets/controls",
            "_model_module_version": "1.5.0",
            "_model_name": "HBoxModel",
            "_view_count": null,
            "_view_module": "@jupyter-widgets/controls",
            "_view_module_version": "1.5.0",
            "_view_name": "HBoxView",
            "box_style": "",
            "children": [
              "IPY_MODEL_75c241f0d6864654983617a6a204a6f0",
              "IPY_MODEL_ac9e1c0dc14d45c2b2dedf4fb55c8791",
              "IPY_MODEL_ff3b86e4bb76423fb5814de6abb75e7e"
            ],
            "layout": "IPY_MODEL_1bf66df92e114811beeb74efe7879e07"
          }
        },
        "75c241f0d6864654983617a6a204a6f0": {
          "model_module": "@jupyter-widgets/controls",
          "model_name": "HTMLModel",
          "model_module_version": "1.5.0",
          "state": {
            "_dom_classes": [],
            "_model_module": "@jupyter-widgets/controls",
            "_model_module_version": "1.5.0",
            "_model_name": "HTMLModel",
            "_view_count": null,
            "_view_module": "@jupyter-widgets/controls",
            "_view_module_version": "1.5.0",
            "_view_name": "HTMLView",
            "description": "",
            "description_tooltip": null,
            "layout": "IPY_MODEL_5b1aa640ca234e65822033f5b984c156",
            "placeholder": "​",
            "style": "IPY_MODEL_b8e606a58a4047d09d0118ab34b07d07",
            "value": "100%"
          }
        },
        "ac9e1c0dc14d45c2b2dedf4fb55c8791": {
          "model_module": "@jupyter-widgets/controls",
          "model_name": "FloatProgressModel",
          "model_module_version": "1.5.0",
          "state": {
            "_dom_classes": [],
            "_model_module": "@jupyter-widgets/controls",
            "_model_module_version": "1.5.0",
            "_model_name": "FloatProgressModel",
            "_view_count": null,
            "_view_module": "@jupyter-widgets/controls",
            "_view_module_version": "1.5.0",
            "_view_name": "ProgressView",
            "bar_style": "success",
            "description": "",
            "description_tooltip": null,
            "layout": "IPY_MODEL_64467b551a074882bc5c4153aef98b68",
            "max": 6,
            "min": 0,
            "orientation": "horizontal",
            "style": "IPY_MODEL_372fd31fe54f46bda8ba6239c4311eb3",
            "value": 6
          }
        },
        "ff3b86e4bb76423fb5814de6abb75e7e": {
          "model_module": "@jupyter-widgets/controls",
          "model_name": "HTMLModel",
          "model_module_version": "1.5.0",
          "state": {
            "_dom_classes": [],
            "_model_module": "@jupyter-widgets/controls",
            "_model_module_version": "1.5.0",
            "_model_name": "HTMLModel",
            "_view_count": null,
            "_view_module": "@jupyter-widgets/controls",
            "_view_module_version": "1.5.0",
            "_view_name": "HTMLView",
            "description": "",
            "description_tooltip": null,
            "layout": "IPY_MODEL_ae9f9d7afd584c51aad79bdaa71af1de",
            "placeholder": "​",
            "style": "IPY_MODEL_2712a78d702c44afbed46c7ca1116569",
            "value": " 6/6 [00:00&lt;00:00, 208.96it/s]"
          }
        },
        "1bf66df92e114811beeb74efe7879e07": {
          "model_module": "@jupyter-widgets/base",
          "model_name": "LayoutModel",
          "model_module_version": "1.2.0",
          "state": {
            "_model_module": "@jupyter-widgets/base",
            "_model_module_version": "1.2.0",
            "_model_name": "LayoutModel",
            "_view_count": null,
            "_view_module": "@jupyter-widgets/base",
            "_view_module_version": "1.2.0",
            "_view_name": "LayoutView",
            "align_content": null,
            "align_items": null,
            "align_self": null,
            "border": null,
            "bottom": null,
            "display": null,
            "flex": null,
            "flex_flow": null,
            "grid_area": null,
            "grid_auto_columns": null,
            "grid_auto_flow": null,
            "grid_auto_rows": null,
            "grid_column": null,
            "grid_gap": null,
            "grid_row": null,
            "grid_template_areas": null,
            "grid_template_columns": null,
            "grid_template_rows": null,
            "height": null,
            "justify_content": null,
            "justify_items": null,
            "left": null,
            "margin": null,
            "max_height": null,
            "max_width": null,
            "min_height": null,
            "min_width": null,
            "object_fit": null,
            "object_position": null,
            "order": null,
            "overflow": null,
            "overflow_x": null,
            "overflow_y": null,
            "padding": null,
            "right": null,
            "top": null,
            "visibility": null,
            "width": null
          }
        },
        "5b1aa640ca234e65822033f5b984c156": {
          "model_module": "@jupyter-widgets/base",
          "model_name": "LayoutModel",
          "model_module_version": "1.2.0",
          "state": {
            "_model_module": "@jupyter-widgets/base",
            "_model_module_version": "1.2.0",
            "_model_name": "LayoutModel",
            "_view_count": null,
            "_view_module": "@jupyter-widgets/base",
            "_view_module_version": "1.2.0",
            "_view_name": "LayoutView",
            "align_content": null,
            "align_items": null,
            "align_self": null,
            "border": null,
            "bottom": null,
            "display": null,
            "flex": null,
            "flex_flow": null,
            "grid_area": null,
            "grid_auto_columns": null,
            "grid_auto_flow": null,
            "grid_auto_rows": null,
            "grid_column": null,
            "grid_gap": null,
            "grid_row": null,
            "grid_template_areas": null,
            "grid_template_columns": null,
            "grid_template_rows": null,
            "height": null,
            "justify_content": null,
            "justify_items": null,
            "left": null,
            "margin": null,
            "max_height": null,
            "max_width": null,
            "min_height": null,
            "min_width": null,
            "object_fit": null,
            "object_position": null,
            "order": null,
            "overflow": null,
            "overflow_x": null,
            "overflow_y": null,
            "padding": null,
            "right": null,
            "top": null,
            "visibility": null,
            "width": null
          }
        },
        "b8e606a58a4047d09d0118ab34b07d07": {
          "model_module": "@jupyter-widgets/controls",
          "model_name": "DescriptionStyleModel",
          "model_module_version": "1.5.0",
          "state": {
            "_model_module": "@jupyter-widgets/controls",
            "_model_module_version": "1.5.0",
            "_model_name": "DescriptionStyleModel",
            "_view_count": null,
            "_view_module": "@jupyter-widgets/base",
            "_view_module_version": "1.2.0",
            "_view_name": "StyleView",
            "description_width": ""
          }
        },
        "64467b551a074882bc5c4153aef98b68": {
          "model_module": "@jupyter-widgets/base",
          "model_name": "LayoutModel",
          "model_module_version": "1.2.0",
          "state": {
            "_model_module": "@jupyter-widgets/base",
            "_model_module_version": "1.2.0",
            "_model_name": "LayoutModel",
            "_view_count": null,
            "_view_module": "@jupyter-widgets/base",
            "_view_module_version": "1.2.0",
            "_view_name": "LayoutView",
            "align_content": null,
            "align_items": null,
            "align_self": null,
            "border": null,
            "bottom": null,
            "display": null,
            "flex": null,
            "flex_flow": null,
            "grid_area": null,
            "grid_auto_columns": null,
            "grid_auto_flow": null,
            "grid_auto_rows": null,
            "grid_column": null,
            "grid_gap": null,
            "grid_row": null,
            "grid_template_areas": null,
            "grid_template_columns": null,
            "grid_template_rows": null,
            "height": null,
            "justify_content": null,
            "justify_items": null,
            "left": null,
            "margin": null,
            "max_height": null,
            "max_width": null,
            "min_height": null,
            "min_width": null,
            "object_fit": null,
            "object_position": null,
            "order": null,
            "overflow": null,
            "overflow_x": null,
            "overflow_y": null,
            "padding": null,
            "right": null,
            "top": null,
            "visibility": null,
            "width": null
          }
        },
        "372fd31fe54f46bda8ba6239c4311eb3": {
          "model_module": "@jupyter-widgets/controls",
          "model_name": "ProgressStyleModel",
          "model_module_version": "1.5.0",
          "state": {
            "_model_module": "@jupyter-widgets/controls",
            "_model_module_version": "1.5.0",
            "_model_name": "ProgressStyleModel",
            "_view_count": null,
            "_view_module": "@jupyter-widgets/base",
            "_view_module_version": "1.2.0",
            "_view_name": "StyleView",
            "bar_color": null,
            "description_width": ""
          }
        },
        "ae9f9d7afd584c51aad79bdaa71af1de": {
          "model_module": "@jupyter-widgets/base",
          "model_name": "LayoutModel",
          "model_module_version": "1.2.0",
          "state": {
            "_model_module": "@jupyter-widgets/base",
            "_model_module_version": "1.2.0",
            "_model_name": "LayoutModel",
            "_view_count": null,
            "_view_module": "@jupyter-widgets/base",
            "_view_module_version": "1.2.0",
            "_view_name": "LayoutView",
            "align_content": null,
            "align_items": null,
            "align_self": null,
            "border": null,
            "bottom": null,
            "display": null,
            "flex": null,
            "flex_flow": null,
            "grid_area": null,
            "grid_auto_columns": null,
            "grid_auto_flow": null,
            "grid_auto_rows": null,
            "grid_column": null,
            "grid_gap": null,
            "grid_row": null,
            "grid_template_areas": null,
            "grid_template_columns": null,
            "grid_template_rows": null,
            "height": null,
            "justify_content": null,
            "justify_items": null,
            "left": null,
            "margin": null,
            "max_height": null,
            "max_width": null,
            "min_height": null,
            "min_width": null,
            "object_fit": null,
            "object_position": null,
            "order": null,
            "overflow": null,
            "overflow_x": null,
            "overflow_y": null,
            "padding": null,
            "right": null,
            "top": null,
            "visibility": null,
            "width": null
          }
        },
        "2712a78d702c44afbed46c7ca1116569": {
          "model_module": "@jupyter-widgets/controls",
          "model_name": "DescriptionStyleModel",
          "model_module_version": "1.5.0",
          "state": {
            "_model_module": "@jupyter-widgets/controls",
            "_model_module_version": "1.5.0",
            "_model_name": "DescriptionStyleModel",
            "_view_count": null,
            "_view_module": "@jupyter-widgets/base",
            "_view_module_version": "1.2.0",
            "_view_name": "StyleView",
            "description_width": ""
          }
        },
        "53b025d9fa0f4f0c9be08932db40282a": {
          "model_module": "@jupyter-widgets/controls",
          "model_name": "HBoxModel",
          "model_module_version": "1.5.0",
          "state": {
            "_dom_classes": [],
            "_model_module": "@jupyter-widgets/controls",
            "_model_module_version": "1.5.0",
            "_model_name": "HBoxModel",
            "_view_count": null,
            "_view_module": "@jupyter-widgets/controls",
            "_view_module_version": "1.5.0",
            "_view_name": "HBoxView",
            "box_style": "",
            "children": [
              "IPY_MODEL_dda114d235964c3f974f14612be2bf36",
              "IPY_MODEL_2a4737de59f64073848b02cb29d353f9",
              "IPY_MODEL_2fb85ac3a4e84caa80ff2ad2a7bb5f13"
            ],
            "layout": "IPY_MODEL_14fc878e0fb14f64b077b0fa0a4ffb58"
          }
        },
        "dda114d235964c3f974f14612be2bf36": {
          "model_module": "@jupyter-widgets/controls",
          "model_name": "HTMLModel",
          "model_module_version": "1.5.0",
          "state": {
            "_dom_classes": [],
            "_model_module": "@jupyter-widgets/controls",
            "_model_module_version": "1.5.0",
            "_model_name": "HTMLModel",
            "_view_count": null,
            "_view_module": "@jupyter-widgets/controls",
            "_view_module_version": "1.5.0",
            "_view_name": "HTMLView",
            "description": "",
            "description_tooltip": null,
            "layout": "IPY_MODEL_c83b2b89357041ef80691ba6d2643ec8",
            "placeholder": "​",
            "style": "IPY_MODEL_1cb1d0fe44d84e2a988b6f6ccb709be7",
            "value": " 27%"
          }
        },
        "2a4737de59f64073848b02cb29d353f9": {
          "model_module": "@jupyter-widgets/controls",
          "model_name": "FloatProgressModel",
          "model_module_version": "1.5.0",
          "state": {
            "_dom_classes": [],
            "_model_module": "@jupyter-widgets/controls",
            "_model_module_version": "1.5.0",
            "_model_name": "FloatProgressModel",
            "_view_count": null,
            "_view_module": "@jupyter-widgets/controls",
            "_view_module_version": "1.5.0",
            "_view_name": "ProgressView",
            "bar_style": "danger",
            "description": "",
            "description_tooltip": null,
            "layout": "IPY_MODEL_86051271f6354b268412470126557728",
            "max": 3760,
            "min": 0,
            "orientation": "horizontal",
            "style": "IPY_MODEL_a98850bdd0404e9495ae32a24fdd6d07",
            "value": 1000
          }
        },
        "2fb85ac3a4e84caa80ff2ad2a7bb5f13": {
          "model_module": "@jupyter-widgets/controls",
          "model_name": "HTMLModel",
          "model_module_version": "1.5.0",
          "state": {
            "_dom_classes": [],
            "_model_module": "@jupyter-widgets/controls",
            "_model_module_version": "1.5.0",
            "_model_name": "HTMLModel",
            "_view_count": null,
            "_view_module": "@jupyter-widgets/controls",
            "_view_module_version": "1.5.0",
            "_view_name": "HTMLView",
            "description": "",
            "description_tooltip": null,
            "layout": "IPY_MODEL_6445af0729e544e4886d07724dd7c83f",
            "placeholder": "​",
            "style": "IPY_MODEL_dd7cf4e2a11b42638b2b051a25912d85",
            "value": " 1000/3760 [10:05&lt;26:11,  1.76it/s]"
          }
        },
        "14fc878e0fb14f64b077b0fa0a4ffb58": {
          "model_module": "@jupyter-widgets/base",
          "model_name": "LayoutModel",
          "model_module_version": "1.2.0",
          "state": {
            "_model_module": "@jupyter-widgets/base",
            "_model_module_version": "1.2.0",
            "_model_name": "LayoutModel",
            "_view_count": null,
            "_view_module": "@jupyter-widgets/base",
            "_view_module_version": "1.2.0",
            "_view_name": "LayoutView",
            "align_content": null,
            "align_items": null,
            "align_self": null,
            "border": null,
            "bottom": null,
            "display": null,
            "flex": null,
            "flex_flow": null,
            "grid_area": null,
            "grid_auto_columns": null,
            "grid_auto_flow": null,
            "grid_auto_rows": null,
            "grid_column": null,
            "grid_gap": null,
            "grid_row": null,
            "grid_template_areas": null,
            "grid_template_columns": null,
            "grid_template_rows": null,
            "height": null,
            "justify_content": null,
            "justify_items": null,
            "left": null,
            "margin": null,
            "max_height": null,
            "max_width": null,
            "min_height": null,
            "min_width": null,
            "object_fit": null,
            "object_position": null,
            "order": null,
            "overflow": null,
            "overflow_x": null,
            "overflow_y": null,
            "padding": null,
            "right": null,
            "top": null,
            "visibility": null,
            "width": null
          }
        },
        "c83b2b89357041ef80691ba6d2643ec8": {
          "model_module": "@jupyter-widgets/base",
          "model_name": "LayoutModel",
          "model_module_version": "1.2.0",
          "state": {
            "_model_module": "@jupyter-widgets/base",
            "_model_module_version": "1.2.0",
            "_model_name": "LayoutModel",
            "_view_count": null,
            "_view_module": "@jupyter-widgets/base",
            "_view_module_version": "1.2.0",
            "_view_name": "LayoutView",
            "align_content": null,
            "align_items": null,
            "align_self": null,
            "border": null,
            "bottom": null,
            "display": null,
            "flex": null,
            "flex_flow": null,
            "grid_area": null,
            "grid_auto_columns": null,
            "grid_auto_flow": null,
            "grid_auto_rows": null,
            "grid_column": null,
            "grid_gap": null,
            "grid_row": null,
            "grid_template_areas": null,
            "grid_template_columns": null,
            "grid_template_rows": null,
            "height": null,
            "justify_content": null,
            "justify_items": null,
            "left": null,
            "margin": null,
            "max_height": null,
            "max_width": null,
            "min_height": null,
            "min_width": null,
            "object_fit": null,
            "object_position": null,
            "order": null,
            "overflow": null,
            "overflow_x": null,
            "overflow_y": null,
            "padding": null,
            "right": null,
            "top": null,
            "visibility": null,
            "width": null
          }
        },
        "1cb1d0fe44d84e2a988b6f6ccb709be7": {
          "model_module": "@jupyter-widgets/controls",
          "model_name": "DescriptionStyleModel",
          "model_module_version": "1.5.0",
          "state": {
            "_model_module": "@jupyter-widgets/controls",
            "_model_module_version": "1.5.0",
            "_model_name": "DescriptionStyleModel",
            "_view_count": null,
            "_view_module": "@jupyter-widgets/base",
            "_view_module_version": "1.2.0",
            "_view_name": "StyleView",
            "description_width": ""
          }
        },
        "86051271f6354b268412470126557728": {
          "model_module": "@jupyter-widgets/base",
          "model_name": "LayoutModel",
          "model_module_version": "1.2.0",
          "state": {
            "_model_module": "@jupyter-widgets/base",
            "_model_module_version": "1.2.0",
            "_model_name": "LayoutModel",
            "_view_count": null,
            "_view_module": "@jupyter-widgets/base",
            "_view_module_version": "1.2.0",
            "_view_name": "LayoutView",
            "align_content": null,
            "align_items": null,
            "align_self": null,
            "border": null,
            "bottom": null,
            "display": null,
            "flex": null,
            "flex_flow": null,
            "grid_area": null,
            "grid_auto_columns": null,
            "grid_auto_flow": null,
            "grid_auto_rows": null,
            "grid_column": null,
            "grid_gap": null,
            "grid_row": null,
            "grid_template_areas": null,
            "grid_template_columns": null,
            "grid_template_rows": null,
            "height": null,
            "justify_content": null,
            "justify_items": null,
            "left": null,
            "margin": null,
            "max_height": null,
            "max_width": null,
            "min_height": null,
            "min_width": null,
            "object_fit": null,
            "object_position": null,
            "order": null,
            "overflow": null,
            "overflow_x": null,
            "overflow_y": null,
            "padding": null,
            "right": null,
            "top": null,
            "visibility": null,
            "width": null
          }
        },
        "a98850bdd0404e9495ae32a24fdd6d07": {
          "model_module": "@jupyter-widgets/controls",
          "model_name": "ProgressStyleModel",
          "model_module_version": "1.5.0",
          "state": {
            "_model_module": "@jupyter-widgets/controls",
            "_model_module_version": "1.5.0",
            "_model_name": "ProgressStyleModel",
            "_view_count": null,
            "_view_module": "@jupyter-widgets/base",
            "_view_module_version": "1.2.0",
            "_view_name": "StyleView",
            "bar_color": null,
            "description_width": ""
          }
        },
        "6445af0729e544e4886d07724dd7c83f": {
          "model_module": "@jupyter-widgets/base",
          "model_name": "LayoutModel",
          "model_module_version": "1.2.0",
          "state": {
            "_model_module": "@jupyter-widgets/base",
            "_model_module_version": "1.2.0",
            "_model_name": "LayoutModel",
            "_view_count": null,
            "_view_module": "@jupyter-widgets/base",
            "_view_module_version": "1.2.0",
            "_view_name": "LayoutView",
            "align_content": null,
            "align_items": null,
            "align_self": null,
            "border": null,
            "bottom": null,
            "display": null,
            "flex": null,
            "flex_flow": null,
            "grid_area": null,
            "grid_auto_columns": null,
            "grid_auto_flow": null,
            "grid_auto_rows": null,
            "grid_column": null,
            "grid_gap": null,
            "grid_row": null,
            "grid_template_areas": null,
            "grid_template_columns": null,
            "grid_template_rows": null,
            "height": null,
            "justify_content": null,
            "justify_items": null,
            "left": null,
            "margin": null,
            "max_height": null,
            "max_width": null,
            "min_height": null,
            "min_width": null,
            "object_fit": null,
            "object_position": null,
            "order": null,
            "overflow": null,
            "overflow_x": null,
            "overflow_y": null,
            "padding": null,
            "right": null,
            "top": null,
            "visibility": null,
            "width": null
          }
        },
        "dd7cf4e2a11b42638b2b051a25912d85": {
          "model_module": "@jupyter-widgets/controls",
          "model_name": "DescriptionStyleModel",
          "model_module_version": "1.5.0",
          "state": {
            "_model_module": "@jupyter-widgets/controls",
            "_model_module_version": "1.5.0",
            "_model_name": "DescriptionStyleModel",
            "_view_count": null,
            "_view_module": "@jupyter-widgets/base",
            "_view_module_version": "1.2.0",
            "_view_name": "StyleView",
            "description_width": ""
          }
        },
        "11a97d7d290c4f03a0028d1c34415c1c": {
          "model_module": "@jupyter-widgets/controls",
          "model_name": "HBoxModel",
          "model_module_version": "1.5.0",
          "state": {
            "_dom_classes": [],
            "_model_module": "@jupyter-widgets/controls",
            "_model_module_version": "1.5.0",
            "_model_name": "HBoxModel",
            "_view_count": null,
            "_view_module": "@jupyter-widgets/controls",
            "_view_module_version": "1.5.0",
            "_view_name": "HBoxView",
            "box_style": "",
            "children": [
              "IPY_MODEL_dc26148d988646469af5399887448e60",
              "IPY_MODEL_9fe834cb3307493ab8de6bdfc358b020",
              "IPY_MODEL_c36d62b3d57f421db004c27d5ceec976"
            ],
            "layout": "IPY_MODEL_bc32a9f9fc654b1e86d530a8c40c7943"
          }
        },
        "dc26148d988646469af5399887448e60": {
          "model_module": "@jupyter-widgets/controls",
          "model_name": "HTMLModel",
          "model_module_version": "1.5.0",
          "state": {
            "_dom_classes": [],
            "_model_module": "@jupyter-widgets/controls",
            "_model_module_version": "1.5.0",
            "_model_name": "HTMLModel",
            "_view_count": null,
            "_view_module": "@jupyter-widgets/controls",
            "_view_module_version": "1.5.0",
            "_view_name": "HTMLView",
            "description": "",
            "description_tooltip": null,
            "layout": "IPY_MODEL_b406f4947e6a4ad0b4c9afeef58b257e",
            "placeholder": "​",
            "style": "IPY_MODEL_921980b1ca9840bb904b5daf3bc783fe",
            "value": "100%"
          }
        },
        "9fe834cb3307493ab8de6bdfc358b020": {
          "model_module": "@jupyter-widgets/controls",
          "model_name": "FloatProgressModel",
          "model_module_version": "1.5.0",
          "state": {
            "_dom_classes": [],
            "_model_module": "@jupyter-widgets/controls",
            "_model_module_version": "1.5.0",
            "_model_name": "FloatProgressModel",
            "_view_count": null,
            "_view_module": "@jupyter-widgets/controls",
            "_view_module_version": "1.5.0",
            "_view_name": "ProgressView",
            "bar_style": "success",
            "description": "",
            "description_tooltip": null,
            "layout": "IPY_MODEL_c9d2702b31ee4d39b0a1fbb168397ead",
            "max": 6,
            "min": 0,
            "orientation": "horizontal",
            "style": "IPY_MODEL_ceeff8f7022e416e998219ad54d734dc",
            "value": 6
          }
        },
        "c36d62b3d57f421db004c27d5ceec976": {
          "model_module": "@jupyter-widgets/controls",
          "model_name": "HTMLModel",
          "model_module_version": "1.5.0",
          "state": {
            "_dom_classes": [],
            "_model_module": "@jupyter-widgets/controls",
            "_model_module_version": "1.5.0",
            "_model_name": "HTMLModel",
            "_view_count": null,
            "_view_module": "@jupyter-widgets/controls",
            "_view_module_version": "1.5.0",
            "_view_name": "HTMLView",
            "description": "",
            "description_tooltip": null,
            "layout": "IPY_MODEL_8792afca780a408ba7821a22b95bdb98",
            "placeholder": "​",
            "style": "IPY_MODEL_2cb0addbd11a4d7d8a548f50f50b58e9",
            "value": " 6/6 [00:00&lt;00:00, 204.58it/s]"
          }
        },
        "bc32a9f9fc654b1e86d530a8c40c7943": {
          "model_module": "@jupyter-widgets/base",
          "model_name": "LayoutModel",
          "model_module_version": "1.2.0",
          "state": {
            "_model_module": "@jupyter-widgets/base",
            "_model_module_version": "1.2.0",
            "_model_name": "LayoutModel",
            "_view_count": null,
            "_view_module": "@jupyter-widgets/base",
            "_view_module_version": "1.2.0",
            "_view_name": "LayoutView",
            "align_content": null,
            "align_items": null,
            "align_self": null,
            "border": null,
            "bottom": null,
            "display": null,
            "flex": null,
            "flex_flow": null,
            "grid_area": null,
            "grid_auto_columns": null,
            "grid_auto_flow": null,
            "grid_auto_rows": null,
            "grid_column": null,
            "grid_gap": null,
            "grid_row": null,
            "grid_template_areas": null,
            "grid_template_columns": null,
            "grid_template_rows": null,
            "height": null,
            "justify_content": null,
            "justify_items": null,
            "left": null,
            "margin": null,
            "max_height": null,
            "max_width": null,
            "min_height": null,
            "min_width": null,
            "object_fit": null,
            "object_position": null,
            "order": null,
            "overflow": null,
            "overflow_x": null,
            "overflow_y": null,
            "padding": null,
            "right": null,
            "top": null,
            "visibility": null,
            "width": null
          }
        },
        "b406f4947e6a4ad0b4c9afeef58b257e": {
          "model_module": "@jupyter-widgets/base",
          "model_name": "LayoutModel",
          "model_module_version": "1.2.0",
          "state": {
            "_model_module": "@jupyter-widgets/base",
            "_model_module_version": "1.2.0",
            "_model_name": "LayoutModel",
            "_view_count": null,
            "_view_module": "@jupyter-widgets/base",
            "_view_module_version": "1.2.0",
            "_view_name": "LayoutView",
            "align_content": null,
            "align_items": null,
            "align_self": null,
            "border": null,
            "bottom": null,
            "display": null,
            "flex": null,
            "flex_flow": null,
            "grid_area": null,
            "grid_auto_columns": null,
            "grid_auto_flow": null,
            "grid_auto_rows": null,
            "grid_column": null,
            "grid_gap": null,
            "grid_row": null,
            "grid_template_areas": null,
            "grid_template_columns": null,
            "grid_template_rows": null,
            "height": null,
            "justify_content": null,
            "justify_items": null,
            "left": null,
            "margin": null,
            "max_height": null,
            "max_width": null,
            "min_height": null,
            "min_width": null,
            "object_fit": null,
            "object_position": null,
            "order": null,
            "overflow": null,
            "overflow_x": null,
            "overflow_y": null,
            "padding": null,
            "right": null,
            "top": null,
            "visibility": null,
            "width": null
          }
        },
        "921980b1ca9840bb904b5daf3bc783fe": {
          "model_module": "@jupyter-widgets/controls",
          "model_name": "DescriptionStyleModel",
          "model_module_version": "1.5.0",
          "state": {
            "_model_module": "@jupyter-widgets/controls",
            "_model_module_version": "1.5.0",
            "_model_name": "DescriptionStyleModel",
            "_view_count": null,
            "_view_module": "@jupyter-widgets/base",
            "_view_module_version": "1.2.0",
            "_view_name": "StyleView",
            "description_width": ""
          }
        },
        "c9d2702b31ee4d39b0a1fbb168397ead": {
          "model_module": "@jupyter-widgets/base",
          "model_name": "LayoutModel",
          "model_module_version": "1.2.0",
          "state": {
            "_model_module": "@jupyter-widgets/base",
            "_model_module_version": "1.2.0",
            "_model_name": "LayoutModel",
            "_view_count": null,
            "_view_module": "@jupyter-widgets/base",
            "_view_module_version": "1.2.0",
            "_view_name": "LayoutView",
            "align_content": null,
            "align_items": null,
            "align_self": null,
            "border": null,
            "bottom": null,
            "display": null,
            "flex": null,
            "flex_flow": null,
            "grid_area": null,
            "grid_auto_columns": null,
            "grid_auto_flow": null,
            "grid_auto_rows": null,
            "grid_column": null,
            "grid_gap": null,
            "grid_row": null,
            "grid_template_areas": null,
            "grid_template_columns": null,
            "grid_template_rows": null,
            "height": null,
            "justify_content": null,
            "justify_items": null,
            "left": null,
            "margin": null,
            "max_height": null,
            "max_width": null,
            "min_height": null,
            "min_width": null,
            "object_fit": null,
            "object_position": null,
            "order": null,
            "overflow": null,
            "overflow_x": null,
            "overflow_y": null,
            "padding": null,
            "right": null,
            "top": null,
            "visibility": null,
            "width": null
          }
        },
        "ceeff8f7022e416e998219ad54d734dc": {
          "model_module": "@jupyter-widgets/controls",
          "model_name": "ProgressStyleModel",
          "model_module_version": "1.5.0",
          "state": {
            "_model_module": "@jupyter-widgets/controls",
            "_model_module_version": "1.5.0",
            "_model_name": "ProgressStyleModel",
            "_view_count": null,
            "_view_module": "@jupyter-widgets/base",
            "_view_module_version": "1.2.0",
            "_view_name": "StyleView",
            "bar_color": null,
            "description_width": ""
          }
        },
        "8792afca780a408ba7821a22b95bdb98": {
          "model_module": "@jupyter-widgets/base",
          "model_name": "LayoutModel",
          "model_module_version": "1.2.0",
          "state": {
            "_model_module": "@jupyter-widgets/base",
            "_model_module_version": "1.2.0",
            "_model_name": "LayoutModel",
            "_view_count": null,
            "_view_module": "@jupyter-widgets/base",
            "_view_module_version": "1.2.0",
            "_view_name": "LayoutView",
            "align_content": null,
            "align_items": null,
            "align_self": null,
            "border": null,
            "bottom": null,
            "display": null,
            "flex": null,
            "flex_flow": null,
            "grid_area": null,
            "grid_auto_columns": null,
            "grid_auto_flow": null,
            "grid_auto_rows": null,
            "grid_column": null,
            "grid_gap": null,
            "grid_row": null,
            "grid_template_areas": null,
            "grid_template_columns": null,
            "grid_template_rows": null,
            "height": null,
            "justify_content": null,
            "justify_items": null,
            "left": null,
            "margin": null,
            "max_height": null,
            "max_width": null,
            "min_height": null,
            "min_width": null,
            "object_fit": null,
            "object_position": null,
            "order": null,
            "overflow": null,
            "overflow_x": null,
            "overflow_y": null,
            "padding": null,
            "right": null,
            "top": null,
            "visibility": null,
            "width": null
          }
        },
        "2cb0addbd11a4d7d8a548f50f50b58e9": {
          "model_module": "@jupyter-widgets/controls",
          "model_name": "DescriptionStyleModel",
          "model_module_version": "1.5.0",
          "state": {
            "_model_module": "@jupyter-widgets/controls",
            "_model_module_version": "1.5.0",
            "_model_name": "DescriptionStyleModel",
            "_view_count": null,
            "_view_module": "@jupyter-widgets/base",
            "_view_module_version": "1.2.0",
            "_view_name": "StyleView",
            "description_width": ""
          }
        },
        "45696bfe91904ca08f7e69309eb0708b": {
          "model_module": "@jupyter-widgets/controls",
          "model_name": "HBoxModel",
          "model_module_version": "1.5.0",
          "state": {
            "_dom_classes": [],
            "_model_module": "@jupyter-widgets/controls",
            "_model_module_version": "1.5.0",
            "_model_name": "HBoxModel",
            "_view_count": null,
            "_view_module": "@jupyter-widgets/controls",
            "_view_module_version": "1.5.0",
            "_view_name": "HBoxView",
            "box_style": "",
            "children": [
              "IPY_MODEL_d52e6ca074c24115bd4d6fe215949cf4",
              "IPY_MODEL_edfeb9d31a2a44c58e91b0eda32cf309",
              "IPY_MODEL_b0e7239b6b9c475a9a987889fb27bf6f"
            ],
            "layout": "IPY_MODEL_52ae0b90f1ef4e5d9a7fa54ad8e39a7e"
          }
        },
        "d52e6ca074c24115bd4d6fe215949cf4": {
          "model_module": "@jupyter-widgets/controls",
          "model_name": "HTMLModel",
          "model_module_version": "1.5.0",
          "state": {
            "_dom_classes": [],
            "_model_module": "@jupyter-widgets/controls",
            "_model_module_version": "1.5.0",
            "_model_name": "HTMLModel",
            "_view_count": null,
            "_view_module": "@jupyter-widgets/controls",
            "_view_module_version": "1.5.0",
            "_view_name": "HTMLView",
            "description": "",
            "description_tooltip": null,
            "layout": "IPY_MODEL_1fdd52518e52434fa6e61c22aaf4169c",
            "placeholder": "​",
            "style": "IPY_MODEL_75734bcbdfbd4151a1bf1e25194d050e",
            "value": " 27%"
          }
        },
        "edfeb9d31a2a44c58e91b0eda32cf309": {
          "model_module": "@jupyter-widgets/controls",
          "model_name": "FloatProgressModel",
          "model_module_version": "1.5.0",
          "state": {
            "_dom_classes": [],
            "_model_module": "@jupyter-widgets/controls",
            "_model_module_version": "1.5.0",
            "_model_name": "FloatProgressModel",
            "_view_count": null,
            "_view_module": "@jupyter-widgets/controls",
            "_view_module_version": "1.5.0",
            "_view_name": "ProgressView",
            "bar_style": "danger",
            "description": "",
            "description_tooltip": null,
            "layout": "IPY_MODEL_6c060a4e2c934f009bb8de4fc5891146",
            "max": 3760,
            "min": 0,
            "orientation": "horizontal",
            "style": "IPY_MODEL_d36fc2a758a1465aa974bfbc9a9b2f85",
            "value": 1000
          }
        },
        "b0e7239b6b9c475a9a987889fb27bf6f": {
          "model_module": "@jupyter-widgets/controls",
          "model_name": "HTMLModel",
          "model_module_version": "1.5.0",
          "state": {
            "_dom_classes": [],
            "_model_module": "@jupyter-widgets/controls",
            "_model_module_version": "1.5.0",
            "_model_name": "HTMLModel",
            "_view_count": null,
            "_view_module": "@jupyter-widgets/controls",
            "_view_module_version": "1.5.0",
            "_view_name": "HTMLView",
            "description": "",
            "description_tooltip": null,
            "layout": "IPY_MODEL_733309165cce47b9bb636a0767d7c1f5",
            "placeholder": "​",
            "style": "IPY_MODEL_cf5ec0f86b2a4319a95a62d410b3116d",
            "value": " 1000/3760 [10:20&lt;25:39,  1.79it/s]"
          }
        },
        "52ae0b90f1ef4e5d9a7fa54ad8e39a7e": {
          "model_module": "@jupyter-widgets/base",
          "model_name": "LayoutModel",
          "model_module_version": "1.2.0",
          "state": {
            "_model_module": "@jupyter-widgets/base",
            "_model_module_version": "1.2.0",
            "_model_name": "LayoutModel",
            "_view_count": null,
            "_view_module": "@jupyter-widgets/base",
            "_view_module_version": "1.2.0",
            "_view_name": "LayoutView",
            "align_content": null,
            "align_items": null,
            "align_self": null,
            "border": null,
            "bottom": null,
            "display": null,
            "flex": null,
            "flex_flow": null,
            "grid_area": null,
            "grid_auto_columns": null,
            "grid_auto_flow": null,
            "grid_auto_rows": null,
            "grid_column": null,
            "grid_gap": null,
            "grid_row": null,
            "grid_template_areas": null,
            "grid_template_columns": null,
            "grid_template_rows": null,
            "height": null,
            "justify_content": null,
            "justify_items": null,
            "left": null,
            "margin": null,
            "max_height": null,
            "max_width": null,
            "min_height": null,
            "min_width": null,
            "object_fit": null,
            "object_position": null,
            "order": null,
            "overflow": null,
            "overflow_x": null,
            "overflow_y": null,
            "padding": null,
            "right": null,
            "top": null,
            "visibility": null,
            "width": null
          }
        },
        "1fdd52518e52434fa6e61c22aaf4169c": {
          "model_module": "@jupyter-widgets/base",
          "model_name": "LayoutModel",
          "model_module_version": "1.2.0",
          "state": {
            "_model_module": "@jupyter-widgets/base",
            "_model_module_version": "1.2.0",
            "_model_name": "LayoutModel",
            "_view_count": null,
            "_view_module": "@jupyter-widgets/base",
            "_view_module_version": "1.2.0",
            "_view_name": "LayoutView",
            "align_content": null,
            "align_items": null,
            "align_self": null,
            "border": null,
            "bottom": null,
            "display": null,
            "flex": null,
            "flex_flow": null,
            "grid_area": null,
            "grid_auto_columns": null,
            "grid_auto_flow": null,
            "grid_auto_rows": null,
            "grid_column": null,
            "grid_gap": null,
            "grid_row": null,
            "grid_template_areas": null,
            "grid_template_columns": null,
            "grid_template_rows": null,
            "height": null,
            "justify_content": null,
            "justify_items": null,
            "left": null,
            "margin": null,
            "max_height": null,
            "max_width": null,
            "min_height": null,
            "min_width": null,
            "object_fit": null,
            "object_position": null,
            "order": null,
            "overflow": null,
            "overflow_x": null,
            "overflow_y": null,
            "padding": null,
            "right": null,
            "top": null,
            "visibility": null,
            "width": null
          }
        },
        "75734bcbdfbd4151a1bf1e25194d050e": {
          "model_module": "@jupyter-widgets/controls",
          "model_name": "DescriptionStyleModel",
          "model_module_version": "1.5.0",
          "state": {
            "_model_module": "@jupyter-widgets/controls",
            "_model_module_version": "1.5.0",
            "_model_name": "DescriptionStyleModel",
            "_view_count": null,
            "_view_module": "@jupyter-widgets/base",
            "_view_module_version": "1.2.0",
            "_view_name": "StyleView",
            "description_width": ""
          }
        },
        "6c060a4e2c934f009bb8de4fc5891146": {
          "model_module": "@jupyter-widgets/base",
          "model_name": "LayoutModel",
          "model_module_version": "1.2.0",
          "state": {
            "_model_module": "@jupyter-widgets/base",
            "_model_module_version": "1.2.0",
            "_model_name": "LayoutModel",
            "_view_count": null,
            "_view_module": "@jupyter-widgets/base",
            "_view_module_version": "1.2.0",
            "_view_name": "LayoutView",
            "align_content": null,
            "align_items": null,
            "align_self": null,
            "border": null,
            "bottom": null,
            "display": null,
            "flex": null,
            "flex_flow": null,
            "grid_area": null,
            "grid_auto_columns": null,
            "grid_auto_flow": null,
            "grid_auto_rows": null,
            "grid_column": null,
            "grid_gap": null,
            "grid_row": null,
            "grid_template_areas": null,
            "grid_template_columns": null,
            "grid_template_rows": null,
            "height": null,
            "justify_content": null,
            "justify_items": null,
            "left": null,
            "margin": null,
            "max_height": null,
            "max_width": null,
            "min_height": null,
            "min_width": null,
            "object_fit": null,
            "object_position": null,
            "order": null,
            "overflow": null,
            "overflow_x": null,
            "overflow_y": null,
            "padding": null,
            "right": null,
            "top": null,
            "visibility": null,
            "width": null
          }
        },
        "d36fc2a758a1465aa974bfbc9a9b2f85": {
          "model_module": "@jupyter-widgets/controls",
          "model_name": "ProgressStyleModel",
          "model_module_version": "1.5.0",
          "state": {
            "_model_module": "@jupyter-widgets/controls",
            "_model_module_version": "1.5.0",
            "_model_name": "ProgressStyleModel",
            "_view_count": null,
            "_view_module": "@jupyter-widgets/base",
            "_view_module_version": "1.2.0",
            "_view_name": "StyleView",
            "bar_color": null,
            "description_width": ""
          }
        },
        "733309165cce47b9bb636a0767d7c1f5": {
          "model_module": "@jupyter-widgets/base",
          "model_name": "LayoutModel",
          "model_module_version": "1.2.0",
          "state": {
            "_model_module": "@jupyter-widgets/base",
            "_model_module_version": "1.2.0",
            "_model_name": "LayoutModel",
            "_view_count": null,
            "_view_module": "@jupyter-widgets/base",
            "_view_module_version": "1.2.0",
            "_view_name": "LayoutView",
            "align_content": null,
            "align_items": null,
            "align_self": null,
            "border": null,
            "bottom": null,
            "display": null,
            "flex": null,
            "flex_flow": null,
            "grid_area": null,
            "grid_auto_columns": null,
            "grid_auto_flow": null,
            "grid_auto_rows": null,
            "grid_column": null,
            "grid_gap": null,
            "grid_row": null,
            "grid_template_areas": null,
            "grid_template_columns": null,
            "grid_template_rows": null,
            "height": null,
            "justify_content": null,
            "justify_items": null,
            "left": null,
            "margin": null,
            "max_height": null,
            "max_width": null,
            "min_height": null,
            "min_width": null,
            "object_fit": null,
            "object_position": null,
            "order": null,
            "overflow": null,
            "overflow_x": null,
            "overflow_y": null,
            "padding": null,
            "right": null,
            "top": null,
            "visibility": null,
            "width": null
          }
        },
        "cf5ec0f86b2a4319a95a62d410b3116d": {
          "model_module": "@jupyter-widgets/controls",
          "model_name": "DescriptionStyleModel",
          "model_module_version": "1.5.0",
          "state": {
            "_model_module": "@jupyter-widgets/controls",
            "_model_module_version": "1.5.0",
            "_model_name": "DescriptionStyleModel",
            "_view_count": null,
            "_view_module": "@jupyter-widgets/base",
            "_view_module_version": "1.2.0",
            "_view_name": "StyleView",
            "description_width": ""
          }
        },
        "66fce1ee285147d9b43ff80cc857d8be": {
          "model_module": "@jupyter-widgets/controls",
          "model_name": "HBoxModel",
          "model_module_version": "1.5.0",
          "state": {
            "_dom_classes": [],
            "_model_module": "@jupyter-widgets/controls",
            "_model_module_version": "1.5.0",
            "_model_name": "HBoxModel",
            "_view_count": null,
            "_view_module": "@jupyter-widgets/controls",
            "_view_module_version": "1.5.0",
            "_view_name": "HBoxView",
            "box_style": "",
            "children": [
              "IPY_MODEL_d8a31c8478234da985fa4c124ab6a85c",
              "IPY_MODEL_cb0d86a2c88d49fa8ee51645640b5b06",
              "IPY_MODEL_993f58b417364bfea3e710837d9bedae"
            ],
            "layout": "IPY_MODEL_b7f0423822bc421dbdac4d57f0731b94"
          }
        },
        "d8a31c8478234da985fa4c124ab6a85c": {
          "model_module": "@jupyter-widgets/controls",
          "model_name": "HTMLModel",
          "model_module_version": "1.5.0",
          "state": {
            "_dom_classes": [],
            "_model_module": "@jupyter-widgets/controls",
            "_model_module_version": "1.5.0",
            "_model_name": "HTMLModel",
            "_view_count": null,
            "_view_module": "@jupyter-widgets/controls",
            "_view_module_version": "1.5.0",
            "_view_name": "HTMLView",
            "description": "",
            "description_tooltip": null,
            "layout": "IPY_MODEL_5ffbf37a116946b2b105c25ec909f7c6",
            "placeholder": "​",
            "style": "IPY_MODEL_527722afc9ed4bc88c3af5e72f1ae870",
            "value": "100%"
          }
        },
        "cb0d86a2c88d49fa8ee51645640b5b06": {
          "model_module": "@jupyter-widgets/controls",
          "model_name": "FloatProgressModel",
          "model_module_version": "1.5.0",
          "state": {
            "_dom_classes": [],
            "_model_module": "@jupyter-widgets/controls",
            "_model_module_version": "1.5.0",
            "_model_name": "FloatProgressModel",
            "_view_count": null,
            "_view_module": "@jupyter-widgets/controls",
            "_view_module_version": "1.5.0",
            "_view_name": "ProgressView",
            "bar_style": "success",
            "description": "",
            "description_tooltip": null,
            "layout": "IPY_MODEL_79c3fb136dbd4dcfbbdb5b82f0dc3a08",
            "max": 6,
            "min": 0,
            "orientation": "horizontal",
            "style": "IPY_MODEL_c6933758fc074b8e8bcb14a36e9eee23",
            "value": 6
          }
        },
        "993f58b417364bfea3e710837d9bedae": {
          "model_module": "@jupyter-widgets/controls",
          "model_name": "HTMLModel",
          "model_module_version": "1.5.0",
          "state": {
            "_dom_classes": [],
            "_model_module": "@jupyter-widgets/controls",
            "_model_module_version": "1.5.0",
            "_model_name": "HTMLModel",
            "_view_count": null,
            "_view_module": "@jupyter-widgets/controls",
            "_view_module_version": "1.5.0",
            "_view_name": "HTMLView",
            "description": "",
            "description_tooltip": null,
            "layout": "IPY_MODEL_f6b29a5836814c73a89e183ef33aeb0d",
            "placeholder": "​",
            "style": "IPY_MODEL_98870bb44aaf404f84138658341bcfac",
            "value": " 6/6 [00:00&lt;00:00, 262.02it/s]"
          }
        },
        "b7f0423822bc421dbdac4d57f0731b94": {
          "model_module": "@jupyter-widgets/base",
          "model_name": "LayoutModel",
          "model_module_version": "1.2.0",
          "state": {
            "_model_module": "@jupyter-widgets/base",
            "_model_module_version": "1.2.0",
            "_model_name": "LayoutModel",
            "_view_count": null,
            "_view_module": "@jupyter-widgets/base",
            "_view_module_version": "1.2.0",
            "_view_name": "LayoutView",
            "align_content": null,
            "align_items": null,
            "align_self": null,
            "border": null,
            "bottom": null,
            "display": null,
            "flex": null,
            "flex_flow": null,
            "grid_area": null,
            "grid_auto_columns": null,
            "grid_auto_flow": null,
            "grid_auto_rows": null,
            "grid_column": null,
            "grid_gap": null,
            "grid_row": null,
            "grid_template_areas": null,
            "grid_template_columns": null,
            "grid_template_rows": null,
            "height": null,
            "justify_content": null,
            "justify_items": null,
            "left": null,
            "margin": null,
            "max_height": null,
            "max_width": null,
            "min_height": null,
            "min_width": null,
            "object_fit": null,
            "object_position": null,
            "order": null,
            "overflow": null,
            "overflow_x": null,
            "overflow_y": null,
            "padding": null,
            "right": null,
            "top": null,
            "visibility": null,
            "width": null
          }
        },
        "5ffbf37a116946b2b105c25ec909f7c6": {
          "model_module": "@jupyter-widgets/base",
          "model_name": "LayoutModel",
          "model_module_version": "1.2.0",
          "state": {
            "_model_module": "@jupyter-widgets/base",
            "_model_module_version": "1.2.0",
            "_model_name": "LayoutModel",
            "_view_count": null,
            "_view_module": "@jupyter-widgets/base",
            "_view_module_version": "1.2.0",
            "_view_name": "LayoutView",
            "align_content": null,
            "align_items": null,
            "align_self": null,
            "border": null,
            "bottom": null,
            "display": null,
            "flex": null,
            "flex_flow": null,
            "grid_area": null,
            "grid_auto_columns": null,
            "grid_auto_flow": null,
            "grid_auto_rows": null,
            "grid_column": null,
            "grid_gap": null,
            "grid_row": null,
            "grid_template_areas": null,
            "grid_template_columns": null,
            "grid_template_rows": null,
            "height": null,
            "justify_content": null,
            "justify_items": null,
            "left": null,
            "margin": null,
            "max_height": null,
            "max_width": null,
            "min_height": null,
            "min_width": null,
            "object_fit": null,
            "object_position": null,
            "order": null,
            "overflow": null,
            "overflow_x": null,
            "overflow_y": null,
            "padding": null,
            "right": null,
            "top": null,
            "visibility": null,
            "width": null
          }
        },
        "527722afc9ed4bc88c3af5e72f1ae870": {
          "model_module": "@jupyter-widgets/controls",
          "model_name": "DescriptionStyleModel",
          "model_module_version": "1.5.0",
          "state": {
            "_model_module": "@jupyter-widgets/controls",
            "_model_module_version": "1.5.0",
            "_model_name": "DescriptionStyleModel",
            "_view_count": null,
            "_view_module": "@jupyter-widgets/base",
            "_view_module_version": "1.2.0",
            "_view_name": "StyleView",
            "description_width": ""
          }
        },
        "79c3fb136dbd4dcfbbdb5b82f0dc3a08": {
          "model_module": "@jupyter-widgets/base",
          "model_name": "LayoutModel",
          "model_module_version": "1.2.0",
          "state": {
            "_model_module": "@jupyter-widgets/base",
            "_model_module_version": "1.2.0",
            "_model_name": "LayoutModel",
            "_view_count": null,
            "_view_module": "@jupyter-widgets/base",
            "_view_module_version": "1.2.0",
            "_view_name": "LayoutView",
            "align_content": null,
            "align_items": null,
            "align_self": null,
            "border": null,
            "bottom": null,
            "display": null,
            "flex": null,
            "flex_flow": null,
            "grid_area": null,
            "grid_auto_columns": null,
            "grid_auto_flow": null,
            "grid_auto_rows": null,
            "grid_column": null,
            "grid_gap": null,
            "grid_row": null,
            "grid_template_areas": null,
            "grid_template_columns": null,
            "grid_template_rows": null,
            "height": null,
            "justify_content": null,
            "justify_items": null,
            "left": null,
            "margin": null,
            "max_height": null,
            "max_width": null,
            "min_height": null,
            "min_width": null,
            "object_fit": null,
            "object_position": null,
            "order": null,
            "overflow": null,
            "overflow_x": null,
            "overflow_y": null,
            "padding": null,
            "right": null,
            "top": null,
            "visibility": null,
            "width": null
          }
        },
        "c6933758fc074b8e8bcb14a36e9eee23": {
          "model_module": "@jupyter-widgets/controls",
          "model_name": "ProgressStyleModel",
          "model_module_version": "1.5.0",
          "state": {
            "_model_module": "@jupyter-widgets/controls",
            "_model_module_version": "1.5.0",
            "_model_name": "ProgressStyleModel",
            "_view_count": null,
            "_view_module": "@jupyter-widgets/base",
            "_view_module_version": "1.2.0",
            "_view_name": "StyleView",
            "bar_color": null,
            "description_width": ""
          }
        },
        "f6b29a5836814c73a89e183ef33aeb0d": {
          "model_module": "@jupyter-widgets/base",
          "model_name": "LayoutModel",
          "model_module_version": "1.2.0",
          "state": {
            "_model_module": "@jupyter-widgets/base",
            "_model_module_version": "1.2.0",
            "_model_name": "LayoutModel",
            "_view_count": null,
            "_view_module": "@jupyter-widgets/base",
            "_view_module_version": "1.2.0",
            "_view_name": "LayoutView",
            "align_content": null,
            "align_items": null,
            "align_self": null,
            "border": null,
            "bottom": null,
            "display": null,
            "flex": null,
            "flex_flow": null,
            "grid_area": null,
            "grid_auto_columns": null,
            "grid_auto_flow": null,
            "grid_auto_rows": null,
            "grid_column": null,
            "grid_gap": null,
            "grid_row": null,
            "grid_template_areas": null,
            "grid_template_columns": null,
            "grid_template_rows": null,
            "height": null,
            "justify_content": null,
            "justify_items": null,
            "left": null,
            "margin": null,
            "max_height": null,
            "max_width": null,
            "min_height": null,
            "min_width": null,
            "object_fit": null,
            "object_position": null,
            "order": null,
            "overflow": null,
            "overflow_x": null,
            "overflow_y": null,
            "padding": null,
            "right": null,
            "top": null,
            "visibility": null,
            "width": null
          }
        },
        "98870bb44aaf404f84138658341bcfac": {
          "model_module": "@jupyter-widgets/controls",
          "model_name": "DescriptionStyleModel",
          "model_module_version": "1.5.0",
          "state": {
            "_model_module": "@jupyter-widgets/controls",
            "_model_module_version": "1.5.0",
            "_model_name": "DescriptionStyleModel",
            "_view_count": null,
            "_view_module": "@jupyter-widgets/base",
            "_view_module_version": "1.2.0",
            "_view_name": "StyleView",
            "description_width": ""
          }
        },
        "af4549f133d64d38a3cb51c18d822da1": {
          "model_module": "@jupyter-widgets/controls",
          "model_name": "HBoxModel",
          "model_module_version": "1.5.0",
          "state": {
            "_dom_classes": [],
            "_model_module": "@jupyter-widgets/controls",
            "_model_module_version": "1.5.0",
            "_model_name": "HBoxModel",
            "_view_count": null,
            "_view_module": "@jupyter-widgets/controls",
            "_view_module_version": "1.5.0",
            "_view_name": "HBoxView",
            "box_style": "",
            "children": [
              "IPY_MODEL_251b05ba041f4117aebf3eb7fbf8112b",
              "IPY_MODEL_3f3e76e15d8746caa67877d0eca367cd",
              "IPY_MODEL_79fb39e00589496da375e0597f40a301"
            ],
            "layout": "IPY_MODEL_01e6d02ae30c46c2a5e50dc593793abd"
          }
        },
        "251b05ba041f4117aebf3eb7fbf8112b": {
          "model_module": "@jupyter-widgets/controls",
          "model_name": "HTMLModel",
          "model_module_version": "1.5.0",
          "state": {
            "_dom_classes": [],
            "_model_module": "@jupyter-widgets/controls",
            "_model_module_version": "1.5.0",
            "_model_name": "HTMLModel",
            "_view_count": null,
            "_view_module": "@jupyter-widgets/controls",
            "_view_module_version": "1.5.0",
            "_view_name": "HTMLView",
            "description": "",
            "description_tooltip": null,
            "layout": "IPY_MODEL_d1815be32b2f4bfd9dd87780d364f5cf",
            "placeholder": "​",
            "style": "IPY_MODEL_7d057b7f51404be78a765b9ed6e6baac",
            "value": " 27%"
          }
        },
        "3f3e76e15d8746caa67877d0eca367cd": {
          "model_module": "@jupyter-widgets/controls",
          "model_name": "FloatProgressModel",
          "model_module_version": "1.5.0",
          "state": {
            "_dom_classes": [],
            "_model_module": "@jupyter-widgets/controls",
            "_model_module_version": "1.5.0",
            "_model_name": "FloatProgressModel",
            "_view_count": null,
            "_view_module": "@jupyter-widgets/controls",
            "_view_module_version": "1.5.0",
            "_view_name": "ProgressView",
            "bar_style": "danger",
            "description": "",
            "description_tooltip": null,
            "layout": "IPY_MODEL_a02d7dbfc6c748afab05821b0fd951f2",
            "max": 3760,
            "min": 0,
            "orientation": "horizontal",
            "style": "IPY_MODEL_dbacc68fbb634fd6a9efb9a566aab87f",
            "value": 1000
          }
        },
        "79fb39e00589496da375e0597f40a301": {
          "model_module": "@jupyter-widgets/controls",
          "model_name": "HTMLModel",
          "model_module_version": "1.5.0",
          "state": {
            "_dom_classes": [],
            "_model_module": "@jupyter-widgets/controls",
            "_model_module_version": "1.5.0",
            "_model_name": "HTMLModel",
            "_view_count": null,
            "_view_module": "@jupyter-widgets/controls",
            "_view_module_version": "1.5.0",
            "_view_name": "HTMLView",
            "description": "",
            "description_tooltip": null,
            "layout": "IPY_MODEL_82d156f29dfc4d338a15755c540b0695",
            "placeholder": "​",
            "style": "IPY_MODEL_3dc0307dbc7e4e8abf57dea37aa7c542",
            "value": " 1000/3760 [10:49&lt;26:57,  1.71it/s]"
          }
        },
        "01e6d02ae30c46c2a5e50dc593793abd": {
          "model_module": "@jupyter-widgets/base",
          "model_name": "LayoutModel",
          "model_module_version": "1.2.0",
          "state": {
            "_model_module": "@jupyter-widgets/base",
            "_model_module_version": "1.2.0",
            "_model_name": "LayoutModel",
            "_view_count": null,
            "_view_module": "@jupyter-widgets/base",
            "_view_module_version": "1.2.0",
            "_view_name": "LayoutView",
            "align_content": null,
            "align_items": null,
            "align_self": null,
            "border": null,
            "bottom": null,
            "display": null,
            "flex": null,
            "flex_flow": null,
            "grid_area": null,
            "grid_auto_columns": null,
            "grid_auto_flow": null,
            "grid_auto_rows": null,
            "grid_column": null,
            "grid_gap": null,
            "grid_row": null,
            "grid_template_areas": null,
            "grid_template_columns": null,
            "grid_template_rows": null,
            "height": null,
            "justify_content": null,
            "justify_items": null,
            "left": null,
            "margin": null,
            "max_height": null,
            "max_width": null,
            "min_height": null,
            "min_width": null,
            "object_fit": null,
            "object_position": null,
            "order": null,
            "overflow": null,
            "overflow_x": null,
            "overflow_y": null,
            "padding": null,
            "right": null,
            "top": null,
            "visibility": null,
            "width": null
          }
        },
        "d1815be32b2f4bfd9dd87780d364f5cf": {
          "model_module": "@jupyter-widgets/base",
          "model_name": "LayoutModel",
          "model_module_version": "1.2.0",
          "state": {
            "_model_module": "@jupyter-widgets/base",
            "_model_module_version": "1.2.0",
            "_model_name": "LayoutModel",
            "_view_count": null,
            "_view_module": "@jupyter-widgets/base",
            "_view_module_version": "1.2.0",
            "_view_name": "LayoutView",
            "align_content": null,
            "align_items": null,
            "align_self": null,
            "border": null,
            "bottom": null,
            "display": null,
            "flex": null,
            "flex_flow": null,
            "grid_area": null,
            "grid_auto_columns": null,
            "grid_auto_flow": null,
            "grid_auto_rows": null,
            "grid_column": null,
            "grid_gap": null,
            "grid_row": null,
            "grid_template_areas": null,
            "grid_template_columns": null,
            "grid_template_rows": null,
            "height": null,
            "justify_content": null,
            "justify_items": null,
            "left": null,
            "margin": null,
            "max_height": null,
            "max_width": null,
            "min_height": null,
            "min_width": null,
            "object_fit": null,
            "object_position": null,
            "order": null,
            "overflow": null,
            "overflow_x": null,
            "overflow_y": null,
            "padding": null,
            "right": null,
            "top": null,
            "visibility": null,
            "width": null
          }
        },
        "7d057b7f51404be78a765b9ed6e6baac": {
          "model_module": "@jupyter-widgets/controls",
          "model_name": "DescriptionStyleModel",
          "model_module_version": "1.5.0",
          "state": {
            "_model_module": "@jupyter-widgets/controls",
            "_model_module_version": "1.5.0",
            "_model_name": "DescriptionStyleModel",
            "_view_count": null,
            "_view_module": "@jupyter-widgets/base",
            "_view_module_version": "1.2.0",
            "_view_name": "StyleView",
            "description_width": ""
          }
        },
        "a02d7dbfc6c748afab05821b0fd951f2": {
          "model_module": "@jupyter-widgets/base",
          "model_name": "LayoutModel",
          "model_module_version": "1.2.0",
          "state": {
            "_model_module": "@jupyter-widgets/base",
            "_model_module_version": "1.2.0",
            "_model_name": "LayoutModel",
            "_view_count": null,
            "_view_module": "@jupyter-widgets/base",
            "_view_module_version": "1.2.0",
            "_view_name": "LayoutView",
            "align_content": null,
            "align_items": null,
            "align_self": null,
            "border": null,
            "bottom": null,
            "display": null,
            "flex": null,
            "flex_flow": null,
            "grid_area": null,
            "grid_auto_columns": null,
            "grid_auto_flow": null,
            "grid_auto_rows": null,
            "grid_column": null,
            "grid_gap": null,
            "grid_row": null,
            "grid_template_areas": null,
            "grid_template_columns": null,
            "grid_template_rows": null,
            "height": null,
            "justify_content": null,
            "justify_items": null,
            "left": null,
            "margin": null,
            "max_height": null,
            "max_width": null,
            "min_height": null,
            "min_width": null,
            "object_fit": null,
            "object_position": null,
            "order": null,
            "overflow": null,
            "overflow_x": null,
            "overflow_y": null,
            "padding": null,
            "right": null,
            "top": null,
            "visibility": null,
            "width": null
          }
        },
        "dbacc68fbb634fd6a9efb9a566aab87f": {
          "model_module": "@jupyter-widgets/controls",
          "model_name": "ProgressStyleModel",
          "model_module_version": "1.5.0",
          "state": {
            "_model_module": "@jupyter-widgets/controls",
            "_model_module_version": "1.5.0",
            "_model_name": "ProgressStyleModel",
            "_view_count": null,
            "_view_module": "@jupyter-widgets/base",
            "_view_module_version": "1.2.0",
            "_view_name": "StyleView",
            "bar_color": null,
            "description_width": ""
          }
        },
        "82d156f29dfc4d338a15755c540b0695": {
          "model_module": "@jupyter-widgets/base",
          "model_name": "LayoutModel",
          "model_module_version": "1.2.0",
          "state": {
            "_model_module": "@jupyter-widgets/base",
            "_model_module_version": "1.2.0",
            "_model_name": "LayoutModel",
            "_view_count": null,
            "_view_module": "@jupyter-widgets/base",
            "_view_module_version": "1.2.0",
            "_view_name": "LayoutView",
            "align_content": null,
            "align_items": null,
            "align_self": null,
            "border": null,
            "bottom": null,
            "display": null,
            "flex": null,
            "flex_flow": null,
            "grid_area": null,
            "grid_auto_columns": null,
            "grid_auto_flow": null,
            "grid_auto_rows": null,
            "grid_column": null,
            "grid_gap": null,
            "grid_row": null,
            "grid_template_areas": null,
            "grid_template_columns": null,
            "grid_template_rows": null,
            "height": null,
            "justify_content": null,
            "justify_items": null,
            "left": null,
            "margin": null,
            "max_height": null,
            "max_width": null,
            "min_height": null,
            "min_width": null,
            "object_fit": null,
            "object_position": null,
            "order": null,
            "overflow": null,
            "overflow_x": null,
            "overflow_y": null,
            "padding": null,
            "right": null,
            "top": null,
            "visibility": null,
            "width": null
          }
        },
        "3dc0307dbc7e4e8abf57dea37aa7c542": {
          "model_module": "@jupyter-widgets/controls",
          "model_name": "DescriptionStyleModel",
          "model_module_version": "1.5.0",
          "state": {
            "_model_module": "@jupyter-widgets/controls",
            "_model_module_version": "1.5.0",
            "_model_name": "DescriptionStyleModel",
            "_view_count": null,
            "_view_module": "@jupyter-widgets/base",
            "_view_module_version": "1.2.0",
            "_view_name": "StyleView",
            "description_width": ""
          }
        },
        "4d39f4df16c54a0cbc6819c79855f3e0": {
          "model_module": "@jupyter-widgets/controls",
          "model_name": "HBoxModel",
          "model_module_version": "1.5.0",
          "state": {
            "_dom_classes": [],
            "_model_module": "@jupyter-widgets/controls",
            "_model_module_version": "1.5.0",
            "_model_name": "HBoxModel",
            "_view_count": null,
            "_view_module": "@jupyter-widgets/controls",
            "_view_module_version": "1.5.0",
            "_view_name": "HBoxView",
            "box_style": "",
            "children": [
              "IPY_MODEL_dac81d51f93846c781162ea55b6872bc",
              "IPY_MODEL_4f396f44c9a743a6b9608b77106b577b",
              "IPY_MODEL_2ff35e0c89f9423ea8b88ff315f9fda3"
            ],
            "layout": "IPY_MODEL_b8b68f4b04524a2d9eff369c824911f5"
          }
        },
        "dac81d51f93846c781162ea55b6872bc": {
          "model_module": "@jupyter-widgets/controls",
          "model_name": "HTMLModel",
          "model_module_version": "1.5.0",
          "state": {
            "_dom_classes": [],
            "_model_module": "@jupyter-widgets/controls",
            "_model_module_version": "1.5.0",
            "_model_name": "HTMLModel",
            "_view_count": null,
            "_view_module": "@jupyter-widgets/controls",
            "_view_module_version": "1.5.0",
            "_view_name": "HTMLView",
            "description": "",
            "description_tooltip": null,
            "layout": "IPY_MODEL_f5506cbfaa2145389cab34015bf0dba4",
            "placeholder": "​",
            "style": "IPY_MODEL_cc07e6736dd84014a6d97467025a7a37",
            "value": "100%"
          }
        },
        "4f396f44c9a743a6b9608b77106b577b": {
          "model_module": "@jupyter-widgets/controls",
          "model_name": "FloatProgressModel",
          "model_module_version": "1.5.0",
          "state": {
            "_dom_classes": [],
            "_model_module": "@jupyter-widgets/controls",
            "_model_module_version": "1.5.0",
            "_model_name": "FloatProgressModel",
            "_view_count": null,
            "_view_module": "@jupyter-widgets/controls",
            "_view_module_version": "1.5.0",
            "_view_name": "ProgressView",
            "bar_style": "success",
            "description": "",
            "description_tooltip": null,
            "layout": "IPY_MODEL_44460a191210435bbd3575c39d5cfeed",
            "max": 6,
            "min": 0,
            "orientation": "horizontal",
            "style": "IPY_MODEL_3ac83f55febd4379818cfc7ee8ad0968",
            "value": 6
          }
        },
        "2ff35e0c89f9423ea8b88ff315f9fda3": {
          "model_module": "@jupyter-widgets/controls",
          "model_name": "HTMLModel",
          "model_module_version": "1.5.0",
          "state": {
            "_dom_classes": [],
            "_model_module": "@jupyter-widgets/controls",
            "_model_module_version": "1.5.0",
            "_model_name": "HTMLModel",
            "_view_count": null,
            "_view_module": "@jupyter-widgets/controls",
            "_view_module_version": "1.5.0",
            "_view_name": "HTMLView",
            "description": "",
            "description_tooltip": null,
            "layout": "IPY_MODEL_a38865430fc646dfacac739a2621533e",
            "placeholder": "​",
            "style": "IPY_MODEL_a74e55c3feb146e7a89f0d8eaabbf5f8",
            "value": " 6/6 [00:00&lt;00:00, 171.20it/s]"
          }
        },
        "b8b68f4b04524a2d9eff369c824911f5": {
          "model_module": "@jupyter-widgets/base",
          "model_name": "LayoutModel",
          "model_module_version": "1.2.0",
          "state": {
            "_model_module": "@jupyter-widgets/base",
            "_model_module_version": "1.2.0",
            "_model_name": "LayoutModel",
            "_view_count": null,
            "_view_module": "@jupyter-widgets/base",
            "_view_module_version": "1.2.0",
            "_view_name": "LayoutView",
            "align_content": null,
            "align_items": null,
            "align_self": null,
            "border": null,
            "bottom": null,
            "display": null,
            "flex": null,
            "flex_flow": null,
            "grid_area": null,
            "grid_auto_columns": null,
            "grid_auto_flow": null,
            "grid_auto_rows": null,
            "grid_column": null,
            "grid_gap": null,
            "grid_row": null,
            "grid_template_areas": null,
            "grid_template_columns": null,
            "grid_template_rows": null,
            "height": null,
            "justify_content": null,
            "justify_items": null,
            "left": null,
            "margin": null,
            "max_height": null,
            "max_width": null,
            "min_height": null,
            "min_width": null,
            "object_fit": null,
            "object_position": null,
            "order": null,
            "overflow": null,
            "overflow_x": null,
            "overflow_y": null,
            "padding": null,
            "right": null,
            "top": null,
            "visibility": null,
            "width": null
          }
        },
        "f5506cbfaa2145389cab34015bf0dba4": {
          "model_module": "@jupyter-widgets/base",
          "model_name": "LayoutModel",
          "model_module_version": "1.2.0",
          "state": {
            "_model_module": "@jupyter-widgets/base",
            "_model_module_version": "1.2.0",
            "_model_name": "LayoutModel",
            "_view_count": null,
            "_view_module": "@jupyter-widgets/base",
            "_view_module_version": "1.2.0",
            "_view_name": "LayoutView",
            "align_content": null,
            "align_items": null,
            "align_self": null,
            "border": null,
            "bottom": null,
            "display": null,
            "flex": null,
            "flex_flow": null,
            "grid_area": null,
            "grid_auto_columns": null,
            "grid_auto_flow": null,
            "grid_auto_rows": null,
            "grid_column": null,
            "grid_gap": null,
            "grid_row": null,
            "grid_template_areas": null,
            "grid_template_columns": null,
            "grid_template_rows": null,
            "height": null,
            "justify_content": null,
            "justify_items": null,
            "left": null,
            "margin": null,
            "max_height": null,
            "max_width": null,
            "min_height": null,
            "min_width": null,
            "object_fit": null,
            "object_position": null,
            "order": null,
            "overflow": null,
            "overflow_x": null,
            "overflow_y": null,
            "padding": null,
            "right": null,
            "top": null,
            "visibility": null,
            "width": null
          }
        },
        "cc07e6736dd84014a6d97467025a7a37": {
          "model_module": "@jupyter-widgets/controls",
          "model_name": "DescriptionStyleModel",
          "model_module_version": "1.5.0",
          "state": {
            "_model_module": "@jupyter-widgets/controls",
            "_model_module_version": "1.5.0",
            "_model_name": "DescriptionStyleModel",
            "_view_count": null,
            "_view_module": "@jupyter-widgets/base",
            "_view_module_version": "1.2.0",
            "_view_name": "StyleView",
            "description_width": ""
          }
        },
        "44460a191210435bbd3575c39d5cfeed": {
          "model_module": "@jupyter-widgets/base",
          "model_name": "LayoutModel",
          "model_module_version": "1.2.0",
          "state": {
            "_model_module": "@jupyter-widgets/base",
            "_model_module_version": "1.2.0",
            "_model_name": "LayoutModel",
            "_view_count": null,
            "_view_module": "@jupyter-widgets/base",
            "_view_module_version": "1.2.0",
            "_view_name": "LayoutView",
            "align_content": null,
            "align_items": null,
            "align_self": null,
            "border": null,
            "bottom": null,
            "display": null,
            "flex": null,
            "flex_flow": null,
            "grid_area": null,
            "grid_auto_columns": null,
            "grid_auto_flow": null,
            "grid_auto_rows": null,
            "grid_column": null,
            "grid_gap": null,
            "grid_row": null,
            "grid_template_areas": null,
            "grid_template_columns": null,
            "grid_template_rows": null,
            "height": null,
            "justify_content": null,
            "justify_items": null,
            "left": null,
            "margin": null,
            "max_height": null,
            "max_width": null,
            "min_height": null,
            "min_width": null,
            "object_fit": null,
            "object_position": null,
            "order": null,
            "overflow": null,
            "overflow_x": null,
            "overflow_y": null,
            "padding": null,
            "right": null,
            "top": null,
            "visibility": null,
            "width": null
          }
        },
        "3ac83f55febd4379818cfc7ee8ad0968": {
          "model_module": "@jupyter-widgets/controls",
          "model_name": "ProgressStyleModel",
          "model_module_version": "1.5.0",
          "state": {
            "_model_module": "@jupyter-widgets/controls",
            "_model_module_version": "1.5.0",
            "_model_name": "ProgressStyleModel",
            "_view_count": null,
            "_view_module": "@jupyter-widgets/base",
            "_view_module_version": "1.2.0",
            "_view_name": "StyleView",
            "bar_color": null,
            "description_width": ""
          }
        },
        "a38865430fc646dfacac739a2621533e": {
          "model_module": "@jupyter-widgets/base",
          "model_name": "LayoutModel",
          "model_module_version": "1.2.0",
          "state": {
            "_model_module": "@jupyter-widgets/base",
            "_model_module_version": "1.2.0",
            "_model_name": "LayoutModel",
            "_view_count": null,
            "_view_module": "@jupyter-widgets/base",
            "_view_module_version": "1.2.0",
            "_view_name": "LayoutView",
            "align_content": null,
            "align_items": null,
            "align_self": null,
            "border": null,
            "bottom": null,
            "display": null,
            "flex": null,
            "flex_flow": null,
            "grid_area": null,
            "grid_auto_columns": null,
            "grid_auto_flow": null,
            "grid_auto_rows": null,
            "grid_column": null,
            "grid_gap": null,
            "grid_row": null,
            "grid_template_areas": null,
            "grid_template_columns": null,
            "grid_template_rows": null,
            "height": null,
            "justify_content": null,
            "justify_items": null,
            "left": null,
            "margin": null,
            "max_height": null,
            "max_width": null,
            "min_height": null,
            "min_width": null,
            "object_fit": null,
            "object_position": null,
            "order": null,
            "overflow": null,
            "overflow_x": null,
            "overflow_y": null,
            "padding": null,
            "right": null,
            "top": null,
            "visibility": null,
            "width": null
          }
        },
        "a74e55c3feb146e7a89f0d8eaabbf5f8": {
          "model_module": "@jupyter-widgets/controls",
          "model_name": "DescriptionStyleModel",
          "model_module_version": "1.5.0",
          "state": {
            "_model_module": "@jupyter-widgets/controls",
            "_model_module_version": "1.5.0",
            "_model_name": "DescriptionStyleModel",
            "_view_count": null,
            "_view_module": "@jupyter-widgets/base",
            "_view_module_version": "1.2.0",
            "_view_name": "StyleView",
            "description_width": ""
          }
        }
      }
    }
  },
  "cells": [
    {
      "cell_type": "markdown",
      "metadata": {
        "id": "Ot3c4fjZwC4T"
      },
      "source": [
        "<img src=\"https://s8.hostingkartinok.com/uploads/images/2018/08/308b49fcfbc619d629fe4604bceb67ac.jpg\" width=500, height=450>\n",
        "<h3 style=\"text-align: center;\"><b>Физтех-Школа Прикладной математики и информатики (ФПМИ) МФТИ</b></h3>"
      ]
    },
    {
      "cell_type": "markdown",
      "metadata": {
        "id": "P2JdzEXmwRU5"
      },
      "source": [
        "---"
      ]
    },
    {
      "cell_type": "markdown",
      "metadata": {
        "id": "Fc8iHXIVwDwj"
      },
      "source": [
        "***Some parts of the notebook are almost the copy of [ mmta-team course](https://github.com/mmta-team/mmta_fall_2020). Special thanks to mmta-team for making them publicly available. [Original notebook](https://github.com/mmta-team/mmta_fall_2020/blob/master/tasks/01_word_embeddings/task_word_embeddings.ipynb).***"
      ]
    },
    {
      "cell_type": "markdown",
      "metadata": {
        "id": "7D0wm5jt6j0U"
      },
      "source": [
        "<b> Прочитайте семинар, пожалуйста, для успешного выполнения домашнего задания. В конце ноутка напишите свой вывод. Работа без вывода оценивается ниже."
      ]
    },
    {
      "cell_type": "markdown",
      "metadata": {
        "id": "BIWqBuEa6j0b"
      },
      "source": [
        "## Задача поиска схожих по смыслу предложений"
      ]
    },
    {
      "cell_type": "markdown",
      "metadata": {
        "id": "NUkwMPLA6j0g"
      },
      "source": [
        "Мы будем ранжировать вопросы [StackOverflow](https://stackoverflow.com) на основе семантического векторного представления"
      ]
    },
    {
      "cell_type": "markdown",
      "metadata": {
        "id": "dNRXIEfu5a3Q"
      },
      "source": [
        "До этого в курсе не было речи про задачу ранжировния, поэтому введем математическую формулировку"
      ]
    },
    {
      "cell_type": "markdown",
      "metadata": {
        "id": "uS9FwWNd5a3S"
      },
      "source": [
        "## Задача ранжирования(Learning to Rank)"
      ]
    },
    {
      "cell_type": "markdown",
      "metadata": {
        "id": "wdwY9-f75a3T"
      },
      "source": [
        "* $X$ - множество объектов\n",
        "* $X^l = \\{x_1, x_2, ..., x_l\\}$ - обучающая выборка\n",
        "<br>На обучающей выборке задан порядок между некоторыми элементами, то есть нам известно, что некий объект выборки более релевантный для нас, чем другой:\n",
        "* $i \\prec j$ - порядок пары индексов объектов на выборке $X^l$ c индексами $i$ и $j$\n",
        "### Задача:\n",
        "построить ранжирующую функцию $a$ : $X \\rightarrow R$ такую, что\n",
        "$$i \\prec j \\Rightarrow a(x_i) < a(x_j)$$"
      ]
    },
    {
      "cell_type": "markdown",
      "metadata": {
        "id": "WG2IGBsh5a3U"
      },
      "source": [
        "<img src=\"https://d25skit2l41vkl.cloudfront.net/wp-content/uploads/2016/12/Featured-Image.jpg\" width=500, height=450>"
      ]
    },
    {
      "cell_type": "markdown",
      "metadata": {
        "id": "MQk_rolFwT_h"
      },
      "source": [
        "### Embeddings"
      ]
    },
    {
      "cell_type": "markdown",
      "metadata": {
        "id": "xUe1PGXn6j0l"
      },
      "source": [
        "Будем использовать предобученные векторные представления слов на постах Stack Overflow.<br>\n",
        "[A word2vec model trained on Stack Overflow posts](https://github.com/vefstathiou/SO_word2vec)"
      ]
    },
    {
      "cell_type": "code",
      "metadata": {
        "id": "mYkI54Y-rk7a",
        "colab": {
          "base_uri": "https://localhost:8080/"
        },
        "outputId": "27a96d8a-3914-4b60-900a-51786f7c6b33"
      },
      "source": [
        "!wget https://zenodo.org/record/1199620/files/SO_vectors_200.bin?download=1"
      ],
      "execution_count": null,
      "outputs": [
        {
          "output_type": "stream",
          "name": "stdout",
          "text": [
            "--2025-03-03 08:07:12--  https://zenodo.org/record/1199620/files/SO_vectors_200.bin?download=1\n",
            "Resolving zenodo.org (zenodo.org)... 188.185.43.25, 188.185.45.92, 188.185.48.194, ...\n",
            "Connecting to zenodo.org (zenodo.org)|188.185.43.25|:443... connected.\n",
            "HTTP request sent, awaiting response... 301 MOVED PERMANENTLY\n",
            "Location: /records/1199620/files/SO_vectors_200.bin [following]\n",
            "--2025-03-03 08:07:12--  https://zenodo.org/records/1199620/files/SO_vectors_200.bin\n",
            "Reusing existing connection to zenodo.org:443.\n",
            "HTTP request sent, awaiting response... 200 OK\n",
            "Length: 1453905423 (1.4G) [application/octet-stream]\n",
            "Saving to: ‘SO_vectors_200.bin?download=1’\n",
            "\n",
            "SO_vectors_200.bin? 100%[===================>]   1.35G  3.40MB/s    in 5m 15s  \n",
            "\n",
            "2025-03-03 08:12:28 (4.40 MB/s) - ‘SO_vectors_200.bin?download=1’ saved [1453905423/1453905423]\n",
            "\n"
          ]
        }
      ]
    },
    {
      "cell_type": "code",
      "metadata": {
        "id": "O8YJTOYv6j0s"
      },
      "source": [
        "from gensim.models.keyedvectors import KeyedVectors\n",
        "wv_embeddings = KeyedVectors.load_word2vec_format(\"SO_vectors_200.bin?download=1\", binary=True)"
      ],
      "execution_count": null,
      "outputs": []
    },
    {
      "cell_type": "markdown",
      "metadata": {
        "id": "aIcT_g-C6j1E"
      },
      "source": [
        "#### Как пользоваться этими векторами?"
      ]
    },
    {
      "cell_type": "markdown",
      "metadata": {
        "id": "DWO5SPDY6j1G"
      },
      "source": [
        "Посмотрим на примере одного слова, что из себя представляет embedding"
      ]
    },
    {
      "cell_type": "code",
      "metadata": {
        "scrolled": true,
        "id": "KeSBlQfk6j1J",
        "colab": {
          "base_uri": "https://localhost:8080/"
        },
        "outputId": "12d2379d-de76-4f52-fb87-0ad50955475c"
      },
      "source": [
        "word = 'dog'\n",
        "if word in wv_embeddings:\n",
        "    print(wv_embeddings[word].dtype, wv_embeddings[word].shape)"
      ],
      "execution_count": null,
      "outputs": [
        {
          "output_type": "stream",
          "name": "stdout",
          "text": [
            "float32 (200,)\n"
          ]
        }
      ]
    },
    {
      "cell_type": "code",
      "source": [
        "# wv_embeddings[0]"
      ],
      "metadata": {
        "id": "xBLbiGnqH37k"
      },
      "execution_count": null,
      "outputs": []
    },
    {
      "cell_type": "code",
      "metadata": {
        "id": "T4Eq-D1qxpMJ",
        "colab": {
          "base_uri": "https://localhost:8080/"
        },
        "outputId": "c95dabb4-0fba-48da-c4d3-f3c0f38b2a60"
      },
      "source": [
        "print(f\"Num of words: {len(wv_embeddings.index_to_key)}\")"
      ],
      "execution_count": null,
      "outputs": [
        {
          "output_type": "stream",
          "name": "stdout",
          "text": [
            "Num of words: 1787145\n"
          ]
        }
      ]
    },
    {
      "cell_type": "markdown",
      "metadata": {
        "id": "ZT6NTCys6j1Q"
      },
      "source": [
        "Найдем наиболее близкие слова к слову `dog`:"
      ]
    },
    {
      "cell_type": "markdown",
      "metadata": {
        "id": "n08z2PjMwC5o"
      },
      "source": [
        "#### ***Вопрос 1:***\n",
        "* Входит ли слово `cat` в топ-5 близких слов к слову `dog`? Какое место оно занимает?\n"
      ]
    },
    {
      "cell_type": "code",
      "metadata": {
        "scrolled": true,
        "id": "nYwVz0xG6j1U",
        "colab": {
          "base_uri": "https://localhost:8080/"
        },
        "outputId": "c797fc88-9f90-4c4e-f514-5dcd07fb6d3a"
      },
      "source": [
        "# method most_simmilar\n",
        "# нам дана модель, найдем\n",
        "\n",
        "similar_words = wv_embeddings.most_similar(\"dog\", topn=5)\n",
        "print(similar_words)\n"
      ],
      "execution_count": null,
      "outputs": [
        {
          "output_type": "stream",
          "name": "stdout",
          "text": [
            "[('animal', 0.8564180135726929), ('dogs', 0.7880866527557373), ('mammal', 0.7623804211616516), ('cats', 0.7621253728866577), ('animals', 0.760793924331665)]\n"
          ]
        }
      ]
    },
    {
      "cell_type": "markdown",
      "source": [
        "***Ваш ответ:*** 'cat' не входит в топ-5 ближайших слов к 'dog'."
      ],
      "metadata": {
        "id": "7Wu7O43AY5jH"
      }
    },
    {
      "cell_type": "markdown",
      "metadata": {
        "id": "ai48-5vv6j1d"
      },
      "source": [
        "### Векторные представления текста\n",
        "\n",
        "Перейдем от векторных представлений отдельных слов к векторным представлениям вопросов, как к **среднему** векторов всех слов в вопросе. Если для какого-то слова нет предобученного вектора, то его нужно пропустить. Если вопрос не содержит ни одного известного слова, то нужно вернуть нулевой вектор."
      ]
    },
    {
      "cell_type": "code",
      "metadata": {
        "id": "EhNuxBJd6j1f"
      },
      "source": [
        "import numpy as np\n",
        "import re\n",
        "# you can use your tokenizer\n",
        "# for example, from nltk.tokenize import WordPunctTokenizer\n",
        "# class MyTokenizer:\n",
        "#     def __init__(self):\n",
        "#         pass\n",
        "#     def tokenize(self, text):\n",
        "#         return re.findall('\\w+', text)\n",
        "# tokenizer = MyTokenizer()\n",
        "\n",
        "\n",
        "class MyTokenizer:\n",
        "    def __init__(self):\n",
        "        pass\n",
        "\n",
        "    def tokenize(self, text):\n",
        "        return [word.lower() for word in re.findall(r'\\w+', text)]  # Приводим к нижнему регистру\n",
        "\n",
        "tokenizer = MyTokenizer()\n"
      ],
      "execution_count": null,
      "outputs": []
    },
    {
      "cell_type": "code",
      "metadata": {
        "id": "YHcvu6186j1m"
      },
      "source": [
        "def question_to_vec(question, embeddings, tokenizer, dim=200):\n",
        "    \"\"\"\n",
        "        question: строка\n",
        "        embeddings: наше векторное представление\n",
        "        dim: размер любого вектора в нашем представлении\n",
        "\n",
        "        return: векторное представление для вопроса\n",
        "    \"\"\"\n",
        "    tokens = tokenizer.tokenize(question)  # Разбиваем на слова\n",
        "    word_vectors = [embeddings[word] for word in tokens if word in embeddings]  # Берем вектора, если есть\n",
        "\n",
        "    if not word_vectors:  # Если нет известных слов, возвращаем нулевой вектор\n",
        "        return np.zeros(dim)\n",
        "\n",
        "    return np.mean(word_vectors, axis=0)"
      ],
      "execution_count": null,
      "outputs": []
    },
    {
      "cell_type": "markdown",
      "metadata": {
        "id": "u5Q_4j7r6j1u"
      },
      "source": [
        "Теперь у нас есть метод для создания векторного представления любого предложения."
      ]
    },
    {
      "cell_type": "markdown",
      "metadata": {
        "id": "EsJSNkhm6j1y"
      },
      "source": [
        "#### ***Вопрос 2:***\n",
        "\n",
        "* Какая третья (с индексом 2) компонента вектора предложения `I love neural networks` (округлите до 2 знаков после запятой)?"
      ]
    },
    {
      "cell_type": "code",
      "metadata": {
        "scrolled": true,
        "id": "a62r11cT6j10",
        "colab": {
          "base_uri": "https://localhost:8080/"
        },
        "outputId": "4736626e-4a50-498c-ede2-d42053727025"
      },
      "source": [
        "# Предложение\n",
        "question = \"I love neural networks\"\n",
        "\n",
        "# просто посмотреть\n",
        "print(tokenizer.tokenize(question))\n",
        "# решение\n",
        "print(round(question_to_vec(question,wv_embeddings,tokenizer)[2],2))"
      ],
      "execution_count": null,
      "outputs": [
        {
          "output_type": "stream",
          "name": "stdout",
          "text": [
            "['i', 'love', 'neural', 'networks']\n",
            "-1.29\n"
          ]
        }
      ]
    },
    {
      "cell_type": "markdown",
      "metadata": {
        "id": "Y60z4t6W6j16"
      },
      "source": [
        "### Оценка близости текстов\n",
        "\n",
        "Представим, что мы используем идеальные векторные представления слов. Тогда косинусное расстояние между дублирующими предложениями должно быть меньше, чем между случайно взятыми предложениями.\n",
        "\n",
        "Сгенерируем для каждого из $N$ вопросов $R$ случайных отрицательных примеров и примешаем к ним также настоящие дубликаты. Для каждого вопроса будем ранжировать с помощью нашей модели $R + 1$ примеров и смотреть на позицию дубликата. Мы хотим, чтобы дубликат был первым в ранжированном списке.\n",
        "\n",
        "#### Hits@K\n",
        "Первой простой метрикой будет количество корректных попаданий для какого-то $K$:\n",
        "$$ \\text{Hits@K} = \\frac{1}{N}\\sum_{i=1}^N \\, [rank\\_q_i^{'} \\le K],$$\n",
        "* $\\begin{equation*}\n",
        "[x < 0 ] \\equiv\n",
        " \\begin{cases}\n",
        "   1, &x < 0\\\\\n",
        "   0, &x \\geq 0\n",
        " \\end{cases}\n",
        "\\end{equation*}$ - индикаторная функция\n",
        "* $q_i$ - $i$-ый вопрос\n",
        "* $q_i^{'}$ - его дубликат\n",
        "* $rank\\_q_i^{'}$ - позиция дубликата в ранжированном списке ближайших предложений для вопроса $q_i$.\n",
        "\n",
        "Hits@K  измеряет долю вопросов, для которых правильный ответ попал в топ-K позиций среди отранжированных кандидатов.\n",
        "\n",
        "#### DCG@K\n",
        "Второй метрикой будет упрощенная DCG метрика, учитывающая порядок элементов в списке путем домножения релевантности элемента на вес равный обратному логарифму номера позиции::\n",
        "$$ \\text{DCG@K} = \\frac{1}{N} \\sum_{i=1}^N\\frac{1}{\\log_2(1+rank\\_q_i^{'})}\\cdot[rank\\_q_i^{'} \\le K],$$\n",
        "С такой метрикой модель штрафуется за большой ранк корректного ответа.\n",
        "\n",
        "DCG@K  измеряет качество ранжирования, учитывая не только факт наличия правильного ответа в топ-K, но и ***его точную позицию***."
      ]
    },
    {
      "cell_type": "markdown",
      "metadata": {
        "id": "_tFemBkP6j1-"
      },
      "source": [
        "<img src='https://hsto.org/files/1c5/edf/dee/1c5edfdeebce4b71a86bdf986d9f88f2.jpg' width=400, height=200>"
      ]
    },
    {
      "cell_type": "markdown",
      "metadata": {
        "id": "0sUSxk866j1_"
      },
      "source": [
        "#### Пример оценок\n",
        "\n",
        "Вычислим описанные выше метрики для игрушечного примера.\n",
        "Пусть\n",
        "* $N = 1$, $R = 3$\n",
        "* <font color='green'>\"Что такое python?\"</font> - вопрос $q_1$\n",
        "* <font color='red'>\"Что такое язык python?\"</font> - его дубликат $q_i^{'}$\n",
        "\n",
        "Пусть модель выдала следующий ранжированный список кандидатов:\n",
        "\n",
        "1. \"Как изучить с++?\"\n",
        "2. <font color='red'>\"Что такое язык python?\"</font>\n",
        "3. \"Хочу учить Java\"\n",
        "4. \"Не понимаю Tensorflow\"\n",
        "\n",
        "$\\Rightarrow rank\\_q_i^{'} = 2$"
      ]
    },
    {
      "cell_type": "markdown",
      "source": [
        "Вычислим метрику *Hits@K* для *K = 1, 4*:\n",
        "\n",
        "- [K = 1] $\\text{Hits@1} =  [rank\\_q_i^{'} \\le 1]$\n",
        "\n",
        "Проверяем условие $ \\text{rank}_{q'_1} \\leq 1 $: ***условие неверно***.\n",
        "\n",
        "Следовательно, $[\\text{rank}_{q'_1} \\leq 1] = 0$.\n",
        "\n",
        "- [K = 4] $\\text{Hits@4} =  [rank\\_q_i^{'} \\le 4] = 1$\n",
        "\n",
        "Проверяем условие $ \\text{rank}_{q'_1} \\leq 4 $: ***условие верно***."
      ],
      "metadata": {
        "id": "-XXCbN3uUiHU"
      }
    },
    {
      "cell_type": "markdown",
      "source": [
        "Вычислим метрику *DCG@K* для *K = 1, 4*:\n",
        "- [K = 1] $\\text{DCG@1} = \\frac{1}{\\log_2(1+2)}\\cdot[2 \\le 1] = 0$\n",
        "- [K = 4] $\\text{DCG@4} = \\frac{1}{\\log_2(1+2)}\\cdot[2 \\le 4] = \\frac{1}{\\log_2{3}}$"
      ],
      "metadata": {
        "id": "Ya9gf-dvVGmm"
      }
    },
    {
      "cell_type": "markdown",
      "metadata": {
        "id": "B4L6HJJC6j2B"
      },
      "source": [
        "#### ***Вопрос 3***:\n",
        "* Вычислите `DCG@10`, если $rank\\_q_i^{'} = 9$(округлите до одного знака после запятой)\n",
        "\n"
      ]
    },
    {
      "cell_type": "code",
      "source": [
        "import math\n",
        "K=10\n",
        "N=1 # количество вопросов\n",
        "rank_q=9\n",
        "dcg10=1/(math.log2(1+rank_q))*(rank_q<=K)\n",
        "print('DCG@10 =',round(dcg10,1))"
      ],
      "metadata": {
        "colab": {
          "base_uri": "https://localhost:8080/"
        },
        "id": "bZPD56YTSsGg",
        "outputId": "331283cc-e49e-4be2-b602-7412cb811369"
      },
      "execution_count": null,
      "outputs": [
        {
          "output_type": "stream",
          "name": "stdout",
          "text": [
            "DCG@10 = 0.3\n"
          ]
        }
      ]
    },
    {
      "cell_type": "markdown",
      "source": [
        "#### Более сложный пример оценок\n",
        "\n",
        "Рассмотрим пример с $ N > 1 $, где $ N = 3 $ (три вопроса) и для каждого вопроса заданы позиции их дубликатов. Вычислим метрики **Hits@K** для разных значений $ K $.\n",
        "\n",
        "---\n",
        "\n",
        "- $ N = 3 $: Три вопроса ($ q_1, q_2, q_3 $).\n",
        "- Для каждого вопроса известна позиция его дубликата ($ \\text{rank}_{q'_i} $):\n",
        "  - $ \\text{rank}_{q'_1} = 2 $,\n",
        "  - $ \\text{rank}_{q'_2} = 5 $,\n",
        "  - $ \\text{rank}_{q'_3} = 1 $.\n",
        "\n",
        "Мы будем вычислять **Hits@K** для $ K = 1, 5 $.\n",
        "\n",
        "---\n",
        "\n",
        "**Для $ K = 1 $:**\n",
        "\n",
        "Подставим значения:\n",
        "$$\n",
        "\\text{Hits@1} = \\frac{1}{3} \\cdot \\left( [\\text{rank}_{q'_1} \\leq 1] + [\\text{rank}_{q'_2} \\leq 1] + [\\text{rank}_{q'_3} \\leq 1] \\right).\n",
        "$$\n",
        "\n",
        "Проверяем условие $ \\text{rank}_{q'_i} \\leq 1 $ для каждого вопроса:\n",
        "- $ \\text{rank}_{q'_1} = 2 $ → $ 2 \\not\\leq 1 $ → $ 0 $,\n",
        "- $ \\text{rank}_{q'_2} = 5 $ → $ 5 \\not\\leq 1 $ → $ 0 $,\n",
        "- $ \\text{rank}_{q'_3} = 1 $ → $ 1 \\leq 1 $ → $ 1 $.\n",
        "\n",
        "Сумма:\n",
        "$$\n",
        "\\text{Hits@1} = \\frac{1}{3} \\cdot (0 + 0 + 1) = \\frac{1}{3}.\n",
        "$$\n",
        "\n",
        "$$\n",
        "\\boxed{\\text{Hits@1} = \\frac{1}{3}}.\n",
        "$$\n",
        "\n",
        "---\n",
        "\n",
        "**Для $ K = 5 $:**\n",
        "\n",
        "Подставим значения:\n",
        "$$\n",
        "\\text{Hits@5} = \\frac{1}{3} \\cdot \\left( [\\text{rank}_{q'_1} \\leq 5] + [\\text{rank}_{q'_2} \\leq 5] + [\\text{rank}_{q'_3} \\leq 5] \\right).\n",
        "$$\n",
        "\n",
        "Проверяем условие $ \\text{rank}_{q'_i} \\leq 5 $ для каждого вопроса:\n",
        "- $ \\text{rank}_{q'_1} = 2 $ → $ 2 \\leq 5 $ → $ 1 $,\n",
        "- $ \\text{rank}_{q'_2} = 5 $ → $ 5 \\leq 5 $ → $ 1 $,\n",
        "- $ \\text{rank}_{q'_3} = 1 $ → $ 1 \\leq 5 $ → $ 1 $.\n",
        "\n",
        "Сумма:\n",
        "$$\n",
        "\\text{Hits@5} = \\frac{1}{3} \\cdot (1 + 1 + 1) = 1.\n",
        "$$\n",
        "\n",
        "$$\n",
        "\\boxed{\\text{Hits@5} = 1}.\n",
        "$$"
      ],
      "metadata": {
        "id": "hM1PtUq3haNS"
      }
    },
    {
      "cell_type": "markdown",
      "source": [
        "Теперь вычислим метрику **DCG@K** для того же примера, где $ N = 3 $ (три вопроса), и для каждого вопроса известна позиция его дубликата ($ \\text{rank}_{q'_i} $):\n",
        "\n",
        "- $ \\text{rank}_{q'_1} = 2 $,\n",
        "- $ \\text{rank}_{q'_2} = 5 $,\n",
        "- $ \\text{rank}_{q'_3} = 1 $.\n",
        "\n",
        "Мы будем вычислять **DCG@K** для $ K = 1, 5 $.\n",
        "\n",
        "---\n",
        "**Для $ K = 1 $:**\n",
        "Подставим значения:\n",
        "$$\n",
        "\\text{DCG@1} = \\frac{1}{3} \\cdot \\left( \\frac{1}{\\log_2(1 + \\text{rank}_{q'_1})} \\cdot [\\text{rank}_{q'_1} \\leq 1] + \\frac{1}{\\log_2(1 + \\text{rank}_{q'_2})} \\cdot [\\text{rank}_{q'_2} \\leq 1] + \\frac{1}{\\log_2(1 + \\text{rank}_{q'_3})} \\cdot [\\text{rank}_{q'_3} \\leq 1] \\right).\n",
        "$$\n",
        "\n",
        "Проверяем условие $ \\text{rank}_{q'_i} \\leq 1 $ для каждого вопроса:\n",
        "- $ \\text{rank}_{q'_1} = 2 $ → $ 2 \\not\\leq 1 $ → $ 0 $,\n",
        "- $ \\text{rank}_{q'_2} = 5 $ → $ 5 \\not\\leq 1 $ → $ 0 $,\n",
        "- $ \\text{rank}_{q'_3} = 1 $ → $ 1 \\leq 1 $ → $ 1 $.\n",
        "\n",
        "Сумма:\n",
        "$$\n",
        "\\text{DCG@1} = \\frac{1}{3} \\cdot (0 + 0 + 1) = \\frac{1}{3}.\n",
        "$$\n",
        "$$\n",
        "\\boxed{\\text{DCG@1} = \\frac{1}{3}}.\n",
        "$$\n",
        "\n",
        "---\n",
        "\n",
        "\n",
        "**Для $ K = 5 $:**\n",
        "Подставим значения:\n",
        "$$\n",
        "\\text{DCG@5} = \\frac{1}{3} \\cdot \\left( \\frac{1}{\\log_2(1 + \\text{rank}_{q'_1})} \\cdot [\\text{rank}_{q'_1} \\leq 5] + \\frac{1}{\\log_2(1 + \\text{rank}_{q'_2})} \\cdot [\\text{rank}_{q'_2} \\leq 5] + \\frac{1}{\\log_2(1 + \\text{rank}_{q'_3})} \\cdot [\\text{rank}_{q'_3} \\leq 5] \\right).\n",
        "$$\n",
        "\n",
        "Проверяем условие $ \\text{rank}_{q'_i} \\leq 5 $ для каждого вопроса:\n",
        "- $ \\text{rank}_{q'_1} = 2 $ → $ 2 \\leq 5 $ → $ 1 $,\n",
        "- $ \\text{rank}_{q'_2} = 5 $ → $ 5 \\leq 5 $ → $ 1 $,\n",
        "- $ \\text{rank}_{q'_3} = 1 $ → $ 1 \\leq 5 $ → $ 1 $.\n",
        "\n",
        "Сумма:\n",
        "$$\n",
        "\\text{DCG@5} = \\frac{1}{3} \\cdot (0.631 + 0.387 + 1) = \\frac{1}{3} \\cdot 2.018 \\approx 0.673.\n",
        "$$\n",
        "\n",
        "$$\n",
        "\\boxed{\\text{DCG@5} \\approx 0.673}.\n",
        "$$"
      ],
      "metadata": {
        "id": "ngfvO7JsqROf"
      }
    },
    {
      "cell_type": "markdown",
      "metadata": {
        "id": "eHCnH-jw6j18"
      },
      "source": [
        "#### ***Вопрос 4:***\n",
        "* Найдите максимум `Hits@47 - DCG@1`?\n",
        "\n"
      ]
    },
    {
      "cell_type": "code",
      "source": [
        "# тк хитс - доля вопросов, для которых правильный ответ попал в топ-K позиций среди отранжированных кандидатов, то его максимум =1\n",
        "# а дсж не может быть отрицательным -> макимум нашей итоговой функции = 1 (не судите строго, не поняла особо суть вопроса, но вроде двигалась в верном направлении.. или нет...)"
      ],
      "metadata": {
        "id": "XpLRuWFpSqzl"
      },
      "execution_count": null,
      "outputs": []
    },
    {
      "cell_type": "markdown",
      "metadata": {
        "id": "J5xWOORI6j2F"
      },
      "source": [
        "### HITS\\_COUNT и DCG\\_SCORE"
      ]
    },
    {
      "cell_type": "markdown",
      "metadata": {
        "id": "I1q9WQOx6j2H"
      },
      "source": [
        "Каждая функция имеет два аргумента: $dup\\_ranks$ и $k$.\n",
        "\n",
        "$dup\\_ranks$ является списком, который содержит рейтинги дубликатов (их позиции в ранжированном списке).\n",
        "\n",
        "К примеру для <font color='red'>\"Что такое язык python?\"</font> $dup\\_ranks = [2]$."
      ]
    },
    {
      "cell_type": "code",
      "metadata": {
        "id": "F5VwySUB6j2J"
      },
      "source": [
        "def hits_count(dup_ranks, k):\n",
        "    \"\"\"\n",
        "        dup_ranks: list индексов дубликатов\n",
        "        k: пороговое значение для ранга\n",
        "        result: вернуть Hits@k\n",
        "    \"\"\"\n",
        "    # Подсчитываем количество дубликатов, чей ранг <= k\n",
        "    hits_value = 0\n",
        "    count=0\n",
        "    for i in range (len(dup_ranks)):\n",
        "        if dup_ranks[i]<=k:\n",
        "          # каунт - просто подсчет числителя\n",
        "          count+=1\n",
        "        else:\n",
        "          count+=0\n",
        "        # итоговая функция:\n",
        "        hits_value=1/(len(dup_ranks))*count\n",
        "    return hits_value"
      ],
      "execution_count": null,
      "outputs": []
    },
    {
      "cell_type": "code",
      "source": [
        "dup_ranks = [2]\n",
        "k = 1\n",
        "hits_value = hits_count(dup_ranks, k)\n",
        "print(f\"Hits@1 = {hits_value}\")\n",
        "\n",
        "k = 4\n",
        "hits_value = hits_count(dup_ranks, k)\n",
        "print(f\"Hits@4 = {hits_value}\")"
      ],
      "metadata": {
        "id": "vSjm_5eWYVYI",
        "colab": {
          "base_uri": "https://localhost:8080/"
        },
        "outputId": "2aae1a50-eae5-412e-f44b-0894a4b34847"
      },
      "execution_count": null,
      "outputs": [
        {
          "output_type": "stream",
          "name": "stdout",
          "text": [
            "Hits@1 = 0.0\n",
            "Hits@4 = 1.0\n"
          ]
        }
      ]
    },
    {
      "cell_type": "code",
      "metadata": {
        "id": "82hQaxCH6j2R"
      },
      "source": [
        "import math\n",
        "\n",
        "def dcg_score(dup_ranks, k):\n",
        "    \"\"\"\n",
        "        dup_ranks: list индексов дубликатов\n",
        "        k: пороговое значение для ранга\n",
        "        result: вернуть DCG@k\n",
        "    \"\"\"\n",
        "    # Вычисляем сумму для всех релевантных дубликатов\n",
        "    dcg_value = 0\n",
        "    count=0\n",
        "    for i in range (len(dup_ranks)):\n",
        "        if dup_ranks[i]<=k:\n",
        "          # каунт - просто подсчет числителя\n",
        "          count+=1/(np.log2(1+dup_ranks[i]))\n",
        "        else:\n",
        "          count+=0\n",
        "    # Делим на общее количество вопросов\n",
        "    dcg_value=1/(len(dup_ranks))*count\n",
        "    return dcg_value"
      ],
      "execution_count": null,
      "outputs": []
    },
    {
      "cell_type": "code",
      "source": [
        "# Пример списка позиций дубликатов\n",
        "dup_ranks = [2]\n",
        "\n",
        "# Вычисляем DCG@1\n",
        "dcg_value = dcg_score(dup_ranks, k=1)\n",
        "print(f\"DCG@1 = {dcg_value:.3f}\")\n",
        "\n",
        "# Вычисляем DCG@4\n",
        "dcg_value = dcg_score(dup_ranks, k=4)\n",
        "print(f\"DCG@10 = {dcg_value:.3f}\")"
      ],
      "metadata": {
        "id": "OJYsEdx-amB4",
        "colab": {
          "base_uri": "https://localhost:8080/"
        },
        "outputId": "afb83668-6815-4949-ba52-d58f1acd6de8"
      },
      "execution_count": null,
      "outputs": [
        {
          "output_type": "stream",
          "name": "stdout",
          "text": [
            "DCG@1 = 0.000\n",
            "DCG@10 = 0.631\n"
          ]
        }
      ]
    },
    {
      "cell_type": "markdown",
      "metadata": {
        "id": "PcwHeXN26j2Y"
      },
      "source": [
        "Протестируем функции. Пусть $N = 1$, то есть один эксперимент. Будем искать копию вопроса и оценивать метрики."
      ]
    },
    {
      "cell_type": "code",
      "metadata": {
        "id": "fjISmOEW6j2h"
      },
      "source": [
        "import pandas as pd"
      ],
      "execution_count": null,
      "outputs": []
    },
    {
      "cell_type": "code",
      "metadata": {
        "id": "gLa_Wqfh6j2m",
        "colab": {
          "base_uri": "https://localhost:8080/"
        },
        "outputId": "36428c6a-ebf2-431f-f2b7-a3760454990e"
      },
      "source": [
        "copy_answers = [\"How does the catch keyword determine the type of exception that was thrown\",]\n",
        "\n",
        "# наши кандидаты\n",
        "candidates_ranking = [[\"How Can I Make These Links Rotate in PHP\",\n",
        "                       \"How does the catch keyword determine the type of exception that was thrown\",\n",
        "                       \"NSLog array description not memory address\",\n",
        "                       \"PECL_HTTP not recognised php ubuntu\"],]\n",
        "\n",
        "# dup_ranks — позиции наших копий, так как эксперимент один, то этот массив длины 1\n",
        "dup_ranks = [2]\n",
        "\n",
        "# вычисляем метрику для разных k\n",
        "print('Ваш ответ HIT:', [hits_count(dup_ranks, k) for k in range(1, 5)])\n",
        "print('Ваш ответ DCG:', [round(dcg_score(dup_ranks, k), 5) for k in range(1, 5)])"
      ],
      "execution_count": null,
      "outputs": [
        {
          "output_type": "stream",
          "name": "stdout",
          "text": [
            "Ваш ответ HIT: [0.0, 1.0, 1.0, 1.0]\n",
            "Ваш ответ DCG: [0.0, 0.63093, 0.63093, 0.63093]\n"
          ]
        }
      ]
    },
    {
      "cell_type": "markdown",
      "metadata": {
        "id": "MoHC3YoQ6j2t"
      },
      "source": [
        "У вас должно получиться"
      ]
    },
    {
      "cell_type": "code",
      "metadata": {
        "scrolled": true,
        "id": "B0NFWq4f6j2u",
        "colab": {
          "base_uri": "https://localhost:8080/",
          "height": 112
        },
        "outputId": "eb9738e3-b452-4849-9435-226137595e5e"
      },
      "source": [
        "# correct_answers - метрика для разных k\n",
        "correct_answers = pd.DataFrame([[0, 1, 1, 1], [0, 1 / (np.log2(3)), 1 / (np.log2(3)), 1 / (np.log2(3))]],\n",
        "                               index=['HITS', 'DCG'], columns=range(1,5))\n",
        "correct_answers"
      ],
      "execution_count": null,
      "outputs": [
        {
          "output_type": "execute_result",
          "data": {
            "text/plain": [
              "      1        2        3        4\n",
              "HITS  0  1.00000  1.00000  1.00000\n",
              "DCG   0  0.63093  0.63093  0.63093"
            ],
            "text/html": [
              "\n",
              "  <div id=\"df-7eeb0633-93b8-4cd7-bd92-17c1d0fa423e\" class=\"colab-df-container\">\n",
              "    <div>\n",
              "<style scoped>\n",
              "    .dataframe tbody tr th:only-of-type {\n",
              "        vertical-align: middle;\n",
              "    }\n",
              "\n",
              "    .dataframe tbody tr th {\n",
              "        vertical-align: top;\n",
              "    }\n",
              "\n",
              "    .dataframe thead th {\n",
              "        text-align: right;\n",
              "    }\n",
              "</style>\n",
              "<table border=\"1\" class=\"dataframe\">\n",
              "  <thead>\n",
              "    <tr style=\"text-align: right;\">\n",
              "      <th></th>\n",
              "      <th>1</th>\n",
              "      <th>2</th>\n",
              "      <th>3</th>\n",
              "      <th>4</th>\n",
              "    </tr>\n",
              "  </thead>\n",
              "  <tbody>\n",
              "    <tr>\n",
              "      <th>HITS</th>\n",
              "      <td>0</td>\n",
              "      <td>1.00000</td>\n",
              "      <td>1.00000</td>\n",
              "      <td>1.00000</td>\n",
              "    </tr>\n",
              "    <tr>\n",
              "      <th>DCG</th>\n",
              "      <td>0</td>\n",
              "      <td>0.63093</td>\n",
              "      <td>0.63093</td>\n",
              "      <td>0.63093</td>\n",
              "    </tr>\n",
              "  </tbody>\n",
              "</table>\n",
              "</div>\n",
              "    <div class=\"colab-df-buttons\">\n",
              "\n",
              "  <div class=\"colab-df-container\">\n",
              "    <button class=\"colab-df-convert\" onclick=\"convertToInteractive('df-7eeb0633-93b8-4cd7-bd92-17c1d0fa423e')\"\n",
              "            title=\"Convert this dataframe to an interactive table.\"\n",
              "            style=\"display:none;\">\n",
              "\n",
              "  <svg xmlns=\"http://www.w3.org/2000/svg\" height=\"24px\" viewBox=\"0 -960 960 960\">\n",
              "    <path d=\"M120-120v-720h720v720H120Zm60-500h600v-160H180v160Zm220 220h160v-160H400v160Zm0 220h160v-160H400v160ZM180-400h160v-160H180v160Zm440 0h160v-160H620v160ZM180-180h160v-160H180v160Zm440 0h160v-160H620v160Z\"/>\n",
              "  </svg>\n",
              "    </button>\n",
              "\n",
              "  <style>\n",
              "    .colab-df-container {\n",
              "      display:flex;\n",
              "      gap: 12px;\n",
              "    }\n",
              "\n",
              "    .colab-df-convert {\n",
              "      background-color: #E8F0FE;\n",
              "      border: none;\n",
              "      border-radius: 50%;\n",
              "      cursor: pointer;\n",
              "      display: none;\n",
              "      fill: #1967D2;\n",
              "      height: 32px;\n",
              "      padding: 0 0 0 0;\n",
              "      width: 32px;\n",
              "    }\n",
              "\n",
              "    .colab-df-convert:hover {\n",
              "      background-color: #E2EBFA;\n",
              "      box-shadow: 0px 1px 2px rgba(60, 64, 67, 0.3), 0px 1px 3px 1px rgba(60, 64, 67, 0.15);\n",
              "      fill: #174EA6;\n",
              "    }\n",
              "\n",
              "    .colab-df-buttons div {\n",
              "      margin-bottom: 4px;\n",
              "    }\n",
              "\n",
              "    [theme=dark] .colab-df-convert {\n",
              "      background-color: #3B4455;\n",
              "      fill: #D2E3FC;\n",
              "    }\n",
              "\n",
              "    [theme=dark] .colab-df-convert:hover {\n",
              "      background-color: #434B5C;\n",
              "      box-shadow: 0px 1px 3px 1px rgba(0, 0, 0, 0.15);\n",
              "      filter: drop-shadow(0px 1px 2px rgba(0, 0, 0, 0.3));\n",
              "      fill: #FFFFFF;\n",
              "    }\n",
              "  </style>\n",
              "\n",
              "    <script>\n",
              "      const buttonEl =\n",
              "        document.querySelector('#df-7eeb0633-93b8-4cd7-bd92-17c1d0fa423e button.colab-df-convert');\n",
              "      buttonEl.style.display =\n",
              "        google.colab.kernel.accessAllowed ? 'block' : 'none';\n",
              "\n",
              "      async function convertToInteractive(key) {\n",
              "        const element = document.querySelector('#df-7eeb0633-93b8-4cd7-bd92-17c1d0fa423e');\n",
              "        const dataTable =\n",
              "          await google.colab.kernel.invokeFunction('convertToInteractive',\n",
              "                                                    [key], {});\n",
              "        if (!dataTable) return;\n",
              "\n",
              "        const docLinkHtml = 'Like what you see? Visit the ' +\n",
              "          '<a target=\"_blank\" href=https://colab.research.google.com/notebooks/data_table.ipynb>data table notebook</a>'\n",
              "          + ' to learn more about interactive tables.';\n",
              "        element.innerHTML = '';\n",
              "        dataTable['output_type'] = 'display_data';\n",
              "        await google.colab.output.renderOutput(dataTable, element);\n",
              "        const docLink = document.createElement('div');\n",
              "        docLink.innerHTML = docLinkHtml;\n",
              "        element.appendChild(docLink);\n",
              "      }\n",
              "    </script>\n",
              "  </div>\n",
              "\n",
              "\n",
              "<div id=\"df-b9063011-d5ed-4e36-985d-b536ba3effba\">\n",
              "  <button class=\"colab-df-quickchart\" onclick=\"quickchart('df-b9063011-d5ed-4e36-985d-b536ba3effba')\"\n",
              "            title=\"Suggest charts\"\n",
              "            style=\"display:none;\">\n",
              "\n",
              "<svg xmlns=\"http://www.w3.org/2000/svg\" height=\"24px\"viewBox=\"0 0 24 24\"\n",
              "     width=\"24px\">\n",
              "    <g>\n",
              "        <path d=\"M19 3H5c-1.1 0-2 .9-2 2v14c0 1.1.9 2 2 2h14c1.1 0 2-.9 2-2V5c0-1.1-.9-2-2-2zM9 17H7v-7h2v7zm4 0h-2V7h2v10zm4 0h-2v-4h2v4z\"/>\n",
              "    </g>\n",
              "</svg>\n",
              "  </button>\n",
              "\n",
              "<style>\n",
              "  .colab-df-quickchart {\n",
              "      --bg-color: #E8F0FE;\n",
              "      --fill-color: #1967D2;\n",
              "      --hover-bg-color: #E2EBFA;\n",
              "      --hover-fill-color: #174EA6;\n",
              "      --disabled-fill-color: #AAA;\n",
              "      --disabled-bg-color: #DDD;\n",
              "  }\n",
              "\n",
              "  [theme=dark] .colab-df-quickchart {\n",
              "      --bg-color: #3B4455;\n",
              "      --fill-color: #D2E3FC;\n",
              "      --hover-bg-color: #434B5C;\n",
              "      --hover-fill-color: #FFFFFF;\n",
              "      --disabled-bg-color: #3B4455;\n",
              "      --disabled-fill-color: #666;\n",
              "  }\n",
              "\n",
              "  .colab-df-quickchart {\n",
              "    background-color: var(--bg-color);\n",
              "    border: none;\n",
              "    border-radius: 50%;\n",
              "    cursor: pointer;\n",
              "    display: none;\n",
              "    fill: var(--fill-color);\n",
              "    height: 32px;\n",
              "    padding: 0;\n",
              "    width: 32px;\n",
              "  }\n",
              "\n",
              "  .colab-df-quickchart:hover {\n",
              "    background-color: var(--hover-bg-color);\n",
              "    box-shadow: 0 1px 2px rgba(60, 64, 67, 0.3), 0 1px 3px 1px rgba(60, 64, 67, 0.15);\n",
              "    fill: var(--button-hover-fill-color);\n",
              "  }\n",
              "\n",
              "  .colab-df-quickchart-complete:disabled,\n",
              "  .colab-df-quickchart-complete:disabled:hover {\n",
              "    background-color: var(--disabled-bg-color);\n",
              "    fill: var(--disabled-fill-color);\n",
              "    box-shadow: none;\n",
              "  }\n",
              "\n",
              "  .colab-df-spinner {\n",
              "    border: 2px solid var(--fill-color);\n",
              "    border-color: transparent;\n",
              "    border-bottom-color: var(--fill-color);\n",
              "    animation:\n",
              "      spin 1s steps(1) infinite;\n",
              "  }\n",
              "\n",
              "  @keyframes spin {\n",
              "    0% {\n",
              "      border-color: transparent;\n",
              "      border-bottom-color: var(--fill-color);\n",
              "      border-left-color: var(--fill-color);\n",
              "    }\n",
              "    20% {\n",
              "      border-color: transparent;\n",
              "      border-left-color: var(--fill-color);\n",
              "      border-top-color: var(--fill-color);\n",
              "    }\n",
              "    30% {\n",
              "      border-color: transparent;\n",
              "      border-left-color: var(--fill-color);\n",
              "      border-top-color: var(--fill-color);\n",
              "      border-right-color: var(--fill-color);\n",
              "    }\n",
              "    40% {\n",
              "      border-color: transparent;\n",
              "      border-right-color: var(--fill-color);\n",
              "      border-top-color: var(--fill-color);\n",
              "    }\n",
              "    60% {\n",
              "      border-color: transparent;\n",
              "      border-right-color: var(--fill-color);\n",
              "    }\n",
              "    80% {\n",
              "      border-color: transparent;\n",
              "      border-right-color: var(--fill-color);\n",
              "      border-bottom-color: var(--fill-color);\n",
              "    }\n",
              "    90% {\n",
              "      border-color: transparent;\n",
              "      border-bottom-color: var(--fill-color);\n",
              "    }\n",
              "  }\n",
              "</style>\n",
              "\n",
              "  <script>\n",
              "    async function quickchart(key) {\n",
              "      const quickchartButtonEl =\n",
              "        document.querySelector('#' + key + ' button');\n",
              "      quickchartButtonEl.disabled = true;  // To prevent multiple clicks.\n",
              "      quickchartButtonEl.classList.add('colab-df-spinner');\n",
              "      try {\n",
              "        const charts = await google.colab.kernel.invokeFunction(\n",
              "            'suggestCharts', [key], {});\n",
              "      } catch (error) {\n",
              "        console.error('Error during call to suggestCharts:', error);\n",
              "      }\n",
              "      quickchartButtonEl.classList.remove('colab-df-spinner');\n",
              "      quickchartButtonEl.classList.add('colab-df-quickchart-complete');\n",
              "    }\n",
              "    (() => {\n",
              "      let quickchartButtonEl =\n",
              "        document.querySelector('#df-b9063011-d5ed-4e36-985d-b536ba3effba button');\n",
              "      quickchartButtonEl.style.display =\n",
              "        google.colab.kernel.accessAllowed ? 'block' : 'none';\n",
              "    })();\n",
              "  </script>\n",
              "</div>\n",
              "    </div>\n",
              "  </div>\n"
            ],
            "application/vnd.google.colaboratory.intrinsic+json": {
              "type": "dataframe",
              "variable_name": "correct_answers",
              "summary": "{\n  \"name\": \"correct_answers\",\n  \"rows\": 2,\n  \"fields\": [\n    {\n      \"column\": 1,\n      \"properties\": {\n        \"dtype\": \"number\",\n        \"std\": 0,\n        \"min\": 0,\n        \"max\": 0,\n        \"num_unique_values\": 1,\n        \"samples\": [\n          0\n        ],\n        \"semantic_type\": \"\",\n        \"description\": \"\"\n      }\n    },\n    {\n      \"column\": 2,\n      \"properties\": {\n        \"dtype\": \"number\",\n        \"std\": 0.26097207398381256,\n        \"min\": 0.6309297535714575,\n        \"max\": 1.0,\n        \"num_unique_values\": 2,\n        \"samples\": [\n          0.6309297535714575\n        ],\n        \"semantic_type\": \"\",\n        \"description\": \"\"\n      }\n    },\n    {\n      \"column\": 3,\n      \"properties\": {\n        \"dtype\": \"number\",\n        \"std\": 0.26097207398381256,\n        \"min\": 0.6309297535714575,\n        \"max\": 1.0,\n        \"num_unique_values\": 2,\n        \"samples\": [\n          0.6309297535714575\n        ],\n        \"semantic_type\": \"\",\n        \"description\": \"\"\n      }\n    },\n    {\n      \"column\": 4,\n      \"properties\": {\n        \"dtype\": \"number\",\n        \"std\": 0.26097207398381256,\n        \"min\": 0.6309297535714575,\n        \"max\": 1.0,\n        \"num_unique_values\": 2,\n        \"samples\": [\n          0.6309297535714575\n        ],\n        \"semantic_type\": \"\",\n        \"description\": \"\"\n      }\n    }\n  ]\n}"
            }
          },
          "metadata": {},
          "execution_count": 18
        }
      ]
    },
    {
      "cell_type": "markdown",
      "source": [
        "ура, все сошлось :)"
      ],
      "metadata": {
        "id": "qTzKdT8wg4eU"
      }
    },
    {
      "cell_type": "markdown",
      "metadata": {
        "id": "tHZqgDTo6j0i"
      },
      "source": [
        "### Данные\n",
        "[arxiv link](https://drive.google.com/file/d/1QqT4D0EoqJTy7v9VrNCYD-m964XZFR7_/edit)\n",
        "\n",
        "`train.tsv` - выборка для обучения.<br> В каждой строке через табуляцию записаны: **<вопрос>, <похожий вопрос>**\n",
        "\n",
        "`validation.tsv` - тестовая выборка.<br> В каждой строке через табуляцию записаны: **<вопрос>, <похожий вопрос>, <отрицательный пример 1>, <отрицательный пример 2>, ...**"
      ]
    },
    {
      "cell_type": "code",
      "metadata": {
        "id": "jKVK2lDGvrIe",
        "colab": {
          "base_uri": "https://localhost:8080/"
        },
        "outputId": "b12a1518-71aa-4d9e-f1c7-e713640cf963"
      },
      "source": [
        "!unzip stackoverflow_similar_questions.zip"
      ],
      "execution_count": null,
      "outputs": [
        {
          "output_type": "stream",
          "name": "stdout",
          "text": [
            "unzip:  cannot find or open stackoverflow_similar_questions.zip, stackoverflow_similar_questions.zip.zip or stackoverflow_similar_questions.zip.ZIP.\n"
          ]
        }
      ]
    },
    {
      "cell_type": "markdown",
      "metadata": {
        "id": "hil2UsUG6j22"
      },
      "source": [
        "Считайте данные."
      ]
    },
    {
      "cell_type": "code",
      "metadata": {
        "id": "B4EBho8s6j26"
      },
      "source": [
        "def read_corpus(filename):\n",
        "    data = []\n",
        "    with open(filename, encoding='utf-8') as file:\n",
        "        for line in file:\n",
        "            data.append(line.strip().split('\\t'))\n",
        "    return data"
      ],
      "execution_count": null,
      "outputs": []
    },
    {
      "cell_type": "markdown",
      "metadata": {
        "id": "kkTxY3Mk9_nG"
      },
      "source": [
        "Нам понадобиться только файл validation."
      ]
    },
    {
      "cell_type": "code",
      "metadata": {
        "id": "PTVB9Tnp6j29"
      },
      "source": [
        "validation_data = read_corpus('/content/validation.tsv')"
      ],
      "execution_count": null,
      "outputs": []
    },
    {
      "cell_type": "code",
      "source": [
        "validation_data[1]"
      ],
      "metadata": {
        "colab": {
          "base_uri": "https://localhost:8080/"
        },
        "id": "y8bVYyeXkRdR",
        "outputId": "35a2ead7-6ba9-4610-efbd-a5ad327ef48b"
      },
      "execution_count": null,
      "outputs": [
        {
          "output_type": "execute_result",
          "data": {
            "text/plain": [
              "['How to start PhoneStateListener programmatically?',\n",
              " 'PhoneStateListener and service',\n",
              " 'Java cast object[] to model',\n",
              " 'WCF and What does this mean?',\n",
              " 'How to uncheck checkbox using jQuery Uniform library',\n",
              " 'Two projects with same code base',\n",
              " \"Can't read php file when upload image to server in titanium\",\n",
              " 'create pandas dataframe from dictionary of dictionaries',\n",
              " 'how to pass tkinter text to flex',\n",
              " 'runtime error project source code not found and invalid string null exception?',\n",
              " 'excel VBA new URL on existing IE',\n",
              " 'Howto immediately update TextBox after correction of bound property?',\n",
              " 'JAX-RS Jersey/Grizzly Define an interface resource',\n",
              " 'JSONConvert.DeserializeObject not handling child array with unnamed array items',\n",
              " 'Unexpected error while loading data',\n",
              " 'Cucumber Capybara Selenium race condition with expect(all())',\n",
              " 'How do I check if one vector is a subset of another?',\n",
              " 'Dropdown list where options populate a second list js/php?',\n",
              " 'Automated Email Sender',\n",
              " 'mysqldump --routines not including routines in created file',\n",
              " \"'Save As' image with src from PHP\",\n",
              " 'enable mouse scrolling but not mouse visual selection in vim?',\n",
              " \"Cucumber's AfterConfiguration can't access helper modules\",\n",
              " 'Doctrine 1.2: Can a model have two instances of the sluggabl behavior?',\n",
              " 'Should a custom find method on a Laravel Model be static?',\n",
              " \"Calling spring data rest repository method doesn't return links\",\n",
              " 'QML : Flippable issue',\n",
              " 'css: how to build centered div with minimum spacing on the left',\n",
              " 'Android OS Calling onActivityResult before picking up image from gallery',\n",
              " 'how to detect if is running the scan for new media files on Android (in background)',\n",
              " 'Undo in JTextField and setText',\n",
              " 'Swift: Create Reproducible NSView using Interface Builder',\n",
              " 'Is there a predefined webpart called CAPTCHA webpart?',\n",
              " 'fme datalist extension for alfresco community 4.0.c',\n",
              " 'How to read the call log on iPhone iOS 5 programmatically',\n",
              " 'Rendering partial views with Razor in MVC5',\n",
              " '$ is not a function errors',\n",
              " 'Get values on a row based on two or more rows in Excel',\n",
              " \"Python 3.3 can't import Crypt\",\n",
              " 'Why Hashmap is not displaying in order?',\n",
              " 'Keepalive time - cannot reduce below one minute in C++',\n",
              " 'ExecCommand not working on all systems',\n",
              " 'What are we doing wrong with git?',\n",
              " \"Database foreign key constraint doesn't work?\",\n",
              " 'Custom Partitioner : N number of keys to N different files',\n",
              " 'Behaviour of autoDestroy: false in Extjs4',\n",
              " 'Conditional extends in Blade',\n",
              " 'Get Word bookmark index to replace image inside bookmark from Excel',\n",
              " 'Set label text based on dropdown list selection from datasource',\n",
              " 'How do I refresh in Firefox and preserve breakpoints?',\n",
              " 'Closely coupled C# classes in one module, how to improve this design?',\n",
              " 'Jacobian and Hessian inputs in `scipy.optimize.minimize`',\n",
              " 'Force full calculation of entire workbook in Coldfusion / Apache POI',\n",
              " 'Adobe AIR lag on high resolution Android devices',\n",
              " 'magento product category not applying, but applying after manual \"save\"',\n",
              " 'how to get environment variables desktop path',\n",
              " 'Get few lines of HDFS data',\n",
              " 'JSP Redirect: Session Loss Issues',\n",
              " 'What does JPA EntityManager.getSingleResult() return for a COUNT query?',\n",
              " 'Limit Linq result columns for GridView',\n",
              " 'Unmarshalling, manipulating and then marshalling CVS data in Camel using Spring DSL',\n",
              " 'Sphinx Search Multiple Tables and Aggregate Results Using PHP API',\n",
              " 'What is a Sanity Suite?',\n",
              " 'In Spring OAuth2, why is my resource still unprotected even though I have marked it in my resource server?',\n",
              " \"Unable to run rails server: `require': cannot load such file -- net/ssh (LoadError)\",\n",
              " 'Building a Matrix of Combinations',\n",
              " 'Convert Perl Regular Expression into Java Regular Expression',\n",
              " \"Value of type 'String' has no member 'range' in Swift\",\n",
              " 'Using awk to remove spaces from a field',\n",
              " 'Executing a function on ring/compjure application startup after deploy',\n",
              " 'Does using compare on a nil NSNumber always return NSOrderedSame?',\n",
              " 'Sign on several sites',\n",
              " 'Finding entry of vector in PARI/GP?',\n",
              " 'How to draw line and font without D3DX9 in DirectX 9?',\n",
              " 'grep through colored text , e.g. gcc | colorgcc | grep regexp',\n",
              " 'Querying ignoring a time portion of TIMESTAMP fields along with JPA converter',\n",
              " 'refresh gridview after adding or deleting new record in c#',\n",
              " 'Move static data from db into code in rails 3',\n",
              " 'How to free memory after array in PHP? unset and = null seems to not working',\n",
              " 'CSS Sprites Bottom repeating',\n",
              " \"How can I workaround heroku's 30 sec timeout when executing long PLSQL procedure in Rails?\",\n",
              " 'java.lang.OutOfMemoryError - Very large SOAP response',\n",
              " 'Data binding access in xaml vs in code behind - Linq to XML?',\n",
              " 'Filter Array Content to a Query containing $concatArrays',\n",
              " 'IntelliJ IDEA: ClassNotFoundException if run Debug, execution/run does work',\n",
              " 'How to read events for a particular date from native calendar',\n",
              " 'PEAR and absolute paths',\n",
              " 'Ember, safe way to save models',\n",
              " 'Javascript Json Parser',\n",
              " 'How can I keep my initializer configuration from being lost in development mode?',\n",
              " 'Adding in-app purchase to existing published application and testing it without publishing',\n",
              " 'If statement in TableView Cell not working',\n",
              " 'SFML fails in multithreading',\n",
              " 'Is there a canonical way of passing options to a Go function?',\n",
              " 'Problems with limit method in Rails 3.2 and hash ordering',\n",
              " 'How can I choose the location where I want to save downloaded files?',\n",
              " 'Creating NSWindow programmatically in Mono using MonoMac.dll Ref',\n",
              " \"Can you use DataTable.Contains(object key) if your datatable's primary key is two columns?\",\n",
              " 'Linking two UIScrollViews so they follow each others touches',\n",
              " 'Unable to dump a relation in PIG',\n",
              " 'Error when TS audio stream over UDP',\n",
              " 'getting java.net.SocketException: Invalid argument:inside docker container',\n",
              " 'GIT - Fail to checkout to other branch when nothing to commit - when file is in gitignore',\n",
              " 'ASP.NET: How can I create a Login System using aspnet_regsql.exe?',\n",
              " 'Putting 2 divs on the same line',\n",
              " \"Interface's function clashes with Property's getter\",\n",
              " 'How do I make a table from a List MVC?',\n",
              " 'Ignore blur event if user choose address on google map autocomplete',\n",
              " 'RethinkDB update field inside nested array->obj',\n",
              " 'Authenticate users using cURL for my login system on my site?',\n",
              " 'Silverlight datagrid disable particular cell',\n",
              " 'Path configuration with sphinx',\n",
              " 'FileNotFoundError: [WinError 2] python 3.4',\n",
              " 'SVG click events not firing/bubbling when using <use> element',\n",
              " 'Visual Studio publish to azure existing apps error',\n",
              " \"angular javascript won't apply to ui-view inserted element\",\n",
              " 'Passing shake gesture event to the app delegate',\n",
              " 'How to display french letters?',\n",
              " 'Forbidden access Codeigniter URL',\n",
              " 'Calling Method in Android',\n",
              " \"Facebook Comment box inside UIWebView doesn't have the right height\",\n",
              " 'how can i get the object of a button created with storyboard',\n",
              " 'CodeIgniter Removing index.php using .htaccess file',\n",
              " 'ArgumentException: The specified structure must be blittable or have layout information',\n",
              " \"Event Viewer reporting my C# application crashed through 'System.Environment.FailFast()'\",\n",
              " 'Leaving equal width gap spacing before and between menu buttons',\n",
              " 'Get Button Value when click in Angularjs',\n",
              " 'Android map api-2 disable click',\n",
              " 'Can not add rows using datatable.js Ajax',\n",
              " 'Passing a simple IEnumerable to view and using foreach to loop through returns a blank screen?',\n",
              " 'Cordova brightness still returns -1',\n",
              " 'GDB/MI redirect stdin and stdout to files',\n",
              " 'how to clear devise session on browser close?',\n",
              " 'JsTree - Get Degree of Node',\n",
              " 'Swift type inference and type checking issue',\n",
              " 'How to call DocuSign Signer Information screen?',\n",
              " \"Getfield.SetValue doesn't work\",\n",
              " 'Why do we put \"#\" in front of myTempTableName?',\n",
              " 'Accessing SQL Server over an SSH tunnel',\n",
              " 'Deleting Li doesnot work for dynamic li',\n",
              " 'iOS 10 FBSDKAppInviteContent() not working anymore?',\n",
              " 'RoR: How to populate table from radio buttons?',\n",
              " 'I have a SQLite syntax error in DELETE statement',\n",
              " 'Cookies of domain are sent to subdomain, how to fix?',\n",
              " 'Why libuv use thread pool to run all file system operations',\n",
              " 'CSS button not styling',\n",
              " 'Error while creating Menu Dynamically with Xamarin Android',\n",
              " 'Why does my GradientDescentOptimizer produce NaN?',\n",
              " 'Dynamic table in html',\n",
              " 'Coq tutorial and/or book with exercises involving subset types',\n",
              " 'How to have a where clause on an insert or an update in Linq to Sql?',\n",
              " \"Aren't these two statements incompatible in N4140?\",\n",
              " 'how use tests written in Selenium and Cucumber-JVM with JMeter?',\n",
              " 'Why use Thread.currentThread().isInterrupted() instead of Thread.interrupted() when implementing Runnable?',\n",
              " 'How to preserve TwoWay binding of CurrentItem when databinding to CollectionViewSource in ComboBox',\n",
              " 'Android find if color is too close to black or white',\n",
              " 'Dynamic listview with jquery mobile',\n",
              " 'ClearCase Remote Client CLI?',\n",
              " 'Ajax Accordion issues in firefox/chrome',\n",
              " 'Running Webrick server in background?',\n",
              " 'Can I create my own command in sublime and how to associate python implementation to that command?',\n",
              " 'prepareForSegue not getting called when registering a custom cell',\n",
              " 'C# Xml Parsing from StringBuilder',\n",
              " 'Dynamically generate a list of available languages in Spring MVC',\n",
              " 'Recursively find subdirectories and files',\n",
              " 'Check key exists in NSDictionary',\n",
              " 'c++ for loop with decrement update causing infinite loop?',\n",
              " 'MySQL JOIN returns NULL fields',\n",
              " 'Need algorithm for angle of WPF line',\n",
              " 'How to get String value from a boolean value using MySQL query in Jasper Studio',\n",
              " 'What is the usage of global:: keyword in C#?',\n",
              " 'iOS Framework: All Functions Demanding Different Types of Parameters',\n",
              " 'How to print a binary heap tree without recursion?',\n",
              " 'JavaScript variable is undefined after being passed in a function',\n",
              " '\"preprocess current file\" addin for Visual Studio? (C++ )',\n",
              " 'Object Oriented Database Vs object Relational Database',\n",
              " 'run method onclick crash in android',\n",
              " 'Does Akka support in-process messaging without object serialization?',\n",
              " 'AWS Elastic Beanstalk - Increase Instance Disk Capacity',\n",
              " 'Inter Thread Communication in C',\n",
              " 'Do we have Reminders in windows 8',\n",
              " 'Make specific ListView item not clickable in Universal Windows Platform',\n",
              " 'Regex groups in python',\n",
              " 'Facebook Realtime Updates - Dispute - Response',\n",
              " 'Is empty struct defined by C++ standard?',\n",
              " 'Background Image disappearing in Microsoft Edge',\n",
              " 'Java getNodeName and namespaces',\n",
              " 'SpringBatch CommandLineJobRunner -next using old run.id',\n",
              " 'Apache camel soap request type conversion error',\n",
              " 'How to get mouse position in float or double with exact resolution?',\n",
              " 'Hive query output to file',\n",
              " 'Check if an object exists in JSON',\n",
              " 'PHP - Socket communication between servers',\n",
              " 'Windows Phone with XML file',\n",
              " 'Laravel 5.2 $fillable',\n",
              " 'Treeview - highlighting multiple items',\n",
              " 'OpenGL - Sweep Representations',\n",
              " 'Rstudio is.na(e2) error when sourcing r file of functions',\n",
              " \"Add subview to tableview which doesn't scroll\",\n",
              " 'readHTMLTable and UTF-8 encoding',\n",
              " '.htaccess block certain website',\n",
              " 'Use for WorkItemAttribute?',\n",
              " 'Foreach changes not being preserved on Linq item collection',\n",
              " 'Why/How is IntelliJ causing debug output in Netbeans?',\n",
              " 'TypeInitializationException when running Stanford.NLP.CoreNLP example',\n",
              " 'Cannot load MySQL JDBC driver',\n",
              " 'MySQL - Trying to count tickets sold for an event',\n",
              " \"A string with '-' character is not drawing properly in drawrect method in iOS\",\n",
              " 'tabBar:didSelectItem and popToRootViewControllerAnimated',\n",
              " 'APK loading workflow documentation',\n",
              " 'chosen allow_single_deselect is not working as expected',\n",
              " 'writing boost::archive to C# stream',\n",
              " 'Replacing directory with external results in \"working copy locked\" on `update`',\n",
              " 'Lm across many columns in a dataframe in R',\n",
              " 'Cassandra adding disks / increase storage volume without adding new nodes',\n",
              " 'How do I pass variables between methods in java?',\n",
              " 'Camera crash if called by other application',\n",
              " 'Trying to retrieve the most recent previous entry in a table',\n",
              " 'Watir wait_until_present times out instead of returning false',\n",
              " 'CentOS install mod_dav_svn',\n",
              " 'Facing issue with camera application',\n",
              " 'How to import data into neo4j (neo4j-community-2.0.0) in windows 7?',\n",
              " 'Trying to save my Django Model Formset, keep getting ManagementForm error?',\n",
              " 'UIToolbar on each page of UINavigationController',\n",
              " 'Non interactive samba user creation via ansible',\n",
              " \"Error while installing netCDF4 for Python, can't find HDF5\",\n",
              " \"Use Flexslider's selector property to skip some slides in DOM descending order\",\n",
              " 'carouFredSel Slider - prevent scroll to top on slides rolling',\n",
              " 'Structure a NoSQL database for a chat application (using FireBase)',\n",
              " 'How to change images in grid view as the position changes in android?',\n",
              " 'iOS6.1, iPod: Second video does not start at the beginning',\n",
              " 'Android Emulator Won\\'t Start in Eclipse \"reqested operation requires elevation',\n",
              " 'Test that app launches another app in Android',\n",
              " 'ZF2 detach listener from EventManager',\n",
              " 'PyScripter Rpyc',\n",
              " 'Cython: cimport and import numpy as (both) np',\n",
              " 'Access or download .csv file from dropbox using objective-c',\n",
              " 'Replacing an equation and embedding a math function plotter?',\n",
              " 'can you make an image button move in the same was as a bitmap in android',\n",
              " 'Dynamic name, password and ip in MySQL',\n",
              " 'AppleScript error \"Can’t make \\\\\"\" into type integer.\" number -1700',\n",
              " 'node (angular 2) updates the input field even on different PC or browser?',\n",
              " 'Restrict cipher suites on JRE level',\n",
              " 'Join tables hibernate + group by',\n",
              " 'Pulling prior year data',\n",
              " 'how to get rid of ArrayOfString classes from jax-ws client code',\n",
              " 'Get a worksheet name using Excel VBA',\n",
              " 'jQuery menu hover',\n",
              " 'Formation of Clusters in MATLAB',\n",
              " 'Use SQL to filter the results of a stored procedure',\n",
              " 'Java: How can I tell if one of my array String values is null?',\n",
              " 'Get log file name of database from .mdf file',\n",
              " 'Rename control methods in Windows Forms application',\n",
              " 'Spring Boot maven exec - unable to start class',\n",
              " 'Is IntentService appropriate for FileObserver',\n",
              " 'Add Button to CMS_Page_Edit via Observer',\n",
              " 'Using Nested Graphs in Sparql',\n",
              " 'asp.net mvc int property bind exception',\n",
              " 'Looping through AJAX and callbacks in jquery',\n",
              " 'Printing a Table from a Dictionary',\n",
              " 'Xcode 6, Yosemite Mac app help book: topic unavailable',\n",
              " 'There was no endpoint listening',\n",
              " 'NSString that contain lots of null termination?',\n",
              " 'BadTokenException - Unable to add window',\n",
              " 'Why is the getElementsByTagNameNS empty in java?',\n",
              " 'Ajax ModalPopup wrong display in IE8',\n",
              " 'Rescue all errors of a specific type inside a module',\n",
              " 'Setting svn:ignore property on files that are not version controlled',\n",
              " 'Is there a way to print to the console in an Android app?',\n",
              " 'Program exceeds a time limit, which seems impossible - buggy code',\n",
              " 'Reading values from one database and write it to another database',\n",
              " 'Visual Studio 201x: C# syntax highlighting for new object names',\n",
              " 'Calling a JAX-WS webservice from inside Matlab',\n",
              " 'How can I program a button in HTML to go to a link?',\n",
              " 'Rails 4, Ruby 2.0: Get PG Error when trying to get all records having a specified value in joined table',\n",
              " 'Add one \"day\" to date but let me choose what time',\n",
              " 'how to use jquery deferred with vktemplate / queuing ajax requests',\n",
              " 'Cant set text in TextView - android',\n",
              " 'Displaying image in MFC method that is not ONPaint',\n",
              " 'How to insert new row to database with AUTO_INCREMENT column without specifying column names?',\n",
              " 'Invalid Constraint Value',\n",
              " 'Magento not saving any data',\n",
              " \"Java Generics : Casting a raw type to any reifiable type doesn't generate unchecked cast warning\",\n",
              " 'Notifying user-mode as soon as a packet arrives',\n",
              " 'How to handle this type of events',\n",
              " \"Links don't work with jsp and jquery (How to link websiteurl in anchor tag in jsp page)\",\n",
              " 'how to populate a dropdownlist based on another dropdownlist selected value in mvc 4?',\n",
              " 'test driven asynch tasks',\n",
              " 'Log file not being generated while running a script via Windows Task Scheduler',\n",
              " 'How to know the discriminator value',\n",
              " \"Wrap two adjacent td's\",\n",
              " 'How do I get a Faye client given a client ID?',\n",
              " 'RoboGuice custom module application context',\n",
              " 'Memory leak in Python extension when array is created with PyArray_SimpleNewFromData() and returned',\n",
              " 'terminal command for running sublime text 3 from on ubuntu',\n",
              " 'Strange PHP 5.3 issue with date diff calculating difference in days',\n",
              " 'Why is my code making PDO return nested arrays?',\n",
              " 'Delphi TWebBrowser - how to use proxy with login/password?',\n",
              " \"Under iOS, does anyone know how UUID's are generated for executables and what information may be encoded therein?\",\n",
              " \"Can't create a Hadoop sequence file on a local file system\",\n",
              " 'hibernate ImprovedNamingStrategy overrides Table name in entity',\n",
              " 'Can I compare MysQL timestamp with datetime columns? is it bad?',\n",
              " 'JSON Safe Values from MySQL',\n",
              " 'SQL Select MIN in Subquery returns multiple records',\n",
              " 'How to update self based on reference of value from hashmap from self',\n",
              " 'Compile a Standalone Static Executable',\n",
              " 'Rally SDK App using Grid with collapsible tree of children stories',\n",
              " 'make a favorite list of job using PHP and MYSQL',\n",
              " \"Parent UIViewController Orientation Shouldn't Change After Dismissing the Child\",\n",
              " 'how to use jquery file upload angular version?',\n",
              " 'How do I fast foward branches without switching to them?',\n",
              " 'Managing database connectivity with ADO.NET',\n",
              " 'Repeat each value of an array two times (numpy)',\n",
              " 'Help me understand this C code (*(void(*) ()) scode) ()',\n",
              " 'Unity3D - Audio playing getting muted after getting any call/notification on Android',\n",
              " 'Can you set a tkinter background image without adding a new canvas element?',\n",
              " 'using tapply/dapply etc for t.tests',\n",
              " \"Binding a 'IsReadOnly' Dependency Property\",\n",
              " 'Meteor: Sharing/Passing Variable Between Controller and Helper (diff files)',\n",
              " 'Google Dart Simple Contact form',\n",
              " 'Loop invariant of linear search',\n",
              " 'How do I add an element to a list in Groovy?',\n",
              " 'DbAcl::check() - Failed ARO/ACO node lookup in permissions check.',\n",
              " 'Rotating coverflow effect',\n",
              " 'How to create multiple objects from a class with different variables?',\n",
              " 'How to store DbType.Time from c#',\n",
              " 'Custom keyboard clear button',\n",
              " 'Test class extending test class in dependency module',\n",
              " 'Error while making CLucene for Max OS X 10.10',\n",
              " 'Bind to docker socket on Windows',\n",
              " 'give type to anonymous type in linq query',\n",
              " 'Bigger image for first item of the gridview android',\n",
              " 'Form is submitting the Array instead of the wanted field in CakePHP',\n",
              " 'Proper groovy script for sum of fields in Elasticsearch documents',\n",
              " 'Monitor network usage of a process',\n",
              " 'PHP SCRIPT issue with passing the uploaded image to facebook->api function',\n",
              " 'Cocoon and has_one association',\n",
              " 'Bad performance (stuttering) with Windows Phone 7 Page Transitions',\n",
              " 'Datagridview enter key selects next cell from next row',\n",
              " 'Search and then delete depending on whether files contain a string',\n",
              " 'Beautifulsoup Exception list out of range',\n",
              " 'Footer. It overlaps on div',\n",
              " 'How to get the semantic orientation of String or adjectives by using SentiWordNet',\n",
              " 'Visual Basic Regular Expression Question',\n",
              " 'Jquery validate file ext on upload',\n",
              " 'CKEditor paragraph spacing issue',\n",
              " 'boost::shared_ptr and nullptr in default template function argument',\n",
              " \"Enemy Script Isn't working properly on my Tower Defense game c#\",\n",
              " 'TFS Build fails on Specifying Drop folder location',\n",
              " 'Formatting a numeric field to fixed length in crystal reports',\n",
              " 'Is there a framework/app for testing distributed systems or just network apps?',\n",
              " 'async/await for Worker',\n",
              " 'ComboBox bound to ICollectionView is displaying incorrect SelectedItem',\n",
              " 'How do I implement multiple argument generation using FsCheck?',\n",
              " 'Universal Analytics Custom Dimensions with Multiple Trackers - Old tracker recording User-Level Scope Dimension',\n",
              " 'SSLSetup on Amazon Linux: SSL Error, Multiple certificates provided',\n",
              " 'Firebird 2.5.6 romanian collation for UTF8 charset',\n",
              " 'How to implement builder pattern with fluent-interface with immutable results and extended interfaces?',\n",
              " 'Why did Rails Active Record migration generate COLLATE utf8_bin on varchar columns of mysql',\n",
              " 'Assign Topic in chm file',\n",
              " 'How do I get a stack trace using the ruby debugger?',\n",
              " \"ef7 unable to retrieve child collections' child object's properties\",\n",
              " 'C# JSON Post From JavaScript',\n",
              " 'simple sentiment analysis with java',\n",
              " 'dynamic allocation of more than 1 dimensional array',\n",
              " 'jQuery works on my page, but firebug says $ is not defined error. Why and how to avoid it?',\n",
              " 'How reliable is h2 database?',\n",
              " 'Scrapy How to check if certain class exists in a given element',\n",
              " 'Using Workflow Foundation to define flow of asp.net pages',\n",
              " 'Add precompiled dynamic library to APK when using QBS build system',\n",
              " 'Connecting mssql using php in linux server',\n",
              " '2 states roundable numeric text box with knockoutjs',\n",
              " 'a href in FT InfoWindow not working as I would like',\n",
              " 'How can I do point-to-point messaging in Bluemix using MQ Light?',\n",
              " 'My javascript web workers are dying silently at random places. How can I debug this?',\n",
              " 'Docker compose - secrets Additional property secrets is not allowed',\n",
              " \"NUnit - Loads ALL TestCaseSources even if they're not required by current test\",\n",
              " \"What's MySQL's string compare rule?\",\n",
              " 'Python: Using Excel CSV file to read only certain columns and rows',\n",
              " 'Creating a jump function',\n",
              " 'auto-increment using loopback.js and MongoDB',\n",
              " 'How to go to next screen of an app using appium?',\n",
              " 'CSS3 Rotate on animated element causing click event not to invoke',\n",
              " 'datagridview keypress event for adding new row',\n",
              " 'Subtypes vs Derived Types in C++',\n",
              " 'asmx service work regular but not async',\n",
              " 'Intellisense on wstring displays: npos = 18446744',\n",
              " 'After update from vs15 to vs17 660 errors appeared',\n",
              " 'Is there a better HTML escaping and unescaping tool than CGI for Ruby?',\n",
              " \"Can't add content on pages using webform template in Umbraco\",\n",
              " 'Xcode crashes when i run the app on my real device',\n",
              " 'How to set a custom UIToolBar always in the front and top of the application?',\n",
              " 'How can I use the mongolab add-on to Heroku from python?',\n",
              " \"I want to initialized every jtabbedpane's JTextarea with a new dynamic name?\",\n",
              " 'jquery: maskedinput plugin not playing nice with validation plugin',\n",
              " 'CSS Conditionals for WebKit Browsers',\n",
              " 'How to check if an NSMutableArray contains an object which contains certain text?',\n",
              " 'RxJS: Share() an Observable & Emit Last Value to each new subscriber',\n",
              " 'how to load unstructured non-queryset data with django-tables2',\n",
              " 'How to search a video using youtube api',\n",
              " 'div width height according text?',\n",
              " 'Jenkins node connection troubles',\n",
              " 'unexpected behavior in core.logic conjo goal',\n",
              " 'Calling an extension method on a member variable of type T of class<T>',\n",
              " 'Clear CSS menu hover state on click (page loaded via ajax)',\n",
              " \"Field 'x' doesn't have a default value\",\n",
              " 'Compatibility issues in swing drawing app OSX/Windows',\n",
              " 'glMapBufferRange() is slow and memcpy() of the mapped data is also slow on Android',\n",
              " 'Finding a control in TemplatedWizardStep',\n",
              " 'WPF how to easily chain animations in code behind?',\n",
              " 'Connect to remote MongoDB instance from ASP.NET',\n",
              " 'What does --net=host option in Docker command really do?',\n",
              " 'Inject database context into classes using interface',\n",
              " 'dojo tree custom icons',\n",
              " 'Add a choicefield to search_fields in django admin',\n",
              " 'iOS app is rejected as \"Spam\"',\n",
              " 'getElementsByTagName results in NullPointerException',\n",
              " 'Combining Parsley.js validation with the malsup jQuery form plugin',\n",
              " 'Laravel 5.2 - Updated and Route group Middleware now is no longer called',\n",
              " 'C# Component collection property not serialized when filled from property setter',\n",
              " 'How to enable bokeh tools in a pyqt QWebview',\n",
              " 'How to pass JavaScript value from View to Controller?',\n",
              " 'BlueZ version in Android Honeycomb',\n",
              " \"How do I ensure nicely formatted HTML when I 'view source' on the browser?\",\n",
              " 'C# Socket BeginReceive / EndReceive capturing multiple messages',\n",
              " 'Retrieve info from MongoDB using C#',\n",
              " 'Invalid read/write of size when alloc',\n",
              " 'Why is assigning a value to the variable \"let\" possible?',\n",
              " 'Is there any way to force https for some pages in spring-security?',\n",
              " \"zClip don't work - multiple copy to clipboard JS\",\n",
              " 'ArangoDB - Executing AQL using java driver 4.0.0 using filter returns null',\n",
              " 'How to add an attribute to a field a many-to many-field selected entry of a model which is inline in django 1.2?',\n",
              " 'ASP.NET oData patchValue received from Angular is nothing',\n",
              " 'Hard Code List of Years?',\n",
              " 'Is it possible to access the state of a trigger in Angular2?',\n",
              " \"JsonConvert throws a 'not a valid integer' exception when deserializing to a double\",\n",
              " 'Use a Gnuplot variable instead of Bash Variable in a bash script + gnuplot script',\n",
              " 'How to make a query linq check date is in month, quarter or a year',\n",
              " 'Android app installation: Unknown failure (Failure - not installed for 0)',\n",
              " 'How to include the GroupBy() elements in Select() in Linq to Sql query',\n",
              " 'Does iPhone OS 3.0.1 ruin your development phone?',\n",
              " 'htaccess Rewrite URL Without .php Extension To File',\n",
              " 'NodeJs receive UDP numbers in ugly binary format',\n",
              " \"Failed to execute 'importStylesheet' on 'XSLTProcessor': parameter 1 is not of type 'Node'\",\n",
              " 'ClickOnce Error, Cannot activate a deployment with earlier version',\n",
              " 'Dynamically creating checkboxes',\n",
              " 'Is Selenium 2.0 waiting for element / page to load?',\n",
              " 'Developing Cordova plugins for Firefox OS',\n",
              " 'Implementing a \"Singleton\" like feature using internal',\n",
              " 'CSS Right Margin Does Not Work Inside a Div With Overflow Scroll',\n",
              " 'sql query to get distinct rows in let table in simple two tables',\n",
              " 'Connecting my Android phone to the DDMS SDK utility',\n",
              " 'Google Charts - switch between table and chart view',\n",
              " 'MVC Restful routing and returning Views',\n",
              " 'WPF UpdateSourceTrigger',\n",
              " 'How to launch a LWUIT form from a LCDUI form?',\n",
              " 'How do I remove from the beginning to the 2nd specific character of a string?',\n",
              " 'Create dynamic checkbox in UIWebView',\n",
              " 'Azure-cli installation failed',\n",
              " 'Uncaught SyntaxError: Unexpected token < VM105:17Uncaught ReferenceError: System is not defined',\n",
              " 'org.hibernate.StaleStateException: Batch update returned unexpected row count from update [0]; actual row count: 0; expected: 1',\n",
              " 'Show div based on selected checkboxes',\n",
              " 'Fullcalendar week view has unrecognized character',\n",
              " 'How to visualize embedded derby database?',\n",
              " 'Hyperlink URL causing resource not found error',\n",
              " 'List view item having multiple buttons',\n",
              " 'Android AWS S3 video upload occasionally does not work',\n",
              " 'Soft keyboard \"del\" key fails in EditText on Gallery widget',\n",
              " 'Compare two List<string> and print the duplicates',\n",
              " 'Need to pass string with newline character from Unix shell script to sql query',\n",
              " 'Correct way to initialize a NULL-terminated array of strings in C',\n",
              " 'How can i run this program in parallel',\n",
              " 'Exporting order details magento',\n",
              " \"Bokeh's equivalent to matplotlib subplots\",\n",
              " 'TypeScript type checking on type rather than instance',\n",
              " 'componentdef error with ant',\n",
              " 'How to setup Quartz.NET for scheduling Emails',\n",
              " 'HTML <tr> on double click show new messagebox containing table format',\n",
              " 'Getting the name or ID of the User Name TextBox from an ASP.Net Login Control',\n",
              " 'Context Free Grammar for which a RegEx is impossible',\n",
              " \"How to remove entire substring from '<' to '>' in Java\",\n",
              " \"Red5 demos don't work\",\n",
              " 'How to change the background color of a non selected cell in JavaFx 8 table view',\n",
              " \"Android Bitmap setPixel doens't work correctly? (set value, then read a different value)\",\n",
              " 'Attach Database using Management studio points to the wrong file path for the log file',\n",
              " 'Growing memory usage in MATLAB',\n",
              " 'I have issue about the design view of windows phone 8 in blend&visual 2012',\n",
              " 'get Phone Number from Facebook',\n",
              " 'Error in SendGrid on Heroku cedar stack',\n",
              " 'Mac OSX PHP and XAMPP path issue',\n",
              " 'Sharing data between Elastic Beanstalk web and worker tiers',\n",
              " 'Reroute query string using friendlyUrl',\n",
              " 'Simultaneous events',\n",
              " 'Inserting a checkbox via jQuery stops the form to submit on webkit',\n",
              " 'Memory versus Speed in Javascript Web Applications',\n",
              " 'Missing \"libiconv.h\" when crosscompiling for Windows with mingw on Ubuntu',\n",
              " 'How to setup a JMX Notification Listener?',\n",
              " 'IllegalStateException: Cannot convert value of type to required type',\n",
              " 'HTML5 video background in Android showing black',\n",
              " 'CORONA: timer.cancel() returns \"Attempt to index a nil value\"',\n",
              " 'D3js code when called twice duplicates the graph instead of refreshing',\n",
              " 'What is the shortest way of converting any JavaScript value to a string?',\n",
              " 'how should I use the velX,velY information to get the displacement in X and Y between current frame and previous frame?',\n",
              " 'How to detect headset button double click in HTC phones with broadcast receiver?',\n",
              " '(Java) Check array for increasing elements',\n",
              " 'Toast notifications only pop up if the app is being activated',\n",
              " 'Add totals from rows that are otherwise identical',\n",
              " 'Auto select item on JavaFX ComboBox after KeyPress',\n",
              " 'Why is Ebean not loading field project from ZenTasks example application?',\n",
              " 'Compile error on serializing boost::unordered_set',\n",
              " 'C++ A method that returns the decimal value as an integer of a binary that is represented with a boolean array',\n",
              " 'Using SetThreadAffinityMask function imported from kernel32.dll in C # code',\n",
              " 'Change tab names in app',\n",
              " 'apache rewrite: force https and name of server, not IP',\n",
              " 'Is it possible to generate a global list of marked strings at compile time/runtime?',\n",
              " 'PHP Content-Length header not working',\n",
              " 'How do I tell if the ObjectDataSource OnSelected event was called for the selectmethod or selectcountmethod?',\n",
              " 'set background image in Jlabel (Label) box with dynamic text',\n",
              " 'Errors with json_decode, array and foreach',\n",
              " \"Action Script 3. Timer starts count when I'm in menu, but game not started\",\n",
              " \"How to download a file with it's name using curl (C++ or D)\",\n",
              " 'query error on search result of a xml file',\n",
              " 'What do they mean when they say LINQ is composable?',\n",
              " 'How to render a Javascript and CSS for desktop devices only with client side solution?',\n",
              " 'SqlAlchemy Oracle DataTime format',\n",
              " 'Keyword sorting algorithm',\n",
              " 'Writing to textbox in another process in Win32 (c++)',\n",
              " 'How to access spring jpa references in json',\n",
              " 'passing variables to sed command',\n",
              " 'How to send a data from arduino uno to a webpage through esp8266 wifi module?',\n",
              " 'enums inside a struct - C vs C++',\n",
              " 'Binary Tree type constructor in Haskell',\n",
              " 'How to add an error to a constraint in form?',\n",
              " 'Java - Take text from file and assign matching parameter text to matching object',\n",
              " 'negative integer/float decimal number to signed hex and octal in standard C code',\n",
              " 'Programmatically append Swagger operations to generated JSON',\n",
              " 'HTTP Error 500.19 - Internal Server Error',\n",
              " 'Can we return any class object to Interceptor from action class',\n",
              " 'Cannot find existing package',\n",
              " 'Displaying an ArrayList with and without sorting?',\n",
              " 'Foreach group and subgroup dynamic loop',\n",
              " 'Display Images from internet in a windows phone 7 app?',\n",
              " 'Garbage collection with a very large dictionary',\n",
              " 'PHP - Simplest Way to Post & Display',\n",
              " 'NSCoding crash on encode only on 64bit devices',\n",
              " 'highchart mysql jason with dropdown select value for where condition',\n",
              " 'WPF Data binding C# in xaml',\n",
              " 'Making a content div fill the space between a variable height header and fixed height footer',\n",
              " 'What are some viable alternatives to BizTalk Server?',\n",
              " 'Bluebird Promise.any() early reject?',\n",
              " 'How to make non-blocking raw_input when using eventlet.monkey_patch() and why it block everything, even when executed on another thread?',\n",
              " 'How Can I Make These Links Rotate in PHP?',\n",
              " \"I18n and Passwords that aren't US-ASCII, Latin1, or Win1252\",\n",
              " 'How to add a peridic timer callback in a linux kernel module',\n",
              " \"Hide all div's except one\",\n",
              " 'How can I calculate pi using Bash command',\n",
              " 'Gson with dynamic objects',\n",
              " 'Convert iOS project to 64 bit using ConvertCocoa64 script',\n",
              " 'Material 2 - autocomplete not showing options',\n",
              " 'Laravel Valet not working. 127.0.0.1 Connection Refused',\n",
              " 'How to check column is virtual in Oracle?',\n",
              " 'Search functionality result should be in the same page in Rails',\n",
              " 'Importing values from one window to another in MATLAB GUI',\n",
              " 'how to read sql server mdf header for log file information programmatically in c#',\n",
              " 'Display progress while restoring database in linqpad with reative extensions',\n",
              " 'How to invoke a remote REST service in NiFi',\n",
              " 'Using Ajax to render partial view, taking an object as parameter',\n",
              " 'PHP fread() Function Returning Extra Characters at the Front on UTF-8 Text Files',\n",
              " 'How can I call a webservice from C# with HTTP POST',\n",
              " 'Why is there a visible gap between adjacent DIVs on iOS Safari?',\n",
              " 'Doxygen and Objective-C categories',\n",
              " 'How to send personal message to my Facebook friends in iOS SDK',\n",
              " 'Slicing NumPy array with dictionary',\n",
              " 'Should a class constructor return a subclass?',\n",
              " 'How can I programmatically set column filters?',\n",
              " 'Stackoverflow exception in JSON.net',\n",
              " 'Xcopy to multiple folder into subdirectory',\n",
              " 'Retrieving the length of a list in MongoDB',\n",
              " 'Android Database Access Design Approach',\n",
              " 'parse XML Subfolders in to iphone',\n",
              " 'Is 1 Session Token enough for multiple Ajax Request?',\n",
              " 'LNK2005: \" already defined error',\n",
              " 'Get element width in px',\n",
              " 'StreamWriter 64512 character limitation',\n",
              " 'Fixed Header & Footer not working in JqueryMobile',\n",
              " 'call a function when the program is finished with ctrl c',\n",
              " \"when implementing a binary search in Java, is using ArrayList.sublist considered 'in place'?\",\n",
              " 'Google+ Domains API 404 Not Found error',\n",
              " 'File name matching with -e and regular expressions in perl',\n",
              " 'Issue setting up Android SDK - Failed to Start Emulator',\n",
              " 'How to read Logback configuration file from path outside the war file?',\n",
              " 'Display multiple tables in datagrid',\n",
              " 'Mocha + React: navigator is not defined',\n",
              " 'matlab: eigs appears to give out inconsistent results',\n",
              " 'Passing lxml output to BeautifulSoup',\n",
              " 'Pass an array of objects with function to directives',\n",
              " 'Cocoapods Completely Broke',\n",
              " 'Reading/editing IndexedDB data for IE11',\n",
              " 'css ie6 sprities image not showing using inline-block',\n",
              " 'why is 5 the default number of connections in the rails database connection pool?',\n",
              " 'How can I make my elements fade in and out as their display attributes are changed in Javascript?',\n",
              " 'Jaggies text when fillText in canvas in chrome',\n",
              " 'Window_Load event in MVVM',\n",
              " 'Use calc() in transform:rotate()',\n",
              " 'Speed of many regular expressions in python',\n",
              " 'Notification placement on website with notify.js',\n",
              " 'image size limit on iPad?',\n",
              " 'How to remove whitespace in a list',\n",
              " 'Generate a dynamic ul li List from DB',\n",
              " 'Shopping cart program',\n",
              " 'Error Importing Jar to Android Project',\n",
              " 'Convert Varied Text Fields of Duration to Seconds in Pandas',\n",
              " 'How to POST empty <select .. multiple> HTML elements if empty?',\n",
              " 'How does Erlang heart work?',\n",
              " 'Fix spurious rspec \"photo can\\'t be blank\" failures for Carrierwave',\n",
              " 'how have different background images for different times in the day',\n",
              " 'Creating a loading Arc in C# (WPF)',\n",
              " 'some clang-generated assembly not working in real mode (.COM, tiny memory model)',\n",
              " 'Handle tunneled custom routed event',\n",
              " 'Android app Listview cannot be scrolled to bottom to search a specific element using appium in java',\n",
              " 'How to use boto.manage.cmdshell with ssh-agent?',\n",
              " 'How to create URL Link outside UI Project?',\n",
              " 'Proximity searching phrases with root expanders in Solr or ElasticSearch (especially websolr or bonsai.io)?',\n",
              " 'What is localStorage?',\n",
              " 'The easiest way to replace white spaces with (underscores) _ in bash',\n",
              " 'Not Able To Add A New User To An Existing Account Using Management API',\n",
              " 'In Emacs, how do I display a message in the minibuffer with font face properties?',\n",
              " 'codeigniter validation should work only when array of email id is not empty',\n",
              " 'Why does Phalcon 2 raise \"undefined symbol: php_pdo_get_dbh_ce in Unknown on line 0\" warning?',\n",
              " \"How to solve undefined method `to_key' for #<Book::ActiveRecord_Relation:0x007fb709a6a8c0>?\",\n",
              " \"TypeScript 0.9.* VisualStudio TS5037: Cannot compile external modules unless the '--module' flag is provided\",\n",
              " 'Cannot get my bootstrap rows on the same line',\n",
              " 'RInside on Mac OS X',\n",
              " 'Communication between two modules in AngularJs',\n",
              " 'iframe scrolling on the iphone',\n",
              " 'TURN Server use https connection for the admin session',\n",
              " 'IOUtils.copy fails 2nd time',\n",
              " 'print copyright symbol in TextView',\n",
              " \"How does codeigniter's load work?\",\n",
              " 'How to create Windows Phone 7 SMS textbox',\n",
              " 'Mock GPS location and Chrome for Android',\n",
              " 'What was Tim Sweeney thinking? (How does this C++ parser work?)',\n",
              " 'Init a class with one argument using objc_msgSend',\n",
              " 'SQL Server Management Studio Schema View',\n",
              " 'C++11 for windows XP SP1',\n",
              " 'Invalid Cast DateTime?',\n",
              " 'How to implement clock frequency multiplier using VHDL',\n",
              " 'Send an email from an iPhone app containing an img tag',\n",
              " 'Regex which ignores comments',\n",
              " 'How to implement AVAudioPlayer Inside Singleton Method?',\n",
              " 'How do I get rid of the gap left by an relative positioned div in Firefox?',\n",
              " 'What is a good method of persisting application properties?',\n",
              " 'Simple way to hook registry access for specific process',\n",
              " 'ember.js show default nested route if none provided',\n",
              " 'Using transform() and calc() in firefox',\n",
              " 'twisted passing certificate to ssl handler',\n",
              " 'Processing items in SQS queue with a php script',\n",
              " 'Dirty Reads in SQL Server AlwaysOn',\n",
              " 'Looping through generic object properties',\n",
              " 'Why is Cocoapods complaining about the embedded content contains swift setting in the build settings?',\n",
              " 'Using PHP & cron how can i inform  a user that he has got 15 days more left to pay his amount?',\n",
              " 'MVC 5: Should I inherit my User from IdentityUser class?',\n",
              " 'Preserve the tab spacing and white spaces in attributes of XML',\n",
              " 'Is it possible to refresh a timer in a Today Widget?',\n",
              " 'Jenkins copy files between 2 Server',\n",
              " 'app is crashing when i try to release nsmutablestring please help on this',\n",
              " 'Custom UIView iboutlet not set',\n",
              " 'How can I achieve float left at bottom and float right at top with css flexbox?',\n",
              " 'shell_exec() returning null on \"ls\"',\n",
              " 'How to do an XOR of the binary forms of all integer items in a list',\n",
              " 'Passing Form OpenArgs errors as NULL?',\n",
              " 'Getting quoted string using ContentValues for insertOrThrow',\n",
              " \"is there an 'afterShow' on jQuery UI datepicker?\",\n",
              " 'cell computation for tablesorter',\n",
              " 'accumulation curve in R',\n",
              " 'php script running on apache',\n",
              " 'NSString to NSData Failing in Encoding',\n",
              " 'How to match a crash\\'s \"Fault offset\" to the source code?',\n",
              " 'How to get the total number of subscribers from start date to current date?',\n",
              " 'sbt unresolved dependency for spark-cassandra-connector 2.0.2',\n",
              " 'how to remove the save button in odoo 10?',\n",
              " 'Explicit instantiation of a templated class and dynamic_cast in a shared library',\n",
              " 'Restrict keypress in wpf textbox',\n",
              " 'Rails - how to send some information from one form to other controller',\n",
              " 'Using Filemerge how to you get to see the lower pane. The one with the results in?',\n",
              " 'web.go install error',\n",
              " 'How to update the different XML element simultaneously by multiple users in single XML file?',\n",
              " 'Bootstrap Carousel does not work',\n",
              " 'Formatting textfield based on currency style',\n",
              " 'TCL : what is the major drawbacks of source command over package command',\n",
              " 'How to Declare Complex Nested C# Type for Web Service',\n",
              " 'JmsTemplate - define concurrency per queue?',\n",
              " 'Debug+Unplug vs RUN Android',\n",
              " 'Get configured wifis with ADB',\n",
              " 'Errno::EPERM (Operation not permitted FILE_PATH) when uploading image with Rails, Carrierwave, Amazon EC2',\n",
              " 'how to change xcode app icon?',\n",
              " 'adding multiple columns to a data.table, where column names are held in a vector',\n",
              " 'Find the date difference in ElasticSearch',\n",
              " 'Yii2 has many or where',\n",
              " 'Compare array values with others values from the same array',\n",
              " \"Create appointment via Exchange Web Services, set extended property only on organizer's instance\",\n",
              " 'Bokeh - how to update ColumnDataSource to plot streaming line graph using periodic callback',\n",
              " 'how to get selected rows in QTableView',\n",
              " 'Delphi-XE4 understanding threads count',\n",
              " 'Visual Studio Report Designer: Embed font',\n",
              " 'Facebook like button statistics',\n",
              " 'SQL - One record per date',\n",
              " 'Passing Parameters between xaml window and usercontrol WPF',\n",
              " \"Password field <p:password> Value Won't Re-Appear In Form After Saved And Selecting That Row From Data Table\",\n",
              " 'Extjs:Assign value to hiiden field from store',\n",
              " 'Workaround for external API which does not have CORS enabled?',\n",
              " 'How to edit epub file content with PHP',\n",
              " 'How do you handle an aggregate root with a collection of child entities whose update frequency is different than the root?',\n",
              " 'Change Select value using GWT Uniform.js',\n",
              " 'Redirect to action passes null instead of object',\n",
              " 'Convert Begin and End Coordinates into Spatial Lines in R',\n",
              " 'Using the Windows.Media.Speechrecognition namespace in a Qt C++ application',\n",
              " 'Table View Cells \"jump\" when going back from View Controller to Table View Controller',\n",
              " 'Positioning Toolbars in Eclipse/RCP',\n",
              " 'Redirect simple url to https in php codeigniter',\n",
              " 'Chrome Extension with Database API interface',\n",
              " 'Testing a web based application on Iphone',\n",
              " 'RSA encryption AND decryption with JS AND PHP',\n",
              " 'Sort Options in a Select List with javascript/jQuery.. but not alphabetically',\n",
              " 'Output tabular data with IO.ANSI',\n",
              " 'Binding Attached Behaviour from code',\n",
              " 'Set zebra list after javascript filtering',\n",
              " 'Externalizing JPA Mappings Configuration',\n",
              " 'MemoryStream Seek, Needed After Instance Creation With Buffer?',\n",
              " 'Building QGIS source code on Windows 7 - Not working',\n",
              " 'How to add/remove many-to-many relation with entity framework by entity key?',\n",
              " 'Choosing cloud storage service with web API can FTP third party server',\n",
              " 'How to pass text with new line as parameter to a bat file?',\n",
              " 'How can I populate an associative array with a variable name in bash?',\n",
              " 'Using map in Python',\n",
              " 'unable to apply three.js texture to JSON model imported from blender',\n",
              " 'XPS Viewer will not open document created using .NET printer Graphics object?',\n",
              " 'Comparing value to that of previous row depending on different field',\n",
              " 'Anomaly in GNU Prolog `delete/3` predicate?',\n",
              " 'Zend Php ORA-02391',\n",
              " 'Stream a PDF to a web page failing',\n",
              " 'Counting the frequencies of bases using for loop and substr in perl',\n",
              " 'Angular slotted transclusion with attributes',\n",
              " 'Kerberos/SPNEGO : multiple SPNs for the same AD account',\n",
              " 'React es7 static childContextTypes unexpected token',\n",
              " 'Simultaneous HttpClient request using multiple AsyncTasks',\n",
              " 'PHP extension install - phpize error - on NGINX/PHP-FPM',\n",
              " 'Redirect only WordPress homepage with a 301 redirect',\n",
              " 'Convert unicode to string',\n",
              " 'Disabling specific cell edit in DataGrid',\n",
              " 'Python and Regular Expression Substring',\n",
              " 'Workflow for Using Django South with Multiple Code Branches',\n",
              " 'How to dynamically generate CSS file from database in ASP.NET MVC',\n",
              " 'CLLocationCoordinate2D without knowing how many will be in the array?',\n",
              " 'Castle Windsor: How to register by convention with delegate method?',\n",
              " 'How to apply segment using Google Analytics .NET client',\n",
              " 'Is there a way to redirect the browser from the bootstrap in Zend Framework?',\n",
              " \"GWT RPC can't instatiate class on server side\",\n",
              " 'Load website in iframe dialog, jquery',\n",
              " 'How to execute code when textField content changes?',\n",
              " 'Recursion in C confusion',\n",
              " 'Find Leaflet map object after initialisation',\n",
              " 'WM_GETREDRAW available?',\n",
              " 'Javascript: Round Time UP nearest 5 minutes',\n",
              " 'Fatal Error Msg',\n",
              " 'New line character in VB.Net?',\n",
              " 'Finding all indices for certain input',\n",
              " 'Call function on jQuery show()',\n",
              " 'Hex sum algorithm',\n",
              " 'Run PHP using AJAX in Laravel',\n",
              " 'Eclipse hangs when trying to debug clojure project',\n",
              " 'MVC2 how is <%: tag different to <%=',\n",
              " 'What is the default PHP configuration?',\n",
              " 'How to copy entire directory structure?',\n",
              " 'Laravel Error on Repopulating: htmlentities() expects parameter 1 to be string, array given in',\n",
              " \"Threaded Beans doesn't get Environment @Autowired to them in Spring when using JSR330 Provider\",\n",
              " 'Sorting and Limiting data in MySQL',\n",
              " \"Same versions of Office.js hosted on 'beta' and '/1/'?\",\n",
              " 'SAX2 (Xerces-C): How to get the line number of parsed tags?',\n",
              " 'LVM_GETITEMPOSITION',\n",
              " 'regex match string replace in new string (notepad )',\n",
              " 'Android ImageView drag and drop positioning',\n",
              " 'Where I can find a place id on google maps',\n",
              " 'categories is undefined - rails',\n",
              " 'backbone: better way to template?',\n",
              " \"Where's my stderr going?\",\n",
              " 'Java Spring - Redirect page to \"outage\" based on db cell value.',\n",
              " 'Is there a way to open the Duplicate Detection window in CRM using javascript and without saving the record?',\n",
              " 'Energy efficiency on CPU utilization',\n",
              " 'Using same hibernate mapping files across multiple projects',\n",
              " 'Linq to XML query not picking up any values',\n",
              " 'pyqt: controlling a border widget',\n",
              " 'I am searching for the PowerBuider Foundation Classes User Guide. Preferably PDF to download',\n",
              " 'CodeIgniter - get error messages',\n",
              " 'How to read logback configuration file from system environment in tomcat 7',\n",
              " \"jQuery Ajax file upload : Required MultipartFile parameter 'file' is not present\",\n",
              " 'read xml from jsp',\n",
              " 'Adding objects to an array and then showing in a table',\n",
              " 'How do you write an exception without revealing sensitive information?',\n",
              " 'Wordcount example using Apache pig',\n",
              " 'How to know the which activity is ruuning in windows phone 7?',\n",
              " 'how to get log messages from ios app',\n",
              " 'Formula to divide data from one cell equally into multiple cells',\n",
              " 'Multiply two int arrays',\n",
              " 'Connection string error using membership provider from WCF service',\n",
              " 'Java : How to access UNC location',\n",
              " 'Permission denied to access property \"invoke\"',\n",
              " 'MvvmCross services from another assembly, not MyApp.Core',\n",
              " 'Why we should always return values from a function?',\n",
              " 'Updating iTunesArtwork and screenshots for published app',\n",
              " 'How to pass a Javascript variable to Twig in this particular example',\n",
              " 'Zebra-striping nested lists with CSS',\n",
              " 'AngularJS - Create a login page with a totally different layout',\n",
              " 'How to drop rows by name pattern in R?',\n",
              " 'Summarizing rows in a Pandas DataFrame',\n",
              " 'Equivalent of Hibernate SEQUENCE in Sybase ASE 15.5',\n",
              " 'recreating iOS SMS/Facebook Messenger text bubble tail',\n",
              " 'Border Image Confusion',\n",
              " 'How to build a numpy array row by row in a for loop?',\n",
              " 'WPF validation not working as expected',\n",
              " 'Change Tab view after certain time interval received as response from Server request',\n",
              " \"Can all 'for' loops be replaced with a LINQ statement?\",\n",
              " 'Seconds into time elapsed in JS',\n",
              " \"can't override class file in module in prestashop\",\n",
              " 'MOMC error in xCode 6.2 beta',\n",
              " 'Using a fragment as a ListView header in only one orientation',\n",
              " 'How to use unapi for biliographic in drupal',\n",
              " 'WinForms Data Binding Entity Framework 6',\n",
              " 'String masking: Confoming text to a given mask',\n",
              " \"Removing rows which contain all 0's in r\",\n",
              " 'how to add 2 background images on the sides of the page',\n",
              " 'Beginning and end of the string in Emacs regexps',\n",
              " 'multiple gremlin commands combined as one',\n",
              " 'SQL join, sum, group-by and instead of null 0',\n",
              " 'How to check cursor is on newline or not in ckeditor 4.x',\n",
              " 'Filter array result with mechanize',\n",
              " 'How to remove � character while parsing xml file in android',\n",
              " 'LINQ to Json data retrieval from polymorphic json',\n",
              " 'Running native code on Azure',\n",
              " 'Bootstrap3 Navbar fill content',\n",
              " 'Does SQL Server Compact (CE) support a RequiresNew transaction scope inside another one?',\n",
              " 'How to redirect a URL containing smartquotes via .htaccess?',\n",
              " 'Accordion open when page loads',\n",
              " 'Zurb foundation more than one joyride',\n",
              " 'Is there something like $this->db->matched_rows() in CodeIgniter?',\n",
              " 'C# LinqToSql SubmitChanges() does not update, even though PK is set',\n",
              " 'How to completely remove vitualenv?',\n",
              " 'Java rotate an image in the center',\n",
              " 'why do `#!/usr/bin/env var=val command` gets into an infinite loop',\n",
              " 'OpenTBS - Strategy for dynamic number of row, column generation in excel template (used for chart data)',\n",
              " 'Error installing Frama-C with opam (Ubuntu 14.04 LTS)',\n",
              " 'How to configure jacoco for integration tests written in jersey test framework',\n",
              " 'Video chat application : Which technology to choose?',\n",
              " 'A strange error in java generic',\n",
              " 'Pandas Split Column',\n",
              " 'How to add dynamically created tables to SQLFORM in web2py',\n",
              " 'A separate thread freezes while sending HTTP sequests',\n",
              " 'converting javascript array to a dropdown - jquery',\n",
              " 'Spring jpa modifies column names',\n",
              " 'Country, state list for SQL Server',\n",
              " 'server side control in MVC',\n",
              " 'java not saving ints correctly',\n",
              " 'Size of menu dependent on screen resolution',\n",
              " 'Add PHP API documentation to vims balloonexpr',\n",
              " 'How best to access current_user devise helper in backbone',\n",
              " 'how do I generate histogram output from an array in Java?',\n",
              " 'Modify dynamically a rdlc report (c#)',\n",
              " 'Delphi XE4 64bit _TExitDllException',\n",
              " 'java.lang.IllegalArgumentException: Failed to find configured root that contains /storage/emulated/0/Pictures/',\n",
              " 'how to use CSPARQL-ReadyToGoPack-0.9 in a SBT project',\n",
              " 'ClassNotFound exception during deploy',\n",
              " 'Dictionary Help! Extracting values and making a table',\n",
              " 'Permission to provision new site collection through workflow',\n",
              " 'How to Retrive Apple App Store Rating Details',\n",
              " 'converting UTF-8 string to ASCII in pure LUA',\n",
              " 'Retrieve rails/devise current_user from Backbone',\n",
              " 'How to create dynamic dependent list in Excel VBA?',\n",
              " 'Mysqli query return empty results',\n",
              " 'Finding the shortest path between 2 points namely S and G?',\n",
              " 'Input to print output',\n",
              " 'NHibernate - Paging with ICriteria and optional ICriteria calls',\n",
              " 'Oracle adding trailing whitespace to my to_char(date)',\n",
              " 'variable passing -v in awk not working',\n",
              " 'Routes in DART, s server required?',\n",
              " 'Why does the Server need access to Kerberos?',\n",
              " 'JQuery > ScrollTo > highlighting the item that was scrolled to',\n",
              " 'How to get the package name from JNI to Android?',\n",
              " 'How to use or condition in serverspec?',\n",
              " '7-Segment display control using Microprocessor',\n",
              " 'Newly installed IIS. Aspx page not getting displayed',\n",
              " 'Finding string length without using strlen and using function in C',\n",
              " 'force LinqToSql to submit',\n",
              " 'makedepend missing?',\n",
              " 'Array implementation on FPGA using VHDL',\n",
              " 'Would you implement a lightweight XML parser with <regex>?',\n",
              " 'Differentiating division from regex when lexing gawk code',\n",
              " 'Mssql query exec returns error',\n",
              " 'C# ASP.NET SQL Data Source',\n",
              " 'Webpage Fitting To Every Screen Reslution',\n",
              " 'Find the path of a local file or directory in javascript',\n",
              " 'What is the recommended way to append to files on HDFS?',\n",
              " 'UML modelling tool for php',\n",
              " 'Jacoco.exec file not being picked up by Sonar in Jenkins',\n",
              " 'WPF : Is it impossible to UI load in background thread?',\n",
              " \"CodeIgniter doesn't see images (using file_exists)\",\n",
              " 'SQL Server real/float precision changing during SSIS import to MS-Access database',\n",
              " 'How can I easily maintain a cross-file JavaScript Library Development Environment',\n",
              " 'Passing arguments to execfile in python 2.7',\n",
              " 'Runtime error of Console()',\n",
              " 'Is android.view.View touched now?',\n",
              " 'Play MP3/WAV files without using libraries?',\n",
              " '@ManyToMany relation not save',\n",
              " 'How to have margin on extended page tablix with SSRS',\n",
              " 'Can we export multiple non-AMD functions from a module in requirejs?',\n",
              " 'Distribution of decreasing quantity over X number of days',\n",
              " 'Assistance with Nested Dictionary',\n",
              " '-[UIScrollView zoomToRect:animated:] weird behavior when contentSize < bounds.size',\n",
              " 'Appointment.Bind() and Mailbox',\n",
              " 'I want to pull out the number of special characters and the number of vowels in each sentence using a matlab command',\n",
              " 'Setting background color of android actionbar',\n",
              " 'Add an arrow under the active menu item in HTML+CSS',\n",
              " 'Delphi - XE2 code to Delphi7 needed. Using wininet to download a file',\n",
              " 'Carriage Return showing in notepad++ but not textpad?',\n",
              " 'Django SSL for some pages only',\n",
              " \"D3 - Uncaught TypeError: Cannot read property 'length' of undefined\",\n",
              " 'How to check for network reachability on iOS in a non-blocking manner?',\n",
              " 'How do you best convert a recursive function to an iterative one?',\n",
              " 'JQuery use .on() with not selector',\n",
              " 'How to run an application in background for windows mobile 6?',\n",
              " 'Swing GUI Development with Spring',\n",
              " 'Access Get parameter with a scriptlet',\n",
              " 'Exporting HBase table to mysql',\n",
              " 'R extension breaks connection to extensions directory in NetLogo',\n",
              " 'Google App Engine Deployment Failed, \"empty index configuration\"',\n",
              " 'CRON - chown and chgrp to a directory from root user to www-data',\n",
              " 'EaselJS object inspector',\n",
              " 'Applying jQuery Resizable on a dynamically generated html data table',\n",
              " 'Running magento on other port than default 80',\n",
              " 'Liferay: what is the default approach for logging in Liferay?',\n",
              " \"UICollectionVIew : How can i remove the space on top first cell's row\",\n",
              " 'Sort a Delphi dataset',\n",
              " 'Polygon object support in Backand with an external MySQL',\n",
              " 'Multiple JavaFX stages in fullscreen mode',\n",
              " 'matching form input to mysql database value',\n",
              " 'Firemonkey IFMXLoggingService Windows Event Log Location',\n",
              " 'tpl dataflow: fixed buffer size without throwing items away',\n",
              " 'bash- Redirection inside quotes after ssh',\n",
              " 'Fetch 5 Columns and their value from Mysql query and translate into PHP',\n",
              " 'IndexedDB - Dexie JS : Dynamically create stores',\n",
              " 'How to use PackageManager to check if an app is disabled in a method',\n",
              " 'How to show notification on top of screen?',\n",
              " 'Sqlalchemy: Undefined variable from import: metadata',\n",
              " 'ansible: use different logging level for terminal and log file',\n",
              " \"How do I refresh page automatically when partial refresh doesn't work?\",\n",
              " \"TFS - What security would allow me to 'Add files' in one project and not the other?\",\n",
              " 'PHP rest API authentication',\n",
              " 'Displaying or editing data readed from floppy',\n",
              " 'What does the slash denote in postgresql virtual transaction identifiers?',\n",
              " 'Is it possible to create a bubble polar chart with Highcharts?',\n",
              " 'Mako Filter in Chameleon?',\n",
              " 'how to do select all when selected a checkbox',\n",
              " 'ExtJS floating window focus lose detection',\n",
              " 'How to hide the paging row in the gridview when exporting in excel?',\n",
              " 'Error \"No recognizer is installed\" with recognition speech',\n",
              " 'embed json file within d3.js',\n",
              " 'is there any way to create a menu bar using glut?',\n",
              " 'How does waze change objects location with their localization?',\n",
              " 'how to call cross-domain web api using ajax?',\n",
              " 'Printing Entire Contents of WebView in Cocoa, Not Just Displayed',\n",
              " 'JSON arrays with duplicate items with Hamcrest and RestAssured',\n",
              " 'How can I return an array of Promises from a then clause',\n",
              " \"Can't get run my application after installation?\",\n",
              " 'How do websites like torrentz.eu collect their content?',\n",
              " 'how to include google-map in polymer#^2.0 as it was working in polymer 1.7',\n",
              " 'How to change the reference point of an html element?',\n",
              " 'Core data executeFetchRequest consumes huge amounts of memory',\n",
              " 'Daylight Saving Cause an issue on jQuery UI datepicker on Firefox',\n",
              " \"Why can't this macro execute?\",\n",
              " 'How to get linkedin profile follower count',\n",
              " 'How to call protected constructor in c#?',\n",
              " 'Excel VBA / SQL Union',\n",
              " 'Go, Golang : array type inside struct, missing type composite literal',\n",
              " 'Unable to install bower on Openshift',\n",
              " 'Combining jQuery .val() and .contains()',\n",
              " 'CNG, CryptoServiceProvider and Managed implementations of HashAlgorithm',\n",
              " 'NSString writeToFile with URL encoded string',\n",
              " 'Django: Access pre-save object with post-save signal?',\n",
              " 'Custom Merge Function in R',\n",
              " 'Assignment makes pointer without a cast',\n",
              " 'Weird Behaviors of time in Rails application',\n",
              " 'Python-mock: how to test if super() was called',\n",
              " 'setGraphic() not working correctly on recursively created TreeItems',\n",
              " 'Strange behaviour of sscanf with string',\n",
              " 'HTTP method for a WCF Restful Service',\n",
              " 'SubSonic .Filter() in memory filter',\n",
              " 'Does ASP.NET MVC use the regular toolbox controls?',\n",
              " 'How can I render a GSP as a String?',\n",
              " 'publishing ASP.Net MVC 4 Project',\n",
              " 'how to hyperlink to a TFS item from visual studio',\n",
              " 'mutex attribute PTHREAD_PROCESS_SHARED inverts logic?',\n",
              " ...]"
            ]
          },
          "metadata": {},
          "execution_count": 39
        }
      ]
    },
    {
      "cell_type": "markdown",
      "metadata": {
        "id": "bTHfL-9y6j3F"
      },
      "source": [
        "Кол-во строк"
      ]
    },
    {
      "cell_type": "code",
      "metadata": {
        "scrolled": false,
        "id": "z6ubXhIe6j3H",
        "colab": {
          "base_uri": "https://localhost:8080/"
        },
        "outputId": "329448e5-39e9-4acd-f5f0-13205648f14c"
      },
      "source": [
        "len(validation_data)"
      ],
      "execution_count": null,
      "outputs": [
        {
          "output_type": "execute_result",
          "data": {
            "text/plain": [
              "3760"
            ]
          },
          "metadata": {},
          "execution_count": 40
        }
      ]
    },
    {
      "cell_type": "markdown",
      "metadata": {
        "id": "kaOQblBy6j3M"
      },
      "source": [
        "Размер нескольких первых строк"
      ]
    },
    {
      "cell_type": "code",
      "metadata": {
        "id": "yRx6e-Pe6j3M",
        "colab": {
          "base_uri": "https://localhost:8080/"
        },
        "outputId": "9c370c65-55b8-4ddc-f0eb-f0a6546fd5d5"
      },
      "source": [
        "for i in range(25):\n",
        "    print(i + 1, len(validation_data[i]))"
      ],
      "execution_count": null,
      "outputs": [
        {
          "output_type": "stream",
          "name": "stdout",
          "text": [
            "1 1001\n",
            "2 1001\n",
            "3 1001\n",
            "4 1001\n",
            "5 1001\n",
            "6 1001\n",
            "7 1001\n",
            "8 1001\n",
            "9 1001\n",
            "10 1001\n",
            "11 1001\n",
            "12 1001\n",
            "13 1001\n",
            "14 1001\n",
            "15 1001\n",
            "16 1001\n",
            "17 1001\n",
            "18 1001\n",
            "19 1001\n",
            "20 1001\n",
            "21 1001\n",
            "22 1001\n",
            "23 1001\n",
            "24 1001\n",
            "25 1001\n"
          ]
        }
      ]
    },
    {
      "cell_type": "markdown",
      "metadata": {
        "id": "ySQQp0oQt1Ep"
      },
      "source": [
        "### Ранжирование без обучения"
      ]
    },
    {
      "cell_type": "markdown",
      "metadata": {
        "id": "iElEDhj-6j3R"
      },
      "source": [
        "Реализуйте функцию ранжирования кандидатов на основе косинусного расстояния. Функция должна по списку кандидатов вернуть отсортированный список пар (позиция в исходном списке кандидатов, кандидат). При этом позиция кандидата в полученном списке является его рейтингом (первый - лучший). Например, если исходный список кандидатов был [a, b, c], и самый похожий на исходный вопрос среди них - c, затем a, и в конце b, то функция должна вернуть список **[(2, c), (0, a), (1, b)]**."
      ]
    },
    {
      "cell_type": "code",
      "metadata": {
        "id": "K02JARKr6j3T"
      },
      "source": [
        "from sklearn.metrics.pairwise import cosine_similarity\n",
        "from copy import deepcopy"
      ],
      "execution_count": null,
      "outputs": []
    },
    {
      "cell_type": "code",
      "metadata": {
        "id": "1yP8wJWj6j3X"
      },
      "source": [
        "def rank_candidates(question, candidates, embeddings, tokenizer, dim=200):\n",
        "    \"\"\"\n",
        "        question: строка\n",
        "        candidates: массив строк(кандидатов) [a, b, c]\n",
        "        result: пары (начальная позиция, кандидат) [(2, c), (0, a), (1, b)]\n",
        "    \"\"\"\n",
        "    question_v = question_to_vec(question, embeddings, tokenizer, dim)\n",
        "    result=[]\n",
        "    for i, j in enumerate(candidates):\n",
        "      # i - его позиция в начальном списке (без сортировки), j - сам вопрос\n",
        "      candidate_v=question_to_vec(j, embeddings, tokenizer, dim) # преобразуем кандидата в вектор\n",
        "      distances=cosine_similarity([question_v], [candidate_v])    # посчитаем косинусное расстояние\n",
        "      result.append((distances,i,j))    # прибавим его в наш список в виде (расстояние, исходный порядковый номер, сам кандидат )\n",
        "    result.sort(reverse=True, key=lambda x: x[0])  # отсортируем в порядке убывания\n",
        "\n",
        "    return [(idx, candidat) for raatoyanie,idx, candidat in result]\n",
        "\n",
        "\n"
      ],
      "execution_count": null,
      "outputs": []
    },
    {
      "cell_type": "markdown",
      "metadata": {
        "id": "TnBszTb76j3c"
      },
      "source": [
        "Протестируйте работу функции на примерах ниже. Пусть $N=2$, то есть два эксперимента"
      ]
    },
    {
      "cell_type": "code",
      "metadata": {
        "id": "xvQgtP176j3h"
      },
      "source": [
        "questions = ['converting string to list', 'Sending array via Ajax fails']\n",
        "\n",
        "candidates = [['Convert Google results object (pure js) to Python object', # первый эксперимент\n",
        "               'C# create cookie from string and send it',\n",
        "               'How to use jQuery AJAX for an outside domain?'],\n",
        "\n",
        "              ['Getting all list items of an unordered list in PHP',      # второй эксперимент\n",
        "               'WPF- How to update the changes in list item of a list',\n",
        "               'select2 not displaying search results']]"
      ],
      "execution_count": null,
      "outputs": []
    },
    {
      "cell_type": "code",
      "source": [
        "print(list(enumerate(candidates)))"
      ],
      "metadata": {
        "colab": {
          "base_uri": "https://localhost:8080/"
        },
        "id": "Pkl5bGyHqoWQ",
        "outputId": "af1d08bd-ed62-42da-adb0-d215bc1a6112"
      },
      "execution_count": null,
      "outputs": [
        {
          "output_type": "stream",
          "name": "stdout",
          "text": [
            "[(0, ['Convert Google results object (pure js) to Python object', 'C# create cookie from string and send it', 'How to use jQuery AJAX for an outside domain?']), (1, ['Getting all list items of an unordered list in PHP', 'WPF- How to update the changes in list item of a list', 'select2 not displaying search results'])]\n"
          ]
        }
      ]
    },
    {
      "cell_type": "code",
      "metadata": {
        "id": "bPj1JGFi6j3m",
        "colab": {
          "base_uri": "https://localhost:8080/"
        },
        "outputId": "22d5873a-f7b5-4989-b90a-69ef2853d0b6"
      },
      "source": [
        "for question, q_candidates in zip(questions, candidates):\n",
        "        ranks = rank_candidates(question, q_candidates, wv_embeddings, tokenizer)\n",
        "        print(ranks)\n",
        "        print()"
      ],
      "execution_count": null,
      "outputs": [
        {
          "output_type": "stream",
          "name": "stdout",
          "text": [
            "[(1, 'C# create cookie from string and send it'), (0, 'Convert Google results object (pure js) to Python object'), (2, 'How to use jQuery AJAX for an outside domain?')]\n",
            "\n",
            "[(0, 'Getting all list items of an unordered list in PHP'), (2, 'select2 not displaying search results'), (1, 'WPF- How to update the changes in list item of a list')]\n",
            "\n"
          ]
        }
      ]
    },
    {
      "cell_type": "markdown",
      "metadata": {
        "id": "jm4cidj56j3q"
      },
      "source": [
        "Для первого экперимента вы можете полностью сравнить ваши ответы и правильные ответы. Но для второго эксперимента два ответа на кандидаты будут <b>скрыты</b>(*)"
      ]
    },
    {
      "cell_type": "code",
      "metadata": {
        "id": "0LeKMIsn6j3s",
        "collapsed": true
      },
      "source": [
        "# должно вывести\n",
        "results = [[(1, 'C# create cookie from string and send it'),\n",
        "            (0, 'Convert Google results object (pure js) to Python object'),\n",
        "            (2, 'How to use jQuery AJAX for an outside domain?')],\n",
        "           [(*, 'Getting all list items of an unordered list in PHP'), #скрыт\n",
        "            (*, 'select2 not displaying search results'), #скрыт\n",
        "            (*, 'WPF- How to update the changes in list item of a list')]] #скрыт"
      ],
      "execution_count": null,
      "outputs": []
    },
    {
      "cell_type": "markdown",
      "metadata": {
        "id": "t1ttnIBe6j3x"
      },
      "source": [
        "Последовательность начальных индексов вы должны получить `для эксперимента 1`  1, 0, 2."
      ]
    },
    {
      "cell_type": "markdown",
      "metadata": {
        "id": "5WQgYDWd6j3y"
      },
      "source": [
        "#### ***Вопрос 5:***\n",
        "* Какую последовательность начальных индексов вы получили `для эксперимента 2`(перечисление без запятой и пробелов, например, `102` для первого эксперимента?\n"
      ]
    },
    {
      "cell_type": "markdown",
      "source": [
        "102 - для первого\n",
        "021 - для второго"
      ],
      "metadata": {
        "id": "nfGbz5TSulnS"
      }
    },
    {
      "cell_type": "markdown",
      "metadata": {
        "id": "fPllOY-Y6j30"
      },
      "source": [
        "Теперь мы можем оценить качество нашего метода. Запустите следующие два блока кода для получения результата. Обратите внимание, что вычисление расстояния между векторами занимает некоторое время (примерно 10 минут). Можете взять для validation 1000 примеров."
      ]
    },
    {
      "cell_type": "code",
      "metadata": {
        "id": "Z3q9sxddz-yU"
      },
      "source": [
        "from tqdm.notebook import tqdm"
      ],
      "execution_count": null,
      "outputs": []
    },
    {
      "cell_type": "code",
      "metadata": {
        "id": "nu7K4mis6j32",
        "colab": {
          "base_uri": "https://localhost:8080/",
          "height": 49,
          "referenced_widgets": [
            "59d5bd12f473482eac42797ed94ffb0e",
            "400fba93f26844a98234e446ca4be18a",
            "2291650bc7724141bd5edfe189f4621d",
            "9336de67659e466387c9b8ffef84145e",
            "caa35235e7564503920f10019f269752",
            "060d6378fe46410fbeac8cf2e7c9145c",
            "f9d95a2d38f642e1a2c545993d68fdd7",
            "8c139cb08ee44db0a36aff2821628306",
            "d5639cf0ab95438f830705786e45718c",
            "a2b7d5bee22448e5ba664153ba649a61",
            "cad6d6cc70894f0ba8f155aec907bf08"
          ]
        },
        "outputId": "9882b5e0-e5d7-4a87-d924-aed32faaf8f9"
      },
      "source": [
        "wv_ranking = []\n",
        "max_validation_examples = 100\n",
        "for i, line in enumerate(tqdm(validation_data)):\n",
        "    if i == max_validation_examples:\n",
        "        break\n",
        "    q, *ex = line\n",
        "    ranks = rank_candidates(q, ex, wv_embeddings, tokenizer)\n",
        "    wv_ranking.append([r[0] for r in ranks].index(0) + 1)"
      ],
      "execution_count": null,
      "outputs": [
        {
          "output_type": "display_data",
          "data": {
            "text/plain": [
              "  0%|          | 0/3760 [00:00<?, ?it/s]"
            ],
            "application/vnd.jupyter.widget-view+json": {
              "version_major": 2,
              "version_minor": 0,
              "model_id": "59d5bd12f473482eac42797ed94ffb0e"
            }
          },
          "metadata": {}
        }
      ]
    },
    {
      "cell_type": "markdown",
      "source": [
        "тут ноут немного умер"
      ],
      "metadata": {
        "id": "y4cy643h5Nhd"
      }
    },
    {
      "cell_type": "code",
      "metadata": {
        "scrolled": true,
        "id": "gDtS520v6j35",
        "colab": {
          "base_uri": "https://localhost:8080/",
          "height": 153,
          "referenced_widgets": [
            "beb9c7a82ce544d481bd1a5156e35f14",
            "89324068ce1c4c96bf30e634a4d8ae77",
            "703ded3ddecc4257b8081fff7ac566e3",
            "99edb3207b794ef88106332b4b24a637",
            "4c95c76ee2a2492199a27635a8a1fada",
            "30208f27fd834ce5a56f48dd90a5a0b3",
            "79ea3e60fa644c7898c482f5be5b24dc",
            "49b2567086194cdf8abfa09f17d7c890",
            "861bf854e01144d4970c86b624122234",
            "c6eda32b4a5147a5ab8c55690cb5e1ca",
            "dd28a0b6a06449d884c3465c0a26d2e5"
          ]
        },
        "outputId": "4777fb5c-c2f9-411a-f7b2-0ad35d2f94f7"
      },
      "source": [
        "for k in tqdm([1, 5, 10, 100, 500, 1000]):\n",
        "    print(\"DCG@%4d: %.3f | Hits@%4d: %.3f\" % (k, dcg_score(wv_ranking, k), k, hits_count(wv_ranking, k)))"
      ],
      "execution_count": null,
      "outputs": [
        {
          "output_type": "display_data",
          "data": {
            "text/plain": [
              "  0%|          | 0/6 [00:00<?, ?it/s]"
            ],
            "application/vnd.jupyter.widget-view+json": {
              "version_major": 2,
              "version_minor": 0,
              "model_id": "beb9c7a82ce544d481bd1a5156e35f14"
            }
          },
          "metadata": {}
        },
        {
          "output_type": "stream",
          "name": "stdout",
          "text": [
            "DCG@   1: 0.390 | Hits@   1: 0.390\n",
            "DCG@   5: 0.490 | Hits@   5: 0.590\n",
            "DCG@  10: 0.522 | Hits@  10: 0.690\n",
            "DCG@ 100: 0.567 | Hits@ 100: 0.910\n",
            "DCG@ 500: 0.577 | Hits@ 500: 0.980\n",
            "DCG@1000: 0.579 | Hits@1000: 1.000\n"
          ]
        }
      ]
    },
    {
      "cell_type": "markdown",
      "source": [
        "Из формул выше можно понять, что\n",
        "\n",
        "- $ \\text{Hits@K} $ **монотонно неубывающая функция** $ K $, которая стремится к 1 при $ K \\to \\infty $.\n",
        "\n",
        "- $ \\text{DCG@K} $ **монотонно неубывающая функция** $ K $, но рост замедляется с увеличением $ K $ из-за убывания веса $ \\frac{1}{\\log_2(1 + \\text{rank}_{q'_i})} $."
      ],
      "metadata": {
        "id": "SZ16fNZ4mxTC"
      }
    },
    {
      "cell_type": "markdown",
      "metadata": {
        "id": "LL6_Rjg3InL8"
      },
      "source": [
        "### Эмбеддинги, обученные на корпусе похожих вопросов"
      ]
    },
    {
      "cell_type": "code",
      "metadata": {
        "id": "iNvbpR5gJIPz"
      },
      "source": [
        "train_data = read_corpus('/content/train.tsv')"
      ],
      "execution_count": null,
      "outputs": []
    },
    {
      "cell_type": "markdown",
      "metadata": {
        "id": "Nr281ZyEJfjT"
      },
      "source": [
        "Улучшите качество модели.<br>Склеим вопросы в пары и обучим на них модель Word2Vec из gensim. Выберите размер window. Объясните свой выбор.\n",
        "\n",
        "***Рассмотрим подробнее*** данное склеивание.\n",
        "\n",
        "1. Каждая строка из train_data разбивается на вопрос (question) и список кандидатов.\n",
        "\n",
        "2. Для каждого кандидата вопрос склеивается с ним в одну строку.\n",
        "\n",
        "3. Склеенная строка (combined_text) токенизируется, и полученный список токенов добавляется в общий корпус (corpus).\n",
        "\n",
        "***Пример***\n",
        "\n",
        "    Вопрос: \"What is Python?\"\n",
        "    Кандидаты: [\"Python is a programming language\", \"Java is another language\"]\n",
        "    Склеенные строки:\n",
        "        \"What is Python? Python is a programming language\"\n",
        "        \"What is Python? Java is another language\"\n",
        "         \n",
        "    Токенизированные списки:\n",
        "        ['what', 'is', 'python', 'python', 'is', 'a', 'programming', 'language']\n",
        "        ['what', 'is', 'python', 'java', 'is', 'another', 'language']\n",
        "         \n",
        "     "
      ]
    },
    {
      "cell_type": "code",
      "source": [
        "train_data[111258]"
      ],
      "metadata": {
        "id": "9NNgRRiu8-LL",
        "colab": {
          "base_uri": "https://localhost:8080/"
        },
        "outputId": "939dd8c1-a19d-4850-8113-8b0e07a90799"
      },
      "execution_count": null,
      "outputs": [
        {
          "output_type": "execute_result",
          "data": {
            "text/plain": [
              "['Determine if the device is a smartphone or tablet?',\n",
              " 'Change imageView params in all cards together']"
            ]
          },
          "metadata": {},
          "execution_count": 45
        }
      ]
    },
    {
      "cell_type": "code",
      "source": [
        "train_data[1]"
      ],
      "metadata": {
        "colab": {
          "base_uri": "https://localhost:8080/"
        },
        "id": "5WctG9UNzohy",
        "outputId": "3bb23e94-ab45-4eb2-ec85-cf671c9d32f3"
      },
      "execution_count": null,
      "outputs": [
        {
          "output_type": "execute_result",
          "data": {
            "text/plain": [
              "['Which HTML 5 Canvas Javascript to use for making an interactive drawing tool?',\n",
              " 'Event handling for geometries in Three.js?']"
            ]
          },
          "metadata": {},
          "execution_count": 46
        }
      ]
    },
    {
      "cell_type": "code",
      "source": [
        "train_data[1][1]"
      ],
      "metadata": {
        "colab": {
          "base_uri": "https://localhost:8080/",
          "height": 36
        },
        "id": "kTJW9Tb6xjXB",
        "outputId": "76dae074-ca9f-4453-c535-0f79c31e5acb"
      },
      "execution_count": null,
      "outputs": [
        {
          "output_type": "execute_result",
          "data": {
            "text/plain": [
              "'Event handling for geometries in Three.js?'"
            ],
            "application/vnd.google.colaboratory.intrinsic+json": {
              "type": "string"
            }
          },
          "metadata": {},
          "execution_count": 47
        }
      ]
    },
    {
      "cell_type": "code",
      "metadata": {
        "id": "f6Y46SSQMTL0"
      },
      "source": [
        "from array import array\n",
        "# Создаем общий корпус текстов\n",
        "corpus = []\n",
        "\n",
        "def new_corpus(train_data,tokenizer):\n",
        "  for item in train_data:\n",
        "    for j in range(len(item)):\n",
        "      if j!=0:\n",
        "        text=[item[0], item[j]]\n",
        "        combined_text=\" \".join(text)\n",
        "        tokens = tokenizer.tokenize(combined_text)\n",
        "        corpus.append(tokens)\n",
        "  return corpus\n",
        "\n",
        "corpus=new_corpus(train_data,tokenizer)"
      ],
      "execution_count": null,
      "outputs": []
    },
    {
      "cell_type": "code",
      "source": [
        "corpus[0]"
      ],
      "metadata": {
        "colab": {
          "base_uri": "https://localhost:8080/"
        },
        "id": "T1SobS8s7Vb3",
        "outputId": "8887c969-2287-466c-f04d-bac4f711d940"
      },
      "execution_count": null,
      "outputs": [
        {
          "output_type": "execute_result",
          "data": {
            "text/plain": [
              "['converting',\n",
              " 'string',\n",
              " 'to',\n",
              " 'list',\n",
              " 'convert',\n",
              " 'google',\n",
              " 'results',\n",
              " 'object',\n",
              " 'pure',\n",
              " 'js',\n",
              " 'to',\n",
              " 'python',\n",
              " 'object']"
            ]
          },
          "metadata": {},
          "execution_count": 51
        }
      ]
    },
    {
      "cell_type": "markdown",
      "source": [
        "беру окно в 3 слова, тк предложения не слишком большие, ставить окно в 5 слов не имеет смысла"
      ],
      "metadata": {
        "id": "kRqfZ8kMxm6T"
      }
    },
    {
      "cell_type": "code",
      "metadata": {
        "id": "QuJzAM0cI-UH"
      },
      "source": [
        "from gensim.models import Word2Vec\n",
        "embeddings_trained = Word2Vec(\n",
        "    sentences=corpus,        # Корпус токенизированных текстов\n",
        "    vector_size=200,         # Размерность векторов\n",
        "    window=3,                # Размер окна контекста\n",
        "    min_count=3,             # Минимальная частота слов\n",
        "    workers=4                # Количество потоков\n",
        ").wv"
      ],
      "execution_count": null,
      "outputs": []
    },
    {
      "cell_type": "code",
      "metadata": {
        "id": "OQonbm4nMenD",
        "colab": {
          "base_uri": "https://localhost:8080/",
          "height": 49,
          "referenced_widgets": [
            "3fa0579fc40c4219910cb62ce61f81fd",
            "26a0233aedc54c529bbf2d134ee1d9f9",
            "9607fdfe47074352819a44baa01aa0d4",
            "70625cd27e2249e79ab8a4abcfa2b1f3",
            "69fc0b4c72d64036a7cdb8b3f90ce647",
            "dc53f379ba81474a810de4809eaaa6f2",
            "8c9cd69da9344997b736c7b3e849e1ed",
            "5464663b7ce5485dbbe1be61a858b0c7",
            "be293805eea94835870062d5c5b3a210",
            "1e35e3c184234a91aa1ec7f05a32015b",
            "5fb76215cb5443f19a56a0fd55cd13fb"
          ]
        },
        "outputId": "3746b0bc-4d3b-49da-b2d2-2dc7164e1c6a"
      },
      "source": [
        "wv_ranking = []\n",
        "max_validation_examples = 1000\n",
        "for i, line in enumerate(tqdm(validation_data)):\n",
        "    if i == max_validation_examples:\n",
        "        break\n",
        "    q, *ex = line\n",
        "    ranks = rank_candidates(q, ex, embeddings_trained, tokenizer)\n",
        "    wv_ranking.append([r[0] for r in ranks].index(0) + 1)"
      ],
      "execution_count": null,
      "outputs": [
        {
          "output_type": "display_data",
          "data": {
            "text/plain": [
              "  0%|          | 0/3760 [00:00<?, ?it/s]"
            ],
            "application/vnd.jupyter.widget-view+json": {
              "version_major": 2,
              "version_minor": 0,
              "model_id": "3fa0579fc40c4219910cb62ce61f81fd"
            }
          },
          "metadata": {}
        }
      ]
    },
    {
      "cell_type": "code",
      "metadata": {
        "id": "3kahBUPGMgGR",
        "colab": {
          "base_uri": "https://localhost:8080/",
          "height": 153,
          "referenced_widgets": [
            "8e69ab36bb9b4af3a428c157c50eb726",
            "75c241f0d6864654983617a6a204a6f0",
            "ac9e1c0dc14d45c2b2dedf4fb55c8791",
            "ff3b86e4bb76423fb5814de6abb75e7e",
            "1bf66df92e114811beeb74efe7879e07",
            "5b1aa640ca234e65822033f5b984c156",
            "b8e606a58a4047d09d0118ab34b07d07",
            "64467b551a074882bc5c4153aef98b68",
            "372fd31fe54f46bda8ba6239c4311eb3",
            "ae9f9d7afd584c51aad79bdaa71af1de",
            "2712a78d702c44afbed46c7ca1116569"
          ]
        },
        "outputId": "367247ff-8286-467d-8eac-c2c554559f6b"
      },
      "source": [
        "for k in tqdm([1, 5, 10, 100, 500, 1000]):\n",
        "    print(\"DCG@%4d: %.3f | Hits@%4d: %.3f\" % (k, dcg_score(wv_ranking, k), k, hits_count(wv_ranking, k)))"
      ],
      "execution_count": null,
      "outputs": [
        {
          "output_type": "display_data",
          "data": {
            "text/plain": [
              "  0%|          | 0/6 [00:00<?, ?it/s]"
            ],
            "application/vnd.jupyter.widget-view+json": {
              "version_major": 2,
              "version_minor": 0,
              "model_id": "8e69ab36bb9b4af3a428c157c50eb726"
            }
          },
          "metadata": {}
        },
        {
          "output_type": "stream",
          "name": "stdout",
          "text": [
            "DCG@   1: 0.305 | Hits@   1: 0.305\n",
            "DCG@   5: 0.375 | Hits@   5: 0.441\n",
            "DCG@  10: 0.394 | Hits@  10: 0.500\n",
            "DCG@ 100: 0.449 | Hits@ 100: 0.768\n",
            "DCG@ 500: 0.472 | Hits@ 500: 0.943\n",
            "DCG@1000: 0.478 | Hits@1000: 1.000\n"
          ]
        }
      ]
    },
    {
      "cell_type": "markdown",
      "source": [
        "##  **Попробуем улучшить скор**"
      ],
      "metadata": {
        "id": "El_UkZQ8eA9q"
      }
    },
    {
      "cell_type": "markdown",
      "source": [
        "###  ***Попытка 1 - покрутим настройки***"
      ],
      "metadata": {
        "id": "cAXq12p7hEas"
      }
    },
    {
      "cell_type": "code",
      "source": [
        "embeddings_trained = Word2Vec(\n",
        "    sentences=corpus,        # Корпус токенизированных текстов\n",
        "    vector_size=200,         # Размерность векторов\n",
        "    window=5,                # Размер окна контекста\n",
        "    min_count=2,             # Минимальная частота слов\n",
        "    workers=5               # Количество потоков\n",
        ").wv"
      ],
      "metadata": {
        "id": "lYvyFSWsfkY_"
      },
      "execution_count": null,
      "outputs": []
    },
    {
      "cell_type": "code",
      "source": [
        "wv_ranking = []\n",
        "max_validation_examples = 1000\n",
        "for i, line in enumerate(tqdm(validation_data)):\n",
        "    if i == max_validation_examples:\n",
        "        break\n",
        "    q, *ex = line\n",
        "    ranks = rank_candidates(q, ex, embeddings_trained, tokenizer)\n",
        "    wv_ranking.append([r[0] for r in ranks].index(0) + 1)"
      ],
      "metadata": {
        "colab": {
          "base_uri": "https://localhost:8080/",
          "height": 49,
          "referenced_widgets": [
            "708cf000d2214de6b41d3e2389ae491e",
            "4f977377848146e19baac529bd79169a",
            "17015316d98447de881c2c48116f043f",
            "bdf2cb5941f842fc9beb791b37bc089c",
            "2d42443b92ce492e9d9099ed99f4ae18",
            "404cb48052834f53aa217a4f33dda55a",
            "898ae2ea0d724a13b569baf0431b2747",
            "70645f55e12e4da8a11fd60435b2f012",
            "5e30027bd03c44aabaa8d7352a13eb90",
            "5af426e3979e4da99097af4116067534",
            "e88d1fd87adf4992abfc6f56f3cd6a09"
          ]
        },
        "id": "-j1aHB6pfkcQ",
        "outputId": "3e8e2a0c-afeb-4454-c83b-12bba0564f67"
      },
      "execution_count": null,
      "outputs": [
        {
          "output_type": "display_data",
          "data": {
            "text/plain": [
              "  0%|          | 0/1958 [00:00<?, ?it/s]"
            ],
            "application/vnd.jupyter.widget-view+json": {
              "version_major": 2,
              "version_minor": 0,
              "model_id": "708cf000d2214de6b41d3e2389ae491e"
            }
          },
          "metadata": {}
        }
      ]
    },
    {
      "cell_type": "code",
      "source": [
        "for k in tqdm([1, 5, 10, 100, 500, 1000]):\n",
        "    print(\"DCG@%4d: %.3f | Hits@%4d: %.3f\" % (k, dcg_score(wv_ranking, k), k, hits_count(wv_ranking, k)))"
      ],
      "metadata": {
        "colab": {
          "base_uri": "https://localhost:8080/",
          "height": 158,
          "referenced_widgets": [
            "12975ef356954860a0a3c7a8b8e7c977",
            "52b5144406754d4e851f307aa8aba7a5",
            "590538dcecff4b7c8ab17b3de272f446",
            "0c0ed9f0572b4342888d9fba7f19c81b",
            "4e9e60ccc7fd4742a5b8031fc27ab5ce",
            "d2f947f77dd24e2aacfcce1f81495837",
            "9d397214ae0a4d4b86d5564941d5c07c",
            "c3251e57ef1f41b0afe456a963639a82",
            "7c96f883990e40b9824373ef5dfca9ac",
            "291913a791494713b24f9f1dd884357d",
            "fb21672685254d09b10f1131e064ed9f"
          ]
        },
        "id": "lApXMZiifkgP",
        "outputId": "6653bf4d-f928-4df4-f2e8-543ed8223216"
      },
      "execution_count": null,
      "outputs": [
        {
          "output_type": "display_data",
          "data": {
            "text/plain": [
              "  0%|          | 0/6 [00:00<?, ?it/s]"
            ],
            "application/vnd.jupyter.widget-view+json": {
              "version_major": 2,
              "version_minor": 0,
              "model_id": "12975ef356954860a0a3c7a8b8e7c977"
            }
          },
          "metadata": {}
        },
        {
          "output_type": "stream",
          "name": "stdout",
          "text": [
            "DCG@   1: 0.315 | Hits@   1: 0.315\n",
            "DCG@   5: 0.392 | Hits@   5: 0.461\n",
            "DCG@  10: 0.415 | Hits@  10: 0.534\n",
            "DCG@ 100: 0.468 | Hits@ 100: 0.792\n",
            "DCG@ 500: 0.488 | Hits@ 500: 0.945\n",
            "DCG@1000: 0.494 | Hits@1000: 1.000\n"
          ]
        }
      ]
    },
    {
      "cell_type": "markdown",
      "source": [
        "###  ***Попытка 2 WordPunctTokenizer*** - попробуем другой токенайзер"
      ],
      "metadata": {
        "id": "0Ca1Tw3fhINr"
      }
    },
    {
      "cell_type": "code",
      "source": [
        "from nltk.tokenize import WordPunctTokenizer\n",
        "\n",
        "tokenizer=WordPunctTokenizer()\n",
        "\n",
        "corpus=new_corpus(train_data,tokenizer)"
      ],
      "metadata": {
        "id": "09us-J4GhCWp"
      },
      "execution_count": null,
      "outputs": []
    },
    {
      "cell_type": "code",
      "source": [
        "corpus[0]"
      ],
      "metadata": {
        "colab": {
          "base_uri": "https://localhost:8080/"
        },
        "id": "W-xmrhhVhCe-",
        "outputId": "d0ca52a1-84c1-42ec-c1e3-592c7a710fed"
      },
      "execution_count": null,
      "outputs": [
        {
          "output_type": "execute_result",
          "data": {
            "text/plain": [
              "['converting',\n",
              " 'string',\n",
              " 'to',\n",
              " 'list',\n",
              " 'convert',\n",
              " 'google',\n",
              " 'results',\n",
              " 'object',\n",
              " 'pure',\n",
              " 'js',\n",
              " 'to',\n",
              " 'python',\n",
              " 'object']"
            ]
          },
          "metadata": {},
          "execution_count": 52
        }
      ]
    },
    {
      "cell_type": "code",
      "source": [
        "embeddings_trained = Word2Vec(\n",
        "    sentences=corpus,        # Корпус токенизированных текстов\n",
        "    vector_size=200,         # Размерность векторов\n",
        "    window=5,                # Размер окна контекста\n",
        "    min_count=2,             # Минимальная частота слов\n",
        "    workers=5               # Количество потоков\n",
        ").wv"
      ],
      "metadata": {
        "id": "bUdetY94jpgR"
      },
      "execution_count": null,
      "outputs": []
    },
    {
      "cell_type": "code",
      "source": [
        "wv_ranking = []\n",
        "max_validation_examples = 1000\n",
        "for i, line in enumerate(tqdm(validation_data)):\n",
        "    if i == max_validation_examples:\n",
        "        break\n",
        "    q, *ex = line\n",
        "    ranks = rank_candidates(q, ex, embeddings_trained, tokenizer)\n",
        "    wv_ranking.append([r[0] for r in ranks].index(0) + 1)\n",
        "\n",
        "for k in tqdm([1, 5, 10, 100, 500, 1000]):\n",
        "    print(\"DCG@%4d: %.3f | Hits@%4d: %.3f\" % (k, dcg_score(wv_ranking, k), k, hits_count(wv_ranking, k)))"
      ],
      "metadata": {
        "colab": {
          "base_uri": "https://localhost:8080/",
          "height": 190,
          "referenced_widgets": [
            "7cda88f1d9364af6a0bba15cb8439e8a",
            "bef0afa50f424a4bb0069fa696d346c7",
            "d9c9e968e410479b8bf9dfe46be252a0",
            "2fa8363c48314d3aaecd33b72d4391b9",
            "7f8ccba68e434a6085e34bbf1e77767a",
            "c006f543251f4cc4be85297369fa591f",
            "c344a273e09141928a713c4d1c4546e6",
            "b238f444bf06400e901eacf394748452",
            "1eec935dd45f4768a000c224273019e3",
            "761c9c6fed634c8f8ca0f81823638fdb",
            "e2903bae17d04b639f72eef7590779d2",
            "8b94607abfae496abe7f0e85283da4a1",
            "e4abcdd2c89d4df2a769fe6196ef526b",
            "48368221c0b04a50a8c8e432b7eff018",
            "b2a22bb9eb094c319daec46f69fe393a",
            "30be58ecd37545e09ed2583f2b527d87",
            "757c3b0cb5db44f1b86be2c969b9766d",
            "cb819cca0a434ff1a3b6fbbb0118d871",
            "abb07bf2579d4a5a96726ca38fbf2fd9",
            "efde2a17ed1e42dc94543e0933781cf3",
            "cb98492dacf6449b9285964625c8486a",
            "5ef12568dd4a43148093e8f1e2bc3cae"
          ]
        },
        "id": "w9epB83tlsLx",
        "outputId": "f2632971-64e4-4e10-a014-e8cee9ec5737"
      },
      "execution_count": null,
      "outputs": [
        {
          "output_type": "display_data",
          "data": {
            "text/plain": [
              "  0%|          | 0/1958 [00:00<?, ?it/s]"
            ],
            "application/vnd.jupyter.widget-view+json": {
              "version_major": 2,
              "version_minor": 0,
              "model_id": "7cda88f1d9364af6a0bba15cb8439e8a"
            }
          },
          "metadata": {}
        },
        {
          "output_type": "display_data",
          "data": {
            "text/plain": [
              "  0%|          | 0/6 [00:00<?, ?it/s]"
            ],
            "application/vnd.jupyter.widget-view+json": {
              "version_major": 2,
              "version_minor": 0,
              "model_id": "8b94607abfae496abe7f0e85283da4a1"
            }
          },
          "metadata": {}
        },
        {
          "output_type": "stream",
          "name": "stdout",
          "text": [
            "DCG@   1: 0.270 | Hits@   1: 0.270\n",
            "DCG@   5: 0.335 | Hits@   5: 0.397\n",
            "DCG@  10: 0.355 | Hits@  10: 0.459\n",
            "DCG@ 100: 0.409 | Hits@ 100: 0.732\n",
            "DCG@ 500: 0.435 | Hits@ 500: 0.930\n",
            "DCG@1000: 0.442 | Hits@1000: 1.000\n"
          ]
        }
      ]
    },
    {
      "cell_type": "markdown",
      "source": [
        "###  ***Попытка 3 - стеммер и WordPunctTokenizer***"
      ],
      "metadata": {
        "id": "Q4hTHilenYnc"
      }
    },
    {
      "cell_type": "markdown",
      "source": [
        "Сначала разберемся, что такое стемминг, что такое лематизация. Если кратко, то **стемминг** - процесс удаления суффиксов из слова. Для понимания ниже я прикреплю картинку ([источник](https://databasecamp.de/en/data/stemming-lemmatization))."
      ],
      "metadata": {
        "id": "e_mygdCQ81YX"
      }
    },
    {
      "cell_type": "markdown",
      "source": [
        "![image.png](data:image/png;base64,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)"
      ],
      "metadata": {
        "id": "UhQuau829X-j"
      }
    },
    {
      "cell_type": "markdown",
      "source": [
        "В то время как **лемматизация** помогает найти начальную форму слова."
      ],
      "metadata": {
        "id": "z7BNioxB9YEu"
      }
    },
    {
      "cell_type": "markdown",
      "source": [
        "![image.png](data:image/png;base64,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)"
      ],
      "metadata": {
        "id": "yDiulZ6Q9YGf"
      }
    },
    {
      "cell_type": "code",
      "source": [
        "from nltk.tokenize import WordPunctTokenizer\n",
        "from nltk.stem import PorterStemmer\n",
        "\n",
        "ps = PorterStemmer()\n",
        "tokenizer = WordPunctTokenizer()\n",
        "\n",
        "corpus = []\n",
        "\n",
        "def new_corpus(train_data, tokenizer):\n",
        "    corpus = []\n",
        "    for item in train_data:\n",
        "        for j in range(len(item)):\n",
        "            if j != 0:\n",
        "                text = [item[0], item[j]]\n",
        "                combined_text = \" \".join(text)\n",
        "                tokens = tokenizer.tokenize(combined_text)  # Токенизация\n",
        "                stemmed_tokens = [ps.stem(word) for word in tokens]  # Применяем стеммер\n",
        "                corpus.append(stemmed_tokens)  # Добавляем в корпус\n",
        "    return corpus\n",
        "\n",
        "corpus = new_corpus(train_data, tokenizer)\n",
        "corpus"
      ],
      "metadata": {
        "id": "099LBPDzlsQy",
        "collapsed": true
      },
      "execution_count": null,
      "outputs": []
    },
    {
      "cell_type": "code",
      "source": [
        "embeddings_trained = Word2Vec(\n",
        "    sentences=corpus,        # Корпус токенизированных текстов\n",
        "    vector_size=200,         # Размерность векторов\n",
        "    window=5,                # Размер окна контекста\n",
        "    min_count=2,             # Минимальная частота слов\n",
        "    workers=5               # Количество потоков\n",
        ").wv"
      ],
      "metadata": {
        "id": "EB50Y9gglsVS"
      },
      "execution_count": null,
      "outputs": []
    },
    {
      "cell_type": "code",
      "source": [
        "wv_ranking = []\n",
        "max_validation_examples = 1000\n",
        "for i, line in enumerate(tqdm(validation_data)):\n",
        "    if i == max_validation_examples:\n",
        "        break\n",
        "    q, *ex = line\n",
        "    ranks = rank_candidates(q, ex, embeddings_trained, tokenizer)\n",
        "    wv_ranking.append([r[0] for r in ranks].index(0) + 1)\n",
        "\n",
        "for k in tqdm([1, 5, 10, 100, 500, 1000]):\n",
        "    print(\"DCG@%4d: %.3f | Hits@%4d: %.3f\" % (k, dcg_score(wv_ranking, k), k, hits_count(wv_ranking, k)))"
      ],
      "metadata": {
        "colab": {
          "base_uri": "https://localhost:8080/",
          "height": 185,
          "referenced_widgets": [
            "53b025d9fa0f4f0c9be08932db40282a",
            "dda114d235964c3f974f14612be2bf36",
            "2a4737de59f64073848b02cb29d353f9",
            "2fb85ac3a4e84caa80ff2ad2a7bb5f13",
            "14fc878e0fb14f64b077b0fa0a4ffb58",
            "c83b2b89357041ef80691ba6d2643ec8",
            "1cb1d0fe44d84e2a988b6f6ccb709be7",
            "86051271f6354b268412470126557728",
            "a98850bdd0404e9495ae32a24fdd6d07",
            "6445af0729e544e4886d07724dd7c83f",
            "dd7cf4e2a11b42638b2b051a25912d85",
            "11a97d7d290c4f03a0028d1c34415c1c",
            "dc26148d988646469af5399887448e60",
            "9fe834cb3307493ab8de6bdfc358b020",
            "c36d62b3d57f421db004c27d5ceec976",
            "bc32a9f9fc654b1e86d530a8c40c7943",
            "b406f4947e6a4ad0b4c9afeef58b257e",
            "921980b1ca9840bb904b5daf3bc783fe",
            "c9d2702b31ee4d39b0a1fbb168397ead",
            "ceeff8f7022e416e998219ad54d734dc",
            "8792afca780a408ba7821a22b95bdb98",
            "2cb0addbd11a4d7d8a548f50f50b58e9"
          ]
        },
        "id": "N_7AvtiZLg6k",
        "outputId": "8a2af9e5-9d21-44e0-a189-a64e7d3b8488"
      },
      "execution_count": null,
      "outputs": [
        {
          "output_type": "display_data",
          "data": {
            "text/plain": [
              "  0%|          | 0/3760 [00:00<?, ?it/s]"
            ],
            "application/vnd.jupyter.widget-view+json": {
              "version_major": 2,
              "version_minor": 0,
              "model_id": "53b025d9fa0f4f0c9be08932db40282a"
            }
          },
          "metadata": {}
        },
        {
          "output_type": "display_data",
          "data": {
            "text/plain": [
              "  0%|          | 0/6 [00:00<?, ?it/s]"
            ],
            "application/vnd.jupyter.widget-view+json": {
              "version_major": 2,
              "version_minor": 0,
              "model_id": "11a97d7d290c4f03a0028d1c34415c1c"
            }
          },
          "metadata": {}
        },
        {
          "output_type": "stream",
          "name": "stdout",
          "text": [
            "DCG@   1: 0.142 | Hits@   1: 0.142\n",
            "DCG@   5: 0.184 | Hits@   5: 0.221\n",
            "DCG@  10: 0.200 | Hits@  10: 0.271\n",
            "DCG@ 100: 0.241 | Hits@ 100: 0.482\n",
            "DCG@ 500: 0.276 | Hits@ 500: 0.764\n",
            "DCG@1000: 0.301 | Hits@1000: 1.000\n"
          ]
        }
      ]
    },
    {
      "cell_type": "markdown",
      "source": [
        "### ***Попытка 4 - личный токенайзер и стеммер***"
      ],
      "metadata": {
        "id": "JRy2P_ccT-uK"
      }
    },
    {
      "cell_type": "code",
      "source": [
        "tokenizer = MyTokenizer()\n",
        "ps = PorterStemmer()\n",
        "\n",
        "corpus = []\n",
        "\n",
        "def new_corpus(train_data, tokenizer):\n",
        "    corpus = []\n",
        "    for item in train_data:\n",
        "        for j in range(len(item)):\n",
        "            if j != 0:\n",
        "                text = [item[0], item[j]]\n",
        "                combined_text = \" \".join(text)\n",
        "                tokens = tokenizer.tokenize(combined_text)  # Токенизация\n",
        "                stemmed_tokens = [ps.stem(word) for word in tokens]  # Применяем стеммер\n",
        "                corpus.append(stemmed_tokens)  # Добавляем в корпус\n",
        "    return corpus\n",
        "\n",
        "corpus = new_corpus(train_data, tokenizer)\n",
        "corpus[0]"
      ],
      "metadata": {
        "colab": {
          "base_uri": "https://localhost:8080/"
        },
        "id": "cp-As-jlLg9I",
        "outputId": "36eac374-ec9a-4894-e911-4a84fcc96c1f"
      },
      "execution_count": null,
      "outputs": [
        {
          "output_type": "execute_result",
          "data": {
            "text/plain": [
              "['convert',\n",
              " 'string',\n",
              " 'to',\n",
              " 'list',\n",
              " 'convert',\n",
              " 'googl',\n",
              " 'result',\n",
              " 'object',\n",
              " 'pure',\n",
              " 'js',\n",
              " 'to',\n",
              " 'python',\n",
              " 'object']"
            ]
          },
          "metadata": {},
          "execution_count": 59
        }
      ]
    },
    {
      "cell_type": "code",
      "source": [
        "embeddings_trained = Word2Vec(\n",
        "    sentences=corpus,        # Корпус токенизированных текстов\n",
        "    vector_size=200,         # Размерность векторов\n",
        "    window=5,                # Размер окна контекста\n",
        "    min_count=2,             # Минимальная частота слов\n",
        "    workers=5               # Количество потоков\n",
        ").wv"
      ],
      "metadata": {
        "id": "mBmZnm1iTwzr"
      },
      "execution_count": null,
      "outputs": []
    },
    {
      "cell_type": "code",
      "source": [
        "wv_ranking = []\n",
        "max_validation_examples = 1000\n",
        "for i, line in enumerate(tqdm(validation_data)):\n",
        "    if i == max_validation_examples:\n",
        "        break\n",
        "    q, *ex = line\n",
        "    ranks = rank_candidates(q, ex, embeddings_trained, tokenizer)\n",
        "    wv_ranking.append([r[0] for r in ranks].index(0) + 1)\n",
        "\n",
        "for k in tqdm([1, 5, 10, 100, 500, 1000]):\n",
        "    print(\"DCG@%4d: %.3f | Hits@%4d: %.3f\" % (k, dcg_score(wv_ranking, k), k, hits_count(wv_ranking, k)))"
      ],
      "metadata": {
        "colab": {
          "base_uri": "https://localhost:8080/",
          "height": 185,
          "referenced_widgets": [
            "45696bfe91904ca08f7e69309eb0708b",
            "d52e6ca074c24115bd4d6fe215949cf4",
            "edfeb9d31a2a44c58e91b0eda32cf309",
            "b0e7239b6b9c475a9a987889fb27bf6f",
            "52ae0b90f1ef4e5d9a7fa54ad8e39a7e",
            "1fdd52518e52434fa6e61c22aaf4169c",
            "75734bcbdfbd4151a1bf1e25194d050e",
            "6c060a4e2c934f009bb8de4fc5891146",
            "d36fc2a758a1465aa974bfbc9a9b2f85",
            "733309165cce47b9bb636a0767d7c1f5",
            "cf5ec0f86b2a4319a95a62d410b3116d",
            "66fce1ee285147d9b43ff80cc857d8be",
            "d8a31c8478234da985fa4c124ab6a85c",
            "cb0d86a2c88d49fa8ee51645640b5b06",
            "993f58b417364bfea3e710837d9bedae",
            "b7f0423822bc421dbdac4d57f0731b94",
            "5ffbf37a116946b2b105c25ec909f7c6",
            "527722afc9ed4bc88c3af5e72f1ae870",
            "79c3fb136dbd4dcfbbdb5b82f0dc3a08",
            "c6933758fc074b8e8bcb14a36e9eee23",
            "f6b29a5836814c73a89e183ef33aeb0d",
            "98870bb44aaf404f84138658341bcfac"
          ]
        },
        "id": "GFriwWYBTw3I",
        "outputId": "a6677c49-914b-43b4-8072-e2018868977a"
      },
      "execution_count": null,
      "outputs": [
        {
          "output_type": "display_data",
          "data": {
            "text/plain": [
              "  0%|          | 0/3760 [00:00<?, ?it/s]"
            ],
            "application/vnd.jupyter.widget-view+json": {
              "version_major": 2,
              "version_minor": 0,
              "model_id": "45696bfe91904ca08f7e69309eb0708b"
            }
          },
          "metadata": {}
        },
        {
          "output_type": "display_data",
          "data": {
            "text/plain": [
              "  0%|          | 0/6 [00:00<?, ?it/s]"
            ],
            "application/vnd.jupyter.widget-view+json": {
              "version_major": 2,
              "version_minor": 0,
              "model_id": "66fce1ee285147d9b43ff80cc857d8be"
            }
          },
          "metadata": {}
        },
        {
          "output_type": "stream",
          "name": "stdout",
          "text": [
            "DCG@   1: 0.221 | Hits@   1: 0.221\n",
            "DCG@   5: 0.283 | Hits@   5: 0.341\n",
            "DCG@  10: 0.303 | Hits@  10: 0.404\n",
            "DCG@ 100: 0.353 | Hits@ 100: 0.650\n",
            "DCG@ 500: 0.383 | Hits@ 500: 0.881\n",
            "DCG@1000: 0.395 | Hits@1000: 1.000\n"
          ]
        }
      ]
    },
    {
      "cell_type": "markdown",
      "source": [
        "### ***Попытка 5 - стеммер, убираем стоп-слова,свой токенайзер***"
      ],
      "metadata": {
        "id": "FsvOs-eYZCOD"
      }
    },
    {
      "cell_type": "markdown",
      "source": [
        "Стоп-словами в понимании нашей модели будут слова, которые:\n",
        "1. часто встречаются\n",
        "2. несут мало смысловой нагрузки\n",
        "\n",
        "Примерами таких слов могут стать предлоги - но нужно помнить о том, что если убрать отрицательную частицу \"не\" - смысл предложения изменится."
      ],
      "metadata": {
        "id": "-sz8OoFn-Shk"
      }
    },
    {
      "cell_type": "code",
      "source": [
        "import nltk\n",
        "nltk.download('stopwords')\n",
        "\n",
        "from nltk.corpus import stopwords\n",
        "stopWords = set(stopwords.words('english'))\n",
        "tokenizer = MyTokenizer()\n",
        "ps = PorterStemmer()\n",
        "\n",
        "corpus = []\n",
        "\n",
        "def new_corpus(train_data, tokenizer):\n",
        "    corpus = []\n",
        "    for item in train_data:\n",
        "        for j in range(len(item)):\n",
        "            if j != 0:\n",
        "                text = [item[0], item[j]]\n",
        "                combined_text = \" \".join(text)\n",
        "                tokens = tokenizer.tokenize(combined_text)  # Токенизация\n",
        "                tokens_filtered=[word for word in tokens if word not in stopWords]   # убираем стоп-слова\n",
        "                stemmed_tokens = [ps.stem(word) for word in tokens_filtered]  # Применяем стеммер\n",
        "                corpus.append(stemmed_tokens)  # Добавляем в корпус\n",
        "    return corpus\n",
        "\n",
        "corpus = new_corpus(train_data, tokenizer)\n",
        "corpus[0]"
      ],
      "metadata": {
        "colab": {
          "base_uri": "https://localhost:8080/"
        },
        "id": "LZQGQ5F8X_r3",
        "outputId": "30fa42e1-7839-466e-90e8-b1fad66603b1"
      },
      "execution_count": null,
      "outputs": [
        {
          "output_type": "stream",
          "name": "stderr",
          "text": [
            "[nltk_data] Downloading package stopwords to /root/nltk_data...\n",
            "[nltk_data]   Unzipping corpora/stopwords.zip.\n"
          ]
        },
        {
          "output_type": "execute_result",
          "data": {
            "text/plain": [
              "['convert',\n",
              " 'string',\n",
              " 'list',\n",
              " 'convert',\n",
              " 'googl',\n",
              " 'result',\n",
              " 'object',\n",
              " 'pure',\n",
              " 'js',\n",
              " 'python',\n",
              " 'object']"
            ]
          },
          "metadata": {},
          "execution_count": 64
        }
      ]
    },
    {
      "cell_type": "code",
      "source": [
        "embeddings_trained = Word2Vec(\n",
        "    sentences=corpus,        # Корпус токенизированных текстов\n",
        "    vector_size=200,         # Размерность векторов\n",
        "    window=5,                # Размер окна контекста\n",
        "    min_count=6,             # Минимальная частота слов\n",
        "    workers=5               # Количество потоков\n",
        ").wv"
      ],
      "metadata": {
        "id": "GOsN4e5hX_uY"
      },
      "execution_count": null,
      "outputs": []
    },
    {
      "cell_type": "code",
      "source": [
        "wv_ranking = []\n",
        "max_validation_examples = 1000\n",
        "for i, line in enumerate(tqdm(validation_data)):\n",
        "    if i == max_validation_examples:\n",
        "        break\n",
        "    q, *ex = line\n",
        "    ranks = rank_candidates(q, ex, embeddings_trained, tokenizer)\n",
        "    wv_ranking.append([r[0] for r in ranks].index(0) + 1)\n",
        "\n",
        "for k in tqdm([1, 5, 10, 100, 500, 1000]):\n",
        "    print(\"DCG@%4d: %.3f | Hits@%4d: %.3f\" % (k, dcg_score(wv_ranking, k), k, hits_count(wv_ranking, k)))"
      ],
      "metadata": {
        "colab": {
          "base_uri": "https://localhost:8080/",
          "height": 185,
          "referenced_widgets": [
            "af4549f133d64d38a3cb51c18d822da1",
            "251b05ba041f4117aebf3eb7fbf8112b",
            "3f3e76e15d8746caa67877d0eca367cd",
            "79fb39e00589496da375e0597f40a301",
            "01e6d02ae30c46c2a5e50dc593793abd",
            "d1815be32b2f4bfd9dd87780d364f5cf",
            "7d057b7f51404be78a765b9ed6e6baac",
            "a02d7dbfc6c748afab05821b0fd951f2",
            "dbacc68fbb634fd6a9efb9a566aab87f",
            "82d156f29dfc4d338a15755c540b0695",
            "3dc0307dbc7e4e8abf57dea37aa7c542",
            "4d39f4df16c54a0cbc6819c79855f3e0",
            "dac81d51f93846c781162ea55b6872bc",
            "4f396f44c9a743a6b9608b77106b577b",
            "2ff35e0c89f9423ea8b88ff315f9fda3",
            "b8b68f4b04524a2d9eff369c824911f5",
            "f5506cbfaa2145389cab34015bf0dba4",
            "cc07e6736dd84014a6d97467025a7a37",
            "44460a191210435bbd3575c39d5cfeed",
            "3ac83f55febd4379818cfc7ee8ad0968",
            "a38865430fc646dfacac739a2621533e",
            "a74e55c3feb146e7a89f0d8eaabbf5f8"
          ]
        },
        "id": "4TWClWQ6X_wu",
        "outputId": "429ca4bc-bfc9-4cd4-d413-14d705be999b"
      },
      "execution_count": null,
      "outputs": [
        {
          "output_type": "display_data",
          "data": {
            "text/plain": [
              "  0%|          | 0/3760 [00:00<?, ?it/s]"
            ],
            "application/vnd.jupyter.widget-view+json": {
              "version_major": 2,
              "version_minor": 0,
              "model_id": "af4549f133d64d38a3cb51c18d822da1"
            }
          },
          "metadata": {}
        },
        {
          "output_type": "display_data",
          "data": {
            "text/plain": [
              "  0%|          | 0/6 [00:00<?, ?it/s]"
            ],
            "application/vnd.jupyter.widget-view+json": {
              "version_major": 2,
              "version_minor": 0,
              "model_id": "4d39f4df16c54a0cbc6819c79855f3e0"
            }
          },
          "metadata": {}
        },
        {
          "output_type": "stream",
          "name": "stdout",
          "text": [
            "DCG@   1: 0.290 | Hits@   1: 0.290\n",
            "DCG@   5: 0.385 | Hits@   5: 0.469\n",
            "DCG@  10: 0.407 | Hits@  10: 0.535\n",
            "DCG@ 100: 0.449 | Hits@ 100: 0.745\n",
            "DCG@ 500: 0.472 | Hits@ 500: 0.921\n",
            "DCG@1000: 0.481 | Hits@1000: 1.000\n"
          ]
        }
      ]
    },
    {
      "cell_type": "markdown",
      "source": [
        "--------------"
      ],
      "metadata": {
        "id": "V_M-lbGv5iAO"
      }
    },
    {
      "cell_type": "markdown",
      "source": [
        "## **Итоговый выбор:**"
      ],
      "metadata": {
        "id": "GljeCyfE_L9p"
      }
    },
    {
      "cell_type": "markdown",
      "source": [
        "Оставляю модель со стеммингом, собственным токенайзером и убранными стоп-словами. для улучшения модели можно также попробовать использовать поиск имен собственных и другие эмбеддинги."
      ],
      "metadata": {
        "id": "pOL6r678_INj"
      }
    },
    {
      "cell_type": "code",
      "source": [],
      "metadata": {
        "id": "o6sIdWiq_Ldq"
      },
      "execution_count": null,
      "outputs": []
    }
  ]
}